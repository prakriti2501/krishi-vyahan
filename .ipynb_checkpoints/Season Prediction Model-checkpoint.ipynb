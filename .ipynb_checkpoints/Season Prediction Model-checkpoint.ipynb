{
 "cells": [
  {
   "cell_type": "code",
   "execution_count": 1,
   "id": "d03703a2",
   "metadata": {},
   "outputs": [],
   "source": [
    "import pandas as pd\n",
    "import numpy as np\n",
    "import random\n",
    "\n",
    "import matplotlib.pyplot as plt\n",
    "import seaborn as sns\n",
    "\n",
    "import plotly.graph_objects as go\n",
    "import plotly.express as px\n",
    "from plotly.subplots import make_subplots\n",
    "\n",
    "colorarr = ['#0592D0','#Cd7f32', '#E97451', '#Bdb76b', '#954535', '#C2b280', '#808000','#C2b280', '#E4d008', '#9acd32', '#Eedc82', '#E4d96f',\n",
    "           '#32cd32','#39ff14','#00ff7f', '#008080', '#36454f', '#F88379', '#Ff4500', '#Ffb347', '#A94064', '#E75480', '#Ffb6c1', '#E5e4e2',\n",
    "           '#Faf0e6', '#8c92ac', '#Dbd7d2','#A7a6ba', '#B38b6d']"
   ]
  },
  {
   "cell_type": "code",
   "execution_count": 26,
   "id": "52c0ee55",
   "metadata": {},
   "outputs": [
    {
     "data": {
      "text/html": [
       "<div>\n",
       "<style scoped>\n",
       "    .dataframe tbody tr th:only-of-type {\n",
       "        vertical-align: middle;\n",
       "    }\n",
       "\n",
       "    .dataframe tbody tr th {\n",
       "        vertical-align: top;\n",
       "    }\n",
       "\n",
       "    .dataframe thead th {\n",
       "        text-align: right;\n",
       "    }\n",
       "</style>\n",
       "<table border=\"1\" class=\"dataframe\">\n",
       "  <thead>\n",
       "    <tr style=\"text-align: right;\">\n",
       "      <th></th>\n",
       "      <th>N</th>\n",
       "      <th>P</th>\n",
       "      <th>K</th>\n",
       "      <th>temperature</th>\n",
       "      <th>humidity</th>\n",
       "      <th>ph</th>\n",
       "      <th>rainfall</th>\n",
       "      <th>label</th>\n",
       "    </tr>\n",
       "  </thead>\n",
       "  <tbody>\n",
       "    <tr>\n",
       "      <th>0</th>\n",
       "      <td>90</td>\n",
       "      <td>42</td>\n",
       "      <td>43</td>\n",
       "      <td>20.879744</td>\n",
       "      <td>82.002744</td>\n",
       "      <td>6.502985</td>\n",
       "      <td>202.935536</td>\n",
       "      <td>rice</td>\n",
       "    </tr>\n",
       "    <tr>\n",
       "      <th>1</th>\n",
       "      <td>85</td>\n",
       "      <td>58</td>\n",
       "      <td>41</td>\n",
       "      <td>21.770462</td>\n",
       "      <td>80.319644</td>\n",
       "      <td>7.038096</td>\n",
       "      <td>226.655537</td>\n",
       "      <td>rice</td>\n",
       "    </tr>\n",
       "    <tr>\n",
       "      <th>2</th>\n",
       "      <td>60</td>\n",
       "      <td>55</td>\n",
       "      <td>44</td>\n",
       "      <td>23.004459</td>\n",
       "      <td>82.320763</td>\n",
       "      <td>7.840207</td>\n",
       "      <td>263.964248</td>\n",
       "      <td>rice</td>\n",
       "    </tr>\n",
       "    <tr>\n",
       "      <th>3</th>\n",
       "      <td>74</td>\n",
       "      <td>35</td>\n",
       "      <td>40</td>\n",
       "      <td>26.491096</td>\n",
       "      <td>80.158363</td>\n",
       "      <td>6.980401</td>\n",
       "      <td>242.864034</td>\n",
       "      <td>rice</td>\n",
       "    </tr>\n",
       "    <tr>\n",
       "      <th>4</th>\n",
       "      <td>78</td>\n",
       "      <td>42</td>\n",
       "      <td>42</td>\n",
       "      <td>20.130175</td>\n",
       "      <td>81.604873</td>\n",
       "      <td>7.628473</td>\n",
       "      <td>262.717340</td>\n",
       "      <td>rice</td>\n",
       "    </tr>\n",
       "  </tbody>\n",
       "</table>\n",
       "</div>"
      ],
      "text/plain": [
       "    N   P   K  temperature   humidity        ph    rainfall label\n",
       "0  90  42  43    20.879744  82.002744  6.502985  202.935536  rice\n",
       "1  85  58  41    21.770462  80.319644  7.038096  226.655537  rice\n",
       "2  60  55  44    23.004459  82.320763  7.840207  263.964248  rice\n",
       "3  74  35  40    26.491096  80.158363  6.980401  242.864034  rice\n",
       "4  78  42  42    20.130175  81.604873  7.628473  262.717340  rice"
      ]
     },
     "execution_count": 26,
     "metadata": {},
     "output_type": "execute_result"
    }
   ],
   "source": [
    "cropdf = pd.read_csv(\"Crop_recommendation.csv\")\n",
    "cropdf.head()"
   ]
  },
  {
   "cell_type": "code",
   "execution_count": 27,
   "id": "dc568910",
   "metadata": {},
   "outputs": [
    {
     "data": {
      "text/plain": [
       "(2200, 8)"
      ]
     },
     "execution_count": 27,
     "metadata": {},
     "output_type": "execute_result"
    }
   ],
   "source": [
    "cropdf.shape"
   ]
  },
  {
   "cell_type": "code",
   "execution_count": 28,
   "id": "7fb9cea1",
   "metadata": {},
   "outputs": [
    {
     "data": {
      "text/plain": [
       "Index(['N', 'P', 'K', 'temperature', 'humidity', 'ph', 'rainfall', 'label'], dtype='object')"
      ]
     },
     "execution_count": 28,
     "metadata": {},
     "output_type": "execute_result"
    }
   ],
   "source": [
    "cropdf.columns"
   ]
  },
  {
   "cell_type": "code",
   "execution_count": 64,
   "id": "6829dc84",
   "metadata": {},
   "outputs": [
    {
     "name": "stdout",
     "output_type": "stream",
     "text": [
      "<class 'pandas.core.frame.DataFrame'>\n",
      "RangeIndex: 2200 entries, 0 to 2199\n",
      "Data columns (total 8 columns):\n",
      " #   Column       Non-Null Count  Dtype  \n",
      "---  ------       --------------  -----  \n",
      " 0   N            2200 non-null   int64  \n",
      " 1   P            2200 non-null   int64  \n",
      " 2   K            2200 non-null   int64  \n",
      " 3   temperature  2200 non-null   float64\n",
      " 4   humidity     2200 non-null   float64\n",
      " 5   ph           2200 non-null   float64\n",
      " 6   rainfall     2200 non-null   float64\n",
      " 7   label        2200 non-null   object \n",
      "dtypes: float64(4), int64(3), object(1)\n",
      "memory usage: 137.6+ KB\n"
     ]
    }
   ],
   "source": [
    "cropdf.info()"
   ]
  },
  {
   "cell_type": "code",
   "execution_count": 30,
   "id": "dd7b23be",
   "metadata": {},
   "outputs": [
    {
     "data": {
      "text/plain": [
       "N              0\n",
       "P              0\n",
       "K              0\n",
       "temperature    0\n",
       "humidity       0\n",
       "ph             0\n",
       "rainfall       0\n",
       "label          0\n",
       "dtype: int64"
      ]
     },
     "execution_count": 30,
     "metadata": {},
     "output_type": "execute_result"
    }
   ],
   "source": [
    "cropdf.isnull().sum()"
   ]
  },
  {
   "cell_type": "code",
   "execution_count": 31,
   "id": "8012275b",
   "metadata": {},
   "outputs": [
    {
     "name": "stdout",
     "output_type": "stream",
     "text": [
      "Number of various crops:  22\n",
      "List of crops:  ['rice' 'maize' 'chickpea' 'kidneybeans' 'pigeonpeas' 'mothbeans'\n",
      " 'mungbean' 'blackgram' 'lentil' 'pomegranate' 'banana' 'mango' 'grapes'\n",
      " 'watermelon' 'muskmelon' 'apple' 'orange' 'papaya' 'coconut' 'cotton'\n",
      " 'jute' 'coffee']\n"
     ]
    }
   ],
   "source": [
    "print(\"Number of various crops: \", len(cropdf['label'].unique()))\n",
    "print(\"List of crops: \", cropdf['label'].unique())"
   ]
  },
  {
   "cell_type": "code",
   "execution_count": 32,
   "id": "589807b3",
   "metadata": {},
   "outputs": [
    {
     "data": {
      "text/plain": [
       "pigeonpeas     100\n",
       "apple          100\n",
       "blackgram      100\n",
       "orange         100\n",
       "coffee         100\n",
       "papaya         100\n",
       "pomegranate    100\n",
       "chickpea       100\n",
       "coconut        100\n",
       "mango          100\n",
       "kidneybeans    100\n",
       "grapes         100\n",
       "mothbeans      100\n",
       "banana         100\n",
       "lentil         100\n",
       "rice           100\n",
       "maize          100\n",
       "watermelon     100\n",
       "cotton         100\n",
       "jute           100\n",
       "muskmelon      100\n",
       "mungbean       100\n",
       "Name: label, dtype: int64"
      ]
     },
     "execution_count": 32,
     "metadata": {},
     "output_type": "execute_result"
    }
   ],
   "source": [
    "cropdf['label'].value_counts()"
   ]
  },
  {
   "cell_type": "code",
   "execution_count": 33,
   "id": "2f7d98e0",
   "metadata": {},
   "outputs": [
    {
     "data": {
      "text/html": [
       "<div>\n",
       "<style scoped>\n",
       "    .dataframe tbody tr th:only-of-type {\n",
       "        vertical-align: middle;\n",
       "    }\n",
       "\n",
       "    .dataframe tbody tr th {\n",
       "        vertical-align: top;\n",
       "    }\n",
       "\n",
       "    .dataframe thead th {\n",
       "        text-align: right;\n",
       "    }\n",
       "</style>\n",
       "<table border=\"1\" class=\"dataframe\">\n",
       "  <thead>\n",
       "    <tr style=\"text-align: right;\">\n",
       "      <th></th>\n",
       "      <th>K</th>\n",
       "      <th>N</th>\n",
       "      <th>P</th>\n",
       "      <th>humidity</th>\n",
       "      <th>ph</th>\n",
       "      <th>rainfall</th>\n",
       "      <th>temperature</th>\n",
       "    </tr>\n",
       "    <tr>\n",
       "      <th>label</th>\n",
       "      <th></th>\n",
       "      <th></th>\n",
       "      <th></th>\n",
       "      <th></th>\n",
       "      <th></th>\n",
       "      <th></th>\n",
       "      <th></th>\n",
       "    </tr>\n",
       "  </thead>\n",
       "  <tbody>\n",
       "    <tr>\n",
       "      <th>apple</th>\n",
       "      <td>199.89</td>\n",
       "      <td>20.80</td>\n",
       "      <td>134.22</td>\n",
       "      <td>92.333383</td>\n",
       "      <td>5.929663</td>\n",
       "      <td>112.654779</td>\n",
       "      <td>22.630942</td>\n",
       "    </tr>\n",
       "    <tr>\n",
       "      <th>banana</th>\n",
       "      <td>50.05</td>\n",
       "      <td>100.23</td>\n",
       "      <td>82.01</td>\n",
       "      <td>80.358123</td>\n",
       "      <td>5.983893</td>\n",
       "      <td>104.626980</td>\n",
       "      <td>27.376798</td>\n",
       "    </tr>\n",
       "    <tr>\n",
       "      <th>blackgram</th>\n",
       "      <td>19.24</td>\n",
       "      <td>40.02</td>\n",
       "      <td>67.47</td>\n",
       "      <td>65.118426</td>\n",
       "      <td>7.133952</td>\n",
       "      <td>67.884151</td>\n",
       "      <td>29.973340</td>\n",
       "    </tr>\n",
       "    <tr>\n",
       "      <th>chickpea</th>\n",
       "      <td>79.92</td>\n",
       "      <td>40.09</td>\n",
       "      <td>67.79</td>\n",
       "      <td>16.860439</td>\n",
       "      <td>7.336957</td>\n",
       "      <td>80.058977</td>\n",
       "      <td>18.872847</td>\n",
       "    </tr>\n",
       "    <tr>\n",
       "      <th>coconut</th>\n",
       "      <td>30.59</td>\n",
       "      <td>21.98</td>\n",
       "      <td>16.93</td>\n",
       "      <td>94.844272</td>\n",
       "      <td>5.976562</td>\n",
       "      <td>175.686646</td>\n",
       "      <td>27.409892</td>\n",
       "    </tr>\n",
       "  </tbody>\n",
       "</table>\n",
       "</div>"
      ],
      "text/plain": [
       "                K       N       P   humidity        ph    rainfall  \\\n",
       "label                                                                \n",
       "apple      199.89   20.80  134.22  92.333383  5.929663  112.654779   \n",
       "banana      50.05  100.23   82.01  80.358123  5.983893  104.626980   \n",
       "blackgram   19.24   40.02   67.47  65.118426  7.133952   67.884151   \n",
       "chickpea    79.92   40.09   67.79  16.860439  7.336957   80.058977   \n",
       "coconut     30.59   21.98   16.93  94.844272  5.976562  175.686646   \n",
       "\n",
       "           temperature  \n",
       "label                   \n",
       "apple        22.630942  \n",
       "banana       27.376798  \n",
       "blackgram    29.973340  \n",
       "chickpea     18.872847  \n",
       "coconut      27.409892  "
      ]
     },
     "execution_count": 33,
     "metadata": {},
     "output_type": "execute_result"
    }
   ],
   "source": [
    "crop_summary = pd.pivot_table(cropdf,index=['label'],aggfunc='mean')\n",
    "crop_summary.head()"
   ]
  },
  {
   "cell_type": "code",
   "execution_count": 61,
   "id": "f64b157a",
   "metadata": {},
   "outputs": [
    {
     "name": "stdout",
     "output_type": "stream",
     "text": [
      "\n",
      "\n",
      "Summer Crops\n",
      "['pigeonpeas' 'mothbeans' 'blackgram' 'mango' 'grapes' 'orange' 'papaya']\n",
      "\n",
      "\n",
      "Winter Crops\n",
      "['maize' 'pigeonpeas' 'lentil' 'pomegranate' 'grapes' 'orange']\n",
      "\n",
      "\n",
      "Rainy Crops\n",
      "['rice' 'papaya' 'coconut']\n"
     ]
    }
   ],
   "source": [
    "#Season wise Crops\n",
    "\n",
    "print('\\n')\n",
    "print('Summer Crops')\n",
    "summerCrops = cropdf[(cropdf.temperature > 30) & (cropdf.humidity > 50)]['label'].unique()\n",
    "print(summerCrops)\n",
    "print('\\n')\n",
    "print('Winter Crops')\n",
    "winterCrops = cropdf[(cropdf.temperature < 20) & (cropdf.humidity > 30)]['label'].unique()\n",
    "print(winterCrops)\n",
    "print('\\n')\n",
    "print('Rainy Crops')\n",
    "rainyCrops = cropdf[(cropdf.rainfall > 200) & (cropdf.humidity > 30)]['label'].unique()\n",
    "print(rainyCrops)"
   ]
  },
  {
   "cell_type": "code",
   "execution_count": 60,
   "id": "3a9cf167",
   "metadata": {},
   "outputs": [
    {
     "data": {
      "application/vnd.plotly.v1+json": {
       "config": {
        "plotlyServerURL": "https://plot.ly"
       },
       "data": [
        {
         "marker": {
          "color": "#E97451"
         },
         "name": "Most nitrogen required",
         "orientation": "h",
         "text": [
          40.09,
          49.88,
          77.76,
          78.4,
          79.89,
          99.42,
          100.23,
          100.32,
          101.2,
          117.77
         ],
         "textposition": "inside",
         "texttemplate": "%{text}",
         "type": "bar",
         "x": [
          40.09,
          49.88,
          77.76,
          78.4,
          79.89,
          99.42,
          100.23,
          100.32,
          101.2,
          117.77
         ],
         "xaxis": "x",
         "y": [
          "chickpea",
          "papaya",
          "maize",
          "jute",
          "rice",
          "watermelon",
          "banana",
          "muskmelon",
          "coffee",
          "cotton"
         ],
         "yaxis": "y"
        },
        {
         "marker": {
          "color": "#32cd32"
         },
         "name": "Least nitrogen required",
         "orientation": "h",
         "text": [
          21.98,
          21.44,
          20.99,
          20.8,
          20.75,
          20.73,
          20.07,
          19.58,
          18.87,
          18.77
         ],
         "textposition": "inside",
         "texttemplate": "%{text}",
         "type": "bar",
         "x": [
          21.98,
          21.44,
          20.99,
          20.8,
          20.75,
          20.73,
          20.07,
          19.58,
          18.87,
          18.77
         ],
         "xaxis": "x2",
         "y": [
          "coconut",
          "mothbeans",
          "mungbean",
          "apple",
          "kidneybeans",
          "pigeonpeas",
          "mango",
          "orange",
          "pomegranate",
          "lentil"
         ],
         "yaxis": "y2"
        }
       ],
       "layout": {
        "font": {
         "color": "black",
         "size": 12
        },
        "height": 500,
        "plot_bgcolor": "white",
        "template": {
         "data": {
          "bar": [
           {
            "error_x": {
             "color": "#2a3f5f"
            },
            "error_y": {
             "color": "#2a3f5f"
            },
            "marker": {
             "line": {
              "color": "#E5ECF6",
              "width": 0.5
             },
             "pattern": {
              "fillmode": "overlay",
              "size": 10,
              "solidity": 0.2
             }
            },
            "type": "bar"
           }
          ],
          "barpolar": [
           {
            "marker": {
             "line": {
              "color": "#E5ECF6",
              "width": 0.5
             },
             "pattern": {
              "fillmode": "overlay",
              "size": 10,
              "solidity": 0.2
             }
            },
            "type": "barpolar"
           }
          ],
          "carpet": [
           {
            "aaxis": {
             "endlinecolor": "#2a3f5f",
             "gridcolor": "white",
             "linecolor": "white",
             "minorgridcolor": "white",
             "startlinecolor": "#2a3f5f"
            },
            "baxis": {
             "endlinecolor": "#2a3f5f",
             "gridcolor": "white",
             "linecolor": "white",
             "minorgridcolor": "white",
             "startlinecolor": "#2a3f5f"
            },
            "type": "carpet"
           }
          ],
          "choropleth": [
           {
            "colorbar": {
             "outlinewidth": 0,
             "ticks": ""
            },
            "type": "choropleth"
           }
          ],
          "contour": [
           {
            "colorbar": {
             "outlinewidth": 0,
             "ticks": ""
            },
            "colorscale": [
             [
              0,
              "#0d0887"
             ],
             [
              0.1111111111111111,
              "#46039f"
             ],
             [
              0.2222222222222222,
              "#7201a8"
             ],
             [
              0.3333333333333333,
              "#9c179e"
             ],
             [
              0.4444444444444444,
              "#bd3786"
             ],
             [
              0.5555555555555556,
              "#d8576b"
             ],
             [
              0.6666666666666666,
              "#ed7953"
             ],
             [
              0.7777777777777778,
              "#fb9f3a"
             ],
             [
              0.8888888888888888,
              "#fdca26"
             ],
             [
              1,
              "#f0f921"
             ]
            ],
            "type": "contour"
           }
          ],
          "contourcarpet": [
           {
            "colorbar": {
             "outlinewidth": 0,
             "ticks": ""
            },
            "type": "contourcarpet"
           }
          ],
          "heatmap": [
           {
            "colorbar": {
             "outlinewidth": 0,
             "ticks": ""
            },
            "colorscale": [
             [
              0,
              "#0d0887"
             ],
             [
              0.1111111111111111,
              "#46039f"
             ],
             [
              0.2222222222222222,
              "#7201a8"
             ],
             [
              0.3333333333333333,
              "#9c179e"
             ],
             [
              0.4444444444444444,
              "#bd3786"
             ],
             [
              0.5555555555555556,
              "#d8576b"
             ],
             [
              0.6666666666666666,
              "#ed7953"
             ],
             [
              0.7777777777777778,
              "#fb9f3a"
             ],
             [
              0.8888888888888888,
              "#fdca26"
             ],
             [
              1,
              "#f0f921"
             ]
            ],
            "type": "heatmap"
           }
          ],
          "heatmapgl": [
           {
            "colorbar": {
             "outlinewidth": 0,
             "ticks": ""
            },
            "colorscale": [
             [
              0,
              "#0d0887"
             ],
             [
              0.1111111111111111,
              "#46039f"
             ],
             [
              0.2222222222222222,
              "#7201a8"
             ],
             [
              0.3333333333333333,
              "#9c179e"
             ],
             [
              0.4444444444444444,
              "#bd3786"
             ],
             [
              0.5555555555555556,
              "#d8576b"
             ],
             [
              0.6666666666666666,
              "#ed7953"
             ],
             [
              0.7777777777777778,
              "#fb9f3a"
             ],
             [
              0.8888888888888888,
              "#fdca26"
             ],
             [
              1,
              "#f0f921"
             ]
            ],
            "type": "heatmapgl"
           }
          ],
          "histogram": [
           {
            "marker": {
             "pattern": {
              "fillmode": "overlay",
              "size": 10,
              "solidity": 0.2
             }
            },
            "type": "histogram"
           }
          ],
          "histogram2d": [
           {
            "colorbar": {
             "outlinewidth": 0,
             "ticks": ""
            },
            "colorscale": [
             [
              0,
              "#0d0887"
             ],
             [
              0.1111111111111111,
              "#46039f"
             ],
             [
              0.2222222222222222,
              "#7201a8"
             ],
             [
              0.3333333333333333,
              "#9c179e"
             ],
             [
              0.4444444444444444,
              "#bd3786"
             ],
             [
              0.5555555555555556,
              "#d8576b"
             ],
             [
              0.6666666666666666,
              "#ed7953"
             ],
             [
              0.7777777777777778,
              "#fb9f3a"
             ],
             [
              0.8888888888888888,
              "#fdca26"
             ],
             [
              1,
              "#f0f921"
             ]
            ],
            "type": "histogram2d"
           }
          ],
          "histogram2dcontour": [
           {
            "colorbar": {
             "outlinewidth": 0,
             "ticks": ""
            },
            "colorscale": [
             [
              0,
              "#0d0887"
             ],
             [
              0.1111111111111111,
              "#46039f"
             ],
             [
              0.2222222222222222,
              "#7201a8"
             ],
             [
              0.3333333333333333,
              "#9c179e"
             ],
             [
              0.4444444444444444,
              "#bd3786"
             ],
             [
              0.5555555555555556,
              "#d8576b"
             ],
             [
              0.6666666666666666,
              "#ed7953"
             ],
             [
              0.7777777777777778,
              "#fb9f3a"
             ],
             [
              0.8888888888888888,
              "#fdca26"
             ],
             [
              1,
              "#f0f921"
             ]
            ],
            "type": "histogram2dcontour"
           }
          ],
          "mesh3d": [
           {
            "colorbar": {
             "outlinewidth": 0,
             "ticks": ""
            },
            "type": "mesh3d"
           }
          ],
          "parcoords": [
           {
            "line": {
             "colorbar": {
              "outlinewidth": 0,
              "ticks": ""
             }
            },
            "type": "parcoords"
           }
          ],
          "pie": [
           {
            "automargin": true,
            "type": "pie"
           }
          ],
          "scatter": [
           {
            "marker": {
             "colorbar": {
              "outlinewidth": 0,
              "ticks": ""
             }
            },
            "type": "scatter"
           }
          ],
          "scatter3d": [
           {
            "line": {
             "colorbar": {
              "outlinewidth": 0,
              "ticks": ""
             }
            },
            "marker": {
             "colorbar": {
              "outlinewidth": 0,
              "ticks": ""
             }
            },
            "type": "scatter3d"
           }
          ],
          "scattercarpet": [
           {
            "marker": {
             "colorbar": {
              "outlinewidth": 0,
              "ticks": ""
             }
            },
            "type": "scattercarpet"
           }
          ],
          "scattergeo": [
           {
            "marker": {
             "colorbar": {
              "outlinewidth": 0,
              "ticks": ""
             }
            },
            "type": "scattergeo"
           }
          ],
          "scattergl": [
           {
            "marker": {
             "colorbar": {
              "outlinewidth": 0,
              "ticks": ""
             }
            },
            "type": "scattergl"
           }
          ],
          "scattermapbox": [
           {
            "marker": {
             "colorbar": {
              "outlinewidth": 0,
              "ticks": ""
             }
            },
            "type": "scattermapbox"
           }
          ],
          "scatterpolar": [
           {
            "marker": {
             "colorbar": {
              "outlinewidth": 0,
              "ticks": ""
             }
            },
            "type": "scatterpolar"
           }
          ],
          "scatterpolargl": [
           {
            "marker": {
             "colorbar": {
              "outlinewidth": 0,
              "ticks": ""
             }
            },
            "type": "scatterpolargl"
           }
          ],
          "scatterternary": [
           {
            "marker": {
             "colorbar": {
              "outlinewidth": 0,
              "ticks": ""
             }
            },
            "type": "scatterternary"
           }
          ],
          "surface": [
           {
            "colorbar": {
             "outlinewidth": 0,
             "ticks": ""
            },
            "colorscale": [
             [
              0,
              "#0d0887"
             ],
             [
              0.1111111111111111,
              "#46039f"
             ],
             [
              0.2222222222222222,
              "#7201a8"
             ],
             [
              0.3333333333333333,
              "#9c179e"
             ],
             [
              0.4444444444444444,
              "#bd3786"
             ],
             [
              0.5555555555555556,
              "#d8576b"
             ],
             [
              0.6666666666666666,
              "#ed7953"
             ],
             [
              0.7777777777777778,
              "#fb9f3a"
             ],
             [
              0.8888888888888888,
              "#fdca26"
             ],
             [
              1,
              "#f0f921"
             ]
            ],
            "type": "surface"
           }
          ],
          "table": [
           {
            "cells": {
             "fill": {
              "color": "#EBF0F8"
             },
             "line": {
              "color": "white"
             }
            },
            "header": {
             "fill": {
              "color": "#C8D4E3"
             },
             "line": {
              "color": "white"
             }
            },
            "type": "table"
           }
          ]
         },
         "layout": {
          "annotationdefaults": {
           "arrowcolor": "#2a3f5f",
           "arrowhead": 0,
           "arrowwidth": 1
          },
          "autotypenumbers": "strict",
          "coloraxis": {
           "colorbar": {
            "outlinewidth": 0,
            "ticks": ""
           }
          },
          "colorscale": {
           "diverging": [
            [
             0,
             "#8e0152"
            ],
            [
             0.1,
             "#c51b7d"
            ],
            [
             0.2,
             "#de77ae"
            ],
            [
             0.3,
             "#f1b6da"
            ],
            [
             0.4,
             "#fde0ef"
            ],
            [
             0.5,
             "#f7f7f7"
            ],
            [
             0.6,
             "#e6f5d0"
            ],
            [
             0.7,
             "#b8e186"
            ],
            [
             0.8,
             "#7fbc41"
            ],
            [
             0.9,
             "#4d9221"
            ],
            [
             1,
             "#276419"
            ]
           ],
           "sequential": [
            [
             0,
             "#0d0887"
            ],
            [
             0.1111111111111111,
             "#46039f"
            ],
            [
             0.2222222222222222,
             "#7201a8"
            ],
            [
             0.3333333333333333,
             "#9c179e"
            ],
            [
             0.4444444444444444,
             "#bd3786"
            ],
            [
             0.5555555555555556,
             "#d8576b"
            ],
            [
             0.6666666666666666,
             "#ed7953"
            ],
            [
             0.7777777777777778,
             "#fb9f3a"
            ],
            [
             0.8888888888888888,
             "#fdca26"
            ],
            [
             1,
             "#f0f921"
            ]
           ],
           "sequentialminus": [
            [
             0,
             "#0d0887"
            ],
            [
             0.1111111111111111,
             "#46039f"
            ],
            [
             0.2222222222222222,
             "#7201a8"
            ],
            [
             0.3333333333333333,
             "#9c179e"
            ],
            [
             0.4444444444444444,
             "#bd3786"
            ],
            [
             0.5555555555555556,
             "#d8576b"
            ],
            [
             0.6666666666666666,
             "#ed7953"
            ],
            [
             0.7777777777777778,
             "#fb9f3a"
            ],
            [
             0.8888888888888888,
             "#fdca26"
            ],
            [
             1,
             "#f0f921"
            ]
           ]
          },
          "colorway": [
           "#636efa",
           "#EF553B",
           "#00cc96",
           "#ab63fa",
           "#FFA15A",
           "#19d3f3",
           "#FF6692",
           "#B6E880",
           "#FF97FF",
           "#FECB52"
          ],
          "font": {
           "color": "#2a3f5f"
          },
          "geo": {
           "bgcolor": "white",
           "lakecolor": "white",
           "landcolor": "#E5ECF6",
           "showlakes": true,
           "showland": true,
           "subunitcolor": "white"
          },
          "hoverlabel": {
           "align": "left"
          },
          "hovermode": "closest",
          "mapbox": {
           "style": "light"
          },
          "paper_bgcolor": "white",
          "plot_bgcolor": "#E5ECF6",
          "polar": {
           "angularaxis": {
            "gridcolor": "white",
            "linecolor": "white",
            "ticks": ""
           },
           "bgcolor": "#E5ECF6",
           "radialaxis": {
            "gridcolor": "white",
            "linecolor": "white",
            "ticks": ""
           }
          },
          "scene": {
           "xaxis": {
            "backgroundcolor": "#E5ECF6",
            "gridcolor": "white",
            "gridwidth": 2,
            "linecolor": "white",
            "showbackground": true,
            "ticks": "",
            "zerolinecolor": "white"
           },
           "yaxis": {
            "backgroundcolor": "#E5ECF6",
            "gridcolor": "white",
            "gridwidth": 2,
            "linecolor": "white",
            "showbackground": true,
            "ticks": "",
            "zerolinecolor": "white"
           },
           "zaxis": {
            "backgroundcolor": "#E5ECF6",
            "gridcolor": "white",
            "gridwidth": 2,
            "linecolor": "white",
            "showbackground": true,
            "ticks": "",
            "zerolinecolor": "white"
           }
          },
          "shapedefaults": {
           "line": {
            "color": "#2a3f5f"
           }
          },
          "ternary": {
           "aaxis": {
            "gridcolor": "white",
            "linecolor": "white",
            "ticks": ""
           },
           "baxis": {
            "gridcolor": "white",
            "linecolor": "white",
            "ticks": ""
           },
           "bgcolor": "#E5ECF6",
           "caxis": {
            "gridcolor": "white",
            "linecolor": "white",
            "ticks": ""
           }
          },
          "title": {
           "x": 0.05
          },
          "xaxis": {
           "automargin": true,
           "gridcolor": "white",
           "linecolor": "white",
           "ticks": "",
           "title": {
            "standoff": 15
           },
           "zerolinecolor": "white",
           "zerolinewidth": 2
          },
          "yaxis": {
           "automargin": true,
           "gridcolor": "white",
           "linecolor": "white",
           "ticks": "",
           "title": {
            "standoff": 15
           },
           "zerolinecolor": "white",
           "zerolinewidth": 2
          }
         }
        },
        "title": {
         "text": "Nitrogen (N)"
        },
        "xaxis": {
         "anchor": "y",
         "domain": [
          0,
          0.45
         ],
         "showgrid": false
        },
        "xaxis2": {
         "anchor": "y2",
         "domain": [
          0.55,
          1
         ],
         "showgrid": false
        },
        "yaxis": {
         "anchor": "x",
         "domain": [
          0,
          1
         ],
         "showgrid": false
        },
        "yaxis2": {
         "anchor": "x2",
         "domain": [
          0,
          1
         ],
         "showgrid": false
        }
       }
      },
      "text/html": [
       "<div>                            <div id=\"fd0a9115-c7de-4ab3-a533-bbf9698f8b44\" class=\"plotly-graph-div\" style=\"height:500px; width:100%;\"></div>            <script type=\"text/javascript\">                require([\"plotly\"], function(Plotly) {                    window.PLOTLYENV=window.PLOTLYENV || {};                                    if (document.getElementById(\"fd0a9115-c7de-4ab3-a533-bbf9698f8b44\")) {                    Plotly.newPlot(                        \"fd0a9115-c7de-4ab3-a533-bbf9698f8b44\",                        [{\"marker\":{\"color\":\"#E97451\"},\"name\":\"Most nitrogen required\",\"orientation\":\"h\",\"text\":[40.09,49.88,77.76,78.4,79.89,99.42,100.23,100.32,101.2,117.77],\"textposition\":\"inside\",\"texttemplate\":\"%{text}\",\"type\":\"bar\",\"x\":[40.09,49.88,77.76,78.4,79.89,99.42,100.23,100.32,101.2,117.77],\"xaxis\":\"x\",\"y\":[\"chickpea\",\"papaya\",\"maize\",\"jute\",\"rice\",\"watermelon\",\"banana\",\"muskmelon\",\"coffee\",\"cotton\"],\"yaxis\":\"y\"},{\"marker\":{\"color\":\"#32cd32\"},\"name\":\"Least nitrogen required\",\"orientation\":\"h\",\"text\":[21.98,21.44,20.99,20.8,20.75,20.73,20.07,19.58,18.87,18.77],\"textposition\":\"inside\",\"texttemplate\":\"%{text}\",\"type\":\"bar\",\"x\":[21.98,21.44,20.99,20.8,20.75,20.73,20.07,19.58,18.87,18.77],\"xaxis\":\"x2\",\"y\":[\"coconut\",\"mothbeans\",\"mungbean\",\"apple\",\"kidneybeans\",\"pigeonpeas\",\"mango\",\"orange\",\"pomegranate\",\"lentil\"],\"yaxis\":\"y2\"}],                        {\"font\":{\"color\":\"black\",\"size\":12},\"height\":500,\"plot_bgcolor\":\"white\",\"template\":{\"data\":{\"bar\":[{\"error_x\":{\"color\":\"#2a3f5f\"},\"error_y\":{\"color\":\"#2a3f5f\"},\"marker\":{\"line\":{\"color\":\"#E5ECF6\",\"width\":0.5},\"pattern\":{\"fillmode\":\"overlay\",\"size\":10,\"solidity\":0.2}},\"type\":\"bar\"}],\"barpolar\":[{\"marker\":{\"line\":{\"color\":\"#E5ECF6\",\"width\":0.5},\"pattern\":{\"fillmode\":\"overlay\",\"size\":10,\"solidity\":0.2}},\"type\":\"barpolar\"}],\"carpet\":[{\"aaxis\":{\"endlinecolor\":\"#2a3f5f\",\"gridcolor\":\"white\",\"linecolor\":\"white\",\"minorgridcolor\":\"white\",\"startlinecolor\":\"#2a3f5f\"},\"baxis\":{\"endlinecolor\":\"#2a3f5f\",\"gridcolor\":\"white\",\"linecolor\":\"white\",\"minorgridcolor\":\"white\",\"startlinecolor\":\"#2a3f5f\"},\"type\":\"carpet\"}],\"choropleth\":[{\"colorbar\":{\"outlinewidth\":0,\"ticks\":\"\"},\"type\":\"choropleth\"}],\"contour\":[{\"colorbar\":{\"outlinewidth\":0,\"ticks\":\"\"},\"colorscale\":[[0.0,\"#0d0887\"],[0.1111111111111111,\"#46039f\"],[0.2222222222222222,\"#7201a8\"],[0.3333333333333333,\"#9c179e\"],[0.4444444444444444,\"#bd3786\"],[0.5555555555555556,\"#d8576b\"],[0.6666666666666666,\"#ed7953\"],[0.7777777777777778,\"#fb9f3a\"],[0.8888888888888888,\"#fdca26\"],[1.0,\"#f0f921\"]],\"type\":\"contour\"}],\"contourcarpet\":[{\"colorbar\":{\"outlinewidth\":0,\"ticks\":\"\"},\"type\":\"contourcarpet\"}],\"heatmap\":[{\"colorbar\":{\"outlinewidth\":0,\"ticks\":\"\"},\"colorscale\":[[0.0,\"#0d0887\"],[0.1111111111111111,\"#46039f\"],[0.2222222222222222,\"#7201a8\"],[0.3333333333333333,\"#9c179e\"],[0.4444444444444444,\"#bd3786\"],[0.5555555555555556,\"#d8576b\"],[0.6666666666666666,\"#ed7953\"],[0.7777777777777778,\"#fb9f3a\"],[0.8888888888888888,\"#fdca26\"],[1.0,\"#f0f921\"]],\"type\":\"heatmap\"}],\"heatmapgl\":[{\"colorbar\":{\"outlinewidth\":0,\"ticks\":\"\"},\"colorscale\":[[0.0,\"#0d0887\"],[0.1111111111111111,\"#46039f\"],[0.2222222222222222,\"#7201a8\"],[0.3333333333333333,\"#9c179e\"],[0.4444444444444444,\"#bd3786\"],[0.5555555555555556,\"#d8576b\"],[0.6666666666666666,\"#ed7953\"],[0.7777777777777778,\"#fb9f3a\"],[0.8888888888888888,\"#fdca26\"],[1.0,\"#f0f921\"]],\"type\":\"heatmapgl\"}],\"histogram\":[{\"marker\":{\"pattern\":{\"fillmode\":\"overlay\",\"size\":10,\"solidity\":0.2}},\"type\":\"histogram\"}],\"histogram2d\":[{\"colorbar\":{\"outlinewidth\":0,\"ticks\":\"\"},\"colorscale\":[[0.0,\"#0d0887\"],[0.1111111111111111,\"#46039f\"],[0.2222222222222222,\"#7201a8\"],[0.3333333333333333,\"#9c179e\"],[0.4444444444444444,\"#bd3786\"],[0.5555555555555556,\"#d8576b\"],[0.6666666666666666,\"#ed7953\"],[0.7777777777777778,\"#fb9f3a\"],[0.8888888888888888,\"#fdca26\"],[1.0,\"#f0f921\"]],\"type\":\"histogram2d\"}],\"histogram2dcontour\":[{\"colorbar\":{\"outlinewidth\":0,\"ticks\":\"\"},\"colorscale\":[[0.0,\"#0d0887\"],[0.1111111111111111,\"#46039f\"],[0.2222222222222222,\"#7201a8\"],[0.3333333333333333,\"#9c179e\"],[0.4444444444444444,\"#bd3786\"],[0.5555555555555556,\"#d8576b\"],[0.6666666666666666,\"#ed7953\"],[0.7777777777777778,\"#fb9f3a\"],[0.8888888888888888,\"#fdca26\"],[1.0,\"#f0f921\"]],\"type\":\"histogram2dcontour\"}],\"mesh3d\":[{\"colorbar\":{\"outlinewidth\":0,\"ticks\":\"\"},\"type\":\"mesh3d\"}],\"parcoords\":[{\"line\":{\"colorbar\":{\"outlinewidth\":0,\"ticks\":\"\"}},\"type\":\"parcoords\"}],\"pie\":[{\"automargin\":true,\"type\":\"pie\"}],\"scatter\":[{\"marker\":{\"colorbar\":{\"outlinewidth\":0,\"ticks\":\"\"}},\"type\":\"scatter\"}],\"scatter3d\":[{\"line\":{\"colorbar\":{\"outlinewidth\":0,\"ticks\":\"\"}},\"marker\":{\"colorbar\":{\"outlinewidth\":0,\"ticks\":\"\"}},\"type\":\"scatter3d\"}],\"scattercarpet\":[{\"marker\":{\"colorbar\":{\"outlinewidth\":0,\"ticks\":\"\"}},\"type\":\"scattercarpet\"}],\"scattergeo\":[{\"marker\":{\"colorbar\":{\"outlinewidth\":0,\"ticks\":\"\"}},\"type\":\"scattergeo\"}],\"scattergl\":[{\"marker\":{\"colorbar\":{\"outlinewidth\":0,\"ticks\":\"\"}},\"type\":\"scattergl\"}],\"scattermapbox\":[{\"marker\":{\"colorbar\":{\"outlinewidth\":0,\"ticks\":\"\"}},\"type\":\"scattermapbox\"}],\"scatterpolar\":[{\"marker\":{\"colorbar\":{\"outlinewidth\":0,\"ticks\":\"\"}},\"type\":\"scatterpolar\"}],\"scatterpolargl\":[{\"marker\":{\"colorbar\":{\"outlinewidth\":0,\"ticks\":\"\"}},\"type\":\"scatterpolargl\"}],\"scatterternary\":[{\"marker\":{\"colorbar\":{\"outlinewidth\":0,\"ticks\":\"\"}},\"type\":\"scatterternary\"}],\"surface\":[{\"colorbar\":{\"outlinewidth\":0,\"ticks\":\"\"},\"colorscale\":[[0.0,\"#0d0887\"],[0.1111111111111111,\"#46039f\"],[0.2222222222222222,\"#7201a8\"],[0.3333333333333333,\"#9c179e\"],[0.4444444444444444,\"#bd3786\"],[0.5555555555555556,\"#d8576b\"],[0.6666666666666666,\"#ed7953\"],[0.7777777777777778,\"#fb9f3a\"],[0.8888888888888888,\"#fdca26\"],[1.0,\"#f0f921\"]],\"type\":\"surface\"}],\"table\":[{\"cells\":{\"fill\":{\"color\":\"#EBF0F8\"},\"line\":{\"color\":\"white\"}},\"header\":{\"fill\":{\"color\":\"#C8D4E3\"},\"line\":{\"color\":\"white\"}},\"type\":\"table\"}]},\"layout\":{\"annotationdefaults\":{\"arrowcolor\":\"#2a3f5f\",\"arrowhead\":0,\"arrowwidth\":1},\"autotypenumbers\":\"strict\",\"coloraxis\":{\"colorbar\":{\"outlinewidth\":0,\"ticks\":\"\"}},\"colorscale\":{\"diverging\":[[0,\"#8e0152\"],[0.1,\"#c51b7d\"],[0.2,\"#de77ae\"],[0.3,\"#f1b6da\"],[0.4,\"#fde0ef\"],[0.5,\"#f7f7f7\"],[0.6,\"#e6f5d0\"],[0.7,\"#b8e186\"],[0.8,\"#7fbc41\"],[0.9,\"#4d9221\"],[1,\"#276419\"]],\"sequential\":[[0.0,\"#0d0887\"],[0.1111111111111111,\"#46039f\"],[0.2222222222222222,\"#7201a8\"],[0.3333333333333333,\"#9c179e\"],[0.4444444444444444,\"#bd3786\"],[0.5555555555555556,\"#d8576b\"],[0.6666666666666666,\"#ed7953\"],[0.7777777777777778,\"#fb9f3a\"],[0.8888888888888888,\"#fdca26\"],[1.0,\"#f0f921\"]],\"sequentialminus\":[[0.0,\"#0d0887\"],[0.1111111111111111,\"#46039f\"],[0.2222222222222222,\"#7201a8\"],[0.3333333333333333,\"#9c179e\"],[0.4444444444444444,\"#bd3786\"],[0.5555555555555556,\"#d8576b\"],[0.6666666666666666,\"#ed7953\"],[0.7777777777777778,\"#fb9f3a\"],[0.8888888888888888,\"#fdca26\"],[1.0,\"#f0f921\"]]},\"colorway\":[\"#636efa\",\"#EF553B\",\"#00cc96\",\"#ab63fa\",\"#FFA15A\",\"#19d3f3\",\"#FF6692\",\"#B6E880\",\"#FF97FF\",\"#FECB52\"],\"font\":{\"color\":\"#2a3f5f\"},\"geo\":{\"bgcolor\":\"white\",\"lakecolor\":\"white\",\"landcolor\":\"#E5ECF6\",\"showlakes\":true,\"showland\":true,\"subunitcolor\":\"white\"},\"hoverlabel\":{\"align\":\"left\"},\"hovermode\":\"closest\",\"mapbox\":{\"style\":\"light\"},\"paper_bgcolor\":\"white\",\"plot_bgcolor\":\"#E5ECF6\",\"polar\":{\"angularaxis\":{\"gridcolor\":\"white\",\"linecolor\":\"white\",\"ticks\":\"\"},\"bgcolor\":\"#E5ECF6\",\"radialaxis\":{\"gridcolor\":\"white\",\"linecolor\":\"white\",\"ticks\":\"\"}},\"scene\":{\"xaxis\":{\"backgroundcolor\":\"#E5ECF6\",\"gridcolor\":\"white\",\"gridwidth\":2,\"linecolor\":\"white\",\"showbackground\":true,\"ticks\":\"\",\"zerolinecolor\":\"white\"},\"yaxis\":{\"backgroundcolor\":\"#E5ECF6\",\"gridcolor\":\"white\",\"gridwidth\":2,\"linecolor\":\"white\",\"showbackground\":true,\"ticks\":\"\",\"zerolinecolor\":\"white\"},\"zaxis\":{\"backgroundcolor\":\"#E5ECF6\",\"gridcolor\":\"white\",\"gridwidth\":2,\"linecolor\":\"white\",\"showbackground\":true,\"ticks\":\"\",\"zerolinecolor\":\"white\"}},\"shapedefaults\":{\"line\":{\"color\":\"#2a3f5f\"}},\"ternary\":{\"aaxis\":{\"gridcolor\":\"white\",\"linecolor\":\"white\",\"ticks\":\"\"},\"baxis\":{\"gridcolor\":\"white\",\"linecolor\":\"white\",\"ticks\":\"\"},\"bgcolor\":\"#E5ECF6\",\"caxis\":{\"gridcolor\":\"white\",\"linecolor\":\"white\",\"ticks\":\"\"}},\"title\":{\"x\":0.05},\"xaxis\":{\"automargin\":true,\"gridcolor\":\"white\",\"linecolor\":\"white\",\"ticks\":\"\",\"title\":{\"standoff\":15},\"zerolinecolor\":\"white\",\"zerolinewidth\":2},\"yaxis\":{\"automargin\":true,\"gridcolor\":\"white\",\"linecolor\":\"white\",\"ticks\":\"\",\"title\":{\"standoff\":15},\"zerolinecolor\":\"white\",\"zerolinewidth\":2}}},\"title\":{\"text\":\"Nitrogen (N)\"},\"xaxis\":{\"anchor\":\"y\",\"domain\":[0.0,0.45],\"showgrid\":false},\"xaxis2\":{\"anchor\":\"y2\",\"domain\":[0.55,1.0],\"showgrid\":false},\"yaxis\":{\"anchor\":\"x\",\"domain\":[0.0,1.0],\"showgrid\":false},\"yaxis2\":{\"anchor\":\"x2\",\"domain\":[0.0,1.0],\"showgrid\":false}},                        {\"responsive\": true}                    ).then(function(){\n",
       "                            \n",
       "var gd = document.getElementById('fd0a9115-c7de-4ab3-a533-bbf9698f8b44');\n",
       "var x = new MutationObserver(function (mutations, observer) {{\n",
       "        var display = window.getComputedStyle(gd).display;\n",
       "        if (!display || display === 'none') {{\n",
       "            console.log([gd, 'removed!']);\n",
       "            Plotly.purge(gd);\n",
       "            observer.disconnect();\n",
       "        }}\n",
       "}});\n",
       "\n",
       "// Listen for the removal of the full notebook cells\n",
       "var notebookContainer = gd.closest('#notebook-container');\n",
       "if (notebookContainer) {{\n",
       "    x.observe(notebookContainer, {childList: true});\n",
       "}}\n",
       "\n",
       "// Listen for the clearing of the current output cell\n",
       "var outputEl = gd.closest('.output');\n",
       "if (outputEl) {{\n",
       "    x.observe(outputEl, {childList: true});\n",
       "}}\n",
       "\n",
       "                        })                };                });            </script>        </div>"
      ]
     },
     "metadata": {},
     "output_type": "display_data"
    }
   ],
   "source": [
    "crop_summary_N = crop_summary.sort_values(by='N', ascending=False)\n",
    "  \n",
    "fig = make_subplots(rows=1, cols=2)\n",
    "\n",
    "top = {\n",
    "    'y' : crop_summary_N['N'][0:10].sort_values().index,\n",
    "    'x' : crop_summary_N['N'][0:10].sort_values()\n",
    "}\n",
    "\n",
    "last = {\n",
    "    'y' : crop_summary_N['N'][-10:].index,\n",
    "    'x' : crop_summary_N['N'][-10:]\n",
    "}\n",
    "\n",
    "fig.add_trace(\n",
    "    go.Bar(top,\n",
    "           name=\"Most nitrogen required\",\n",
    "           marker_color=random.choice(colorarr),\n",
    "           orientation='h',\n",
    "          text=top['x']),\n",
    "    \n",
    "    row=1, col=1\n",
    ")\n",
    "\n",
    "fig.add_trace(\n",
    "    go.Bar(last,\n",
    "           name=\"Least nitrogen required\",\n",
    "           marker_color=random.choice(colorarr),\n",
    "           orientation='h',\n",
    "          text=last['x']),\n",
    "    row=1, col=2\n",
    ")\n",
    "fig.update_traces(texttemplate='%{text}', textposition='inside')\n",
    "fig.update_layout(title_text=\"Nitrogen (N)\",\n",
    "                  plot_bgcolor='white',\n",
    "                  font_size=12, \n",
    "                  font_color='black',\n",
    "                 height=500)\n",
    "\n",
    "fig.update_xaxes(showgrid=False)\n",
    "fig.update_yaxes(showgrid=False)\n",
    "fig.show()"
   ]
  },
  {
   "cell_type": "code",
   "execution_count": 35,
   "id": "f3077084",
   "metadata": {},
   "outputs": [
    {
     "data": {
      "application/vnd.plotly.v1+json": {
       "config": {
        "plotlyServerURL": "https://plot.ly"
       },
       "data": [
        {
         "marker": {
          "color": "#Eedc82"
         },
         "name": "Most phosphorus required",
         "orientation": "h",
         "text": [
          48.44,
          59.05,
          67.47,
          67.54,
          67.73,
          67.79,
          68.36,
          82.01,
          132.53,
          134.22
         ],
         "textposition": "inside",
         "texttemplate": "%{text}",
         "type": "bar",
         "x": [
          48.44,
          59.05,
          67.47,
          67.54,
          67.73,
          67.79,
          68.36,
          82.01,
          132.53,
          134.22
         ],
         "xaxis": "x",
         "y": [
          "maize",
          "papaya",
          "blackgram",
          "kidneybeans",
          "pigeonpeas",
          "chickpea",
          "lentil",
          "banana",
          "grapes",
          "apple"
         ],
         "yaxis": "y"
        },
        {
         "marker": {
          "color": "#E4d96f"
         },
         "name": "Least phosphorus required",
         "orientation": "h",
         "text": [
          47.28,
          46.86,
          46.24,
          28.74,
          27.18,
          18.75,
          17.72,
          17,
          16.93,
          16.55
         ],
         "textposition": "inside",
         "texttemplate": "%{text}",
         "type": "bar",
         "x": [
          47.28,
          46.86,
          46.24,
          28.74,
          27.18,
          18.75,
          17.72,
          17,
          16.93,
          16.55
         ],
         "xaxis": "x2",
         "y": [
          "mungbean",
          "jute",
          "cotton",
          "coffee",
          "mango",
          "pomegranate",
          "muskmelon",
          "watermelon",
          "coconut",
          "orange"
         ],
         "yaxis": "y2"
        }
       ],
       "layout": {
        "font": {
         "color": "black",
         "size": 12
        },
        "height": 500,
        "plot_bgcolor": "white",
        "template": {
         "data": {
          "bar": [
           {
            "error_x": {
             "color": "#2a3f5f"
            },
            "error_y": {
             "color": "#2a3f5f"
            },
            "marker": {
             "line": {
              "color": "#E5ECF6",
              "width": 0.5
             },
             "pattern": {
              "fillmode": "overlay",
              "size": 10,
              "solidity": 0.2
             }
            },
            "type": "bar"
           }
          ],
          "barpolar": [
           {
            "marker": {
             "line": {
              "color": "#E5ECF6",
              "width": 0.5
             },
             "pattern": {
              "fillmode": "overlay",
              "size": 10,
              "solidity": 0.2
             }
            },
            "type": "barpolar"
           }
          ],
          "carpet": [
           {
            "aaxis": {
             "endlinecolor": "#2a3f5f",
             "gridcolor": "white",
             "linecolor": "white",
             "minorgridcolor": "white",
             "startlinecolor": "#2a3f5f"
            },
            "baxis": {
             "endlinecolor": "#2a3f5f",
             "gridcolor": "white",
             "linecolor": "white",
             "minorgridcolor": "white",
             "startlinecolor": "#2a3f5f"
            },
            "type": "carpet"
           }
          ],
          "choropleth": [
           {
            "colorbar": {
             "outlinewidth": 0,
             "ticks": ""
            },
            "type": "choropleth"
           }
          ],
          "contour": [
           {
            "colorbar": {
             "outlinewidth": 0,
             "ticks": ""
            },
            "colorscale": [
             [
              0,
              "#0d0887"
             ],
             [
              0.1111111111111111,
              "#46039f"
             ],
             [
              0.2222222222222222,
              "#7201a8"
             ],
             [
              0.3333333333333333,
              "#9c179e"
             ],
             [
              0.4444444444444444,
              "#bd3786"
             ],
             [
              0.5555555555555556,
              "#d8576b"
             ],
             [
              0.6666666666666666,
              "#ed7953"
             ],
             [
              0.7777777777777778,
              "#fb9f3a"
             ],
             [
              0.8888888888888888,
              "#fdca26"
             ],
             [
              1,
              "#f0f921"
             ]
            ],
            "type": "contour"
           }
          ],
          "contourcarpet": [
           {
            "colorbar": {
             "outlinewidth": 0,
             "ticks": ""
            },
            "type": "contourcarpet"
           }
          ],
          "heatmap": [
           {
            "colorbar": {
             "outlinewidth": 0,
             "ticks": ""
            },
            "colorscale": [
             [
              0,
              "#0d0887"
             ],
             [
              0.1111111111111111,
              "#46039f"
             ],
             [
              0.2222222222222222,
              "#7201a8"
             ],
             [
              0.3333333333333333,
              "#9c179e"
             ],
             [
              0.4444444444444444,
              "#bd3786"
             ],
             [
              0.5555555555555556,
              "#d8576b"
             ],
             [
              0.6666666666666666,
              "#ed7953"
             ],
             [
              0.7777777777777778,
              "#fb9f3a"
             ],
             [
              0.8888888888888888,
              "#fdca26"
             ],
             [
              1,
              "#f0f921"
             ]
            ],
            "type": "heatmap"
           }
          ],
          "heatmapgl": [
           {
            "colorbar": {
             "outlinewidth": 0,
             "ticks": ""
            },
            "colorscale": [
             [
              0,
              "#0d0887"
             ],
             [
              0.1111111111111111,
              "#46039f"
             ],
             [
              0.2222222222222222,
              "#7201a8"
             ],
             [
              0.3333333333333333,
              "#9c179e"
             ],
             [
              0.4444444444444444,
              "#bd3786"
             ],
             [
              0.5555555555555556,
              "#d8576b"
             ],
             [
              0.6666666666666666,
              "#ed7953"
             ],
             [
              0.7777777777777778,
              "#fb9f3a"
             ],
             [
              0.8888888888888888,
              "#fdca26"
             ],
             [
              1,
              "#f0f921"
             ]
            ],
            "type": "heatmapgl"
           }
          ],
          "histogram": [
           {
            "marker": {
             "pattern": {
              "fillmode": "overlay",
              "size": 10,
              "solidity": 0.2
             }
            },
            "type": "histogram"
           }
          ],
          "histogram2d": [
           {
            "colorbar": {
             "outlinewidth": 0,
             "ticks": ""
            },
            "colorscale": [
             [
              0,
              "#0d0887"
             ],
             [
              0.1111111111111111,
              "#46039f"
             ],
             [
              0.2222222222222222,
              "#7201a8"
             ],
             [
              0.3333333333333333,
              "#9c179e"
             ],
             [
              0.4444444444444444,
              "#bd3786"
             ],
             [
              0.5555555555555556,
              "#d8576b"
             ],
             [
              0.6666666666666666,
              "#ed7953"
             ],
             [
              0.7777777777777778,
              "#fb9f3a"
             ],
             [
              0.8888888888888888,
              "#fdca26"
             ],
             [
              1,
              "#f0f921"
             ]
            ],
            "type": "histogram2d"
           }
          ],
          "histogram2dcontour": [
           {
            "colorbar": {
             "outlinewidth": 0,
             "ticks": ""
            },
            "colorscale": [
             [
              0,
              "#0d0887"
             ],
             [
              0.1111111111111111,
              "#46039f"
             ],
             [
              0.2222222222222222,
              "#7201a8"
             ],
             [
              0.3333333333333333,
              "#9c179e"
             ],
             [
              0.4444444444444444,
              "#bd3786"
             ],
             [
              0.5555555555555556,
              "#d8576b"
             ],
             [
              0.6666666666666666,
              "#ed7953"
             ],
             [
              0.7777777777777778,
              "#fb9f3a"
             ],
             [
              0.8888888888888888,
              "#fdca26"
             ],
             [
              1,
              "#f0f921"
             ]
            ],
            "type": "histogram2dcontour"
           }
          ],
          "mesh3d": [
           {
            "colorbar": {
             "outlinewidth": 0,
             "ticks": ""
            },
            "type": "mesh3d"
           }
          ],
          "parcoords": [
           {
            "line": {
             "colorbar": {
              "outlinewidth": 0,
              "ticks": ""
             }
            },
            "type": "parcoords"
           }
          ],
          "pie": [
           {
            "automargin": true,
            "type": "pie"
           }
          ],
          "scatter": [
           {
            "marker": {
             "colorbar": {
              "outlinewidth": 0,
              "ticks": ""
             }
            },
            "type": "scatter"
           }
          ],
          "scatter3d": [
           {
            "line": {
             "colorbar": {
              "outlinewidth": 0,
              "ticks": ""
             }
            },
            "marker": {
             "colorbar": {
              "outlinewidth": 0,
              "ticks": ""
             }
            },
            "type": "scatter3d"
           }
          ],
          "scattercarpet": [
           {
            "marker": {
             "colorbar": {
              "outlinewidth": 0,
              "ticks": ""
             }
            },
            "type": "scattercarpet"
           }
          ],
          "scattergeo": [
           {
            "marker": {
             "colorbar": {
              "outlinewidth": 0,
              "ticks": ""
             }
            },
            "type": "scattergeo"
           }
          ],
          "scattergl": [
           {
            "marker": {
             "colorbar": {
              "outlinewidth": 0,
              "ticks": ""
             }
            },
            "type": "scattergl"
           }
          ],
          "scattermapbox": [
           {
            "marker": {
             "colorbar": {
              "outlinewidth": 0,
              "ticks": ""
             }
            },
            "type": "scattermapbox"
           }
          ],
          "scatterpolar": [
           {
            "marker": {
             "colorbar": {
              "outlinewidth": 0,
              "ticks": ""
             }
            },
            "type": "scatterpolar"
           }
          ],
          "scatterpolargl": [
           {
            "marker": {
             "colorbar": {
              "outlinewidth": 0,
              "ticks": ""
             }
            },
            "type": "scatterpolargl"
           }
          ],
          "scatterternary": [
           {
            "marker": {
             "colorbar": {
              "outlinewidth": 0,
              "ticks": ""
             }
            },
            "type": "scatterternary"
           }
          ],
          "surface": [
           {
            "colorbar": {
             "outlinewidth": 0,
             "ticks": ""
            },
            "colorscale": [
             [
              0,
              "#0d0887"
             ],
             [
              0.1111111111111111,
              "#46039f"
             ],
             [
              0.2222222222222222,
              "#7201a8"
             ],
             [
              0.3333333333333333,
              "#9c179e"
             ],
             [
              0.4444444444444444,
              "#bd3786"
             ],
             [
              0.5555555555555556,
              "#d8576b"
             ],
             [
              0.6666666666666666,
              "#ed7953"
             ],
             [
              0.7777777777777778,
              "#fb9f3a"
             ],
             [
              0.8888888888888888,
              "#fdca26"
             ],
             [
              1,
              "#f0f921"
             ]
            ],
            "type": "surface"
           }
          ],
          "table": [
           {
            "cells": {
             "fill": {
              "color": "#EBF0F8"
             },
             "line": {
              "color": "white"
             }
            },
            "header": {
             "fill": {
              "color": "#C8D4E3"
             },
             "line": {
              "color": "white"
             }
            },
            "type": "table"
           }
          ]
         },
         "layout": {
          "annotationdefaults": {
           "arrowcolor": "#2a3f5f",
           "arrowhead": 0,
           "arrowwidth": 1
          },
          "autotypenumbers": "strict",
          "coloraxis": {
           "colorbar": {
            "outlinewidth": 0,
            "ticks": ""
           }
          },
          "colorscale": {
           "diverging": [
            [
             0,
             "#8e0152"
            ],
            [
             0.1,
             "#c51b7d"
            ],
            [
             0.2,
             "#de77ae"
            ],
            [
             0.3,
             "#f1b6da"
            ],
            [
             0.4,
             "#fde0ef"
            ],
            [
             0.5,
             "#f7f7f7"
            ],
            [
             0.6,
             "#e6f5d0"
            ],
            [
             0.7,
             "#b8e186"
            ],
            [
             0.8,
             "#7fbc41"
            ],
            [
             0.9,
             "#4d9221"
            ],
            [
             1,
             "#276419"
            ]
           ],
           "sequential": [
            [
             0,
             "#0d0887"
            ],
            [
             0.1111111111111111,
             "#46039f"
            ],
            [
             0.2222222222222222,
             "#7201a8"
            ],
            [
             0.3333333333333333,
             "#9c179e"
            ],
            [
             0.4444444444444444,
             "#bd3786"
            ],
            [
             0.5555555555555556,
             "#d8576b"
            ],
            [
             0.6666666666666666,
             "#ed7953"
            ],
            [
             0.7777777777777778,
             "#fb9f3a"
            ],
            [
             0.8888888888888888,
             "#fdca26"
            ],
            [
             1,
             "#f0f921"
            ]
           ],
           "sequentialminus": [
            [
             0,
             "#0d0887"
            ],
            [
             0.1111111111111111,
             "#46039f"
            ],
            [
             0.2222222222222222,
             "#7201a8"
            ],
            [
             0.3333333333333333,
             "#9c179e"
            ],
            [
             0.4444444444444444,
             "#bd3786"
            ],
            [
             0.5555555555555556,
             "#d8576b"
            ],
            [
             0.6666666666666666,
             "#ed7953"
            ],
            [
             0.7777777777777778,
             "#fb9f3a"
            ],
            [
             0.8888888888888888,
             "#fdca26"
            ],
            [
             1,
             "#f0f921"
            ]
           ]
          },
          "colorway": [
           "#636efa",
           "#EF553B",
           "#00cc96",
           "#ab63fa",
           "#FFA15A",
           "#19d3f3",
           "#FF6692",
           "#B6E880",
           "#FF97FF",
           "#FECB52"
          ],
          "font": {
           "color": "#2a3f5f"
          },
          "geo": {
           "bgcolor": "white",
           "lakecolor": "white",
           "landcolor": "#E5ECF6",
           "showlakes": true,
           "showland": true,
           "subunitcolor": "white"
          },
          "hoverlabel": {
           "align": "left"
          },
          "hovermode": "closest",
          "mapbox": {
           "style": "light"
          },
          "paper_bgcolor": "white",
          "plot_bgcolor": "#E5ECF6",
          "polar": {
           "angularaxis": {
            "gridcolor": "white",
            "linecolor": "white",
            "ticks": ""
           },
           "bgcolor": "#E5ECF6",
           "radialaxis": {
            "gridcolor": "white",
            "linecolor": "white",
            "ticks": ""
           }
          },
          "scene": {
           "xaxis": {
            "backgroundcolor": "#E5ECF6",
            "gridcolor": "white",
            "gridwidth": 2,
            "linecolor": "white",
            "showbackground": true,
            "ticks": "",
            "zerolinecolor": "white"
           },
           "yaxis": {
            "backgroundcolor": "#E5ECF6",
            "gridcolor": "white",
            "gridwidth": 2,
            "linecolor": "white",
            "showbackground": true,
            "ticks": "",
            "zerolinecolor": "white"
           },
           "zaxis": {
            "backgroundcolor": "#E5ECF6",
            "gridcolor": "white",
            "gridwidth": 2,
            "linecolor": "white",
            "showbackground": true,
            "ticks": "",
            "zerolinecolor": "white"
           }
          },
          "shapedefaults": {
           "line": {
            "color": "#2a3f5f"
           }
          },
          "ternary": {
           "aaxis": {
            "gridcolor": "white",
            "linecolor": "white",
            "ticks": ""
           },
           "baxis": {
            "gridcolor": "white",
            "linecolor": "white",
            "ticks": ""
           },
           "bgcolor": "#E5ECF6",
           "caxis": {
            "gridcolor": "white",
            "linecolor": "white",
            "ticks": ""
           }
          },
          "title": {
           "x": 0.05
          },
          "xaxis": {
           "automargin": true,
           "gridcolor": "white",
           "linecolor": "white",
           "ticks": "",
           "title": {
            "standoff": 15
           },
           "zerolinecolor": "white",
           "zerolinewidth": 2
          },
          "yaxis": {
           "automargin": true,
           "gridcolor": "white",
           "linecolor": "white",
           "ticks": "",
           "title": {
            "standoff": 15
           },
           "zerolinecolor": "white",
           "zerolinewidth": 2
          }
         }
        },
        "title": {
         "text": "Phosphorus (P)"
        },
        "xaxis": {
         "anchor": "y",
         "domain": [
          0,
          0.45
         ],
         "showgrid": false
        },
        "xaxis2": {
         "anchor": "y2",
         "domain": [
          0.55,
          1
         ],
         "showgrid": false
        },
        "yaxis": {
         "anchor": "x",
         "domain": [
          0,
          1
         ],
         "showgrid": false
        },
        "yaxis2": {
         "anchor": "x2",
         "domain": [
          0,
          1
         ],
         "showgrid": false
        }
       }
      },
      "text/html": [
       "<div>                            <div id=\"5087eb32-b40c-4ecc-8a02-b814f3cc868b\" class=\"plotly-graph-div\" style=\"height:500px; width:100%;\"></div>            <script type=\"text/javascript\">                require([\"plotly\"], function(Plotly) {                    window.PLOTLYENV=window.PLOTLYENV || {};                                    if (document.getElementById(\"5087eb32-b40c-4ecc-8a02-b814f3cc868b\")) {                    Plotly.newPlot(                        \"5087eb32-b40c-4ecc-8a02-b814f3cc868b\",                        [{\"marker\":{\"color\":\"#Eedc82\"},\"name\":\"Most phosphorus required\",\"orientation\":\"h\",\"text\":[48.44,59.05,67.47,67.54,67.73,67.79,68.36,82.01,132.53,134.22],\"textposition\":\"inside\",\"texttemplate\":\"%{text}\",\"type\":\"bar\",\"x\":[48.44,59.05,67.47,67.54,67.73,67.79,68.36,82.01,132.53,134.22],\"xaxis\":\"x\",\"y\":[\"maize\",\"papaya\",\"blackgram\",\"kidneybeans\",\"pigeonpeas\",\"chickpea\",\"lentil\",\"banana\",\"grapes\",\"apple\"],\"yaxis\":\"y\"},{\"marker\":{\"color\":\"#E4d96f\"},\"name\":\"Least phosphorus required\",\"orientation\":\"h\",\"text\":[47.28,46.86,46.24,28.74,27.18,18.75,17.72,17.0,16.93,16.55],\"textposition\":\"inside\",\"texttemplate\":\"%{text}\",\"type\":\"bar\",\"x\":[47.28,46.86,46.24,28.74,27.18,18.75,17.72,17.0,16.93,16.55],\"xaxis\":\"x2\",\"y\":[\"mungbean\",\"jute\",\"cotton\",\"coffee\",\"mango\",\"pomegranate\",\"muskmelon\",\"watermelon\",\"coconut\",\"orange\"],\"yaxis\":\"y2\"}],                        {\"font\":{\"color\":\"black\",\"size\":12},\"height\":500,\"plot_bgcolor\":\"white\",\"template\":{\"data\":{\"bar\":[{\"error_x\":{\"color\":\"#2a3f5f\"},\"error_y\":{\"color\":\"#2a3f5f\"},\"marker\":{\"line\":{\"color\":\"#E5ECF6\",\"width\":0.5},\"pattern\":{\"fillmode\":\"overlay\",\"size\":10,\"solidity\":0.2}},\"type\":\"bar\"}],\"barpolar\":[{\"marker\":{\"line\":{\"color\":\"#E5ECF6\",\"width\":0.5},\"pattern\":{\"fillmode\":\"overlay\",\"size\":10,\"solidity\":0.2}},\"type\":\"barpolar\"}],\"carpet\":[{\"aaxis\":{\"endlinecolor\":\"#2a3f5f\",\"gridcolor\":\"white\",\"linecolor\":\"white\",\"minorgridcolor\":\"white\",\"startlinecolor\":\"#2a3f5f\"},\"baxis\":{\"endlinecolor\":\"#2a3f5f\",\"gridcolor\":\"white\",\"linecolor\":\"white\",\"minorgridcolor\":\"white\",\"startlinecolor\":\"#2a3f5f\"},\"type\":\"carpet\"}],\"choropleth\":[{\"colorbar\":{\"outlinewidth\":0,\"ticks\":\"\"},\"type\":\"choropleth\"}],\"contour\":[{\"colorbar\":{\"outlinewidth\":0,\"ticks\":\"\"},\"colorscale\":[[0.0,\"#0d0887\"],[0.1111111111111111,\"#46039f\"],[0.2222222222222222,\"#7201a8\"],[0.3333333333333333,\"#9c179e\"],[0.4444444444444444,\"#bd3786\"],[0.5555555555555556,\"#d8576b\"],[0.6666666666666666,\"#ed7953\"],[0.7777777777777778,\"#fb9f3a\"],[0.8888888888888888,\"#fdca26\"],[1.0,\"#f0f921\"]],\"type\":\"contour\"}],\"contourcarpet\":[{\"colorbar\":{\"outlinewidth\":0,\"ticks\":\"\"},\"type\":\"contourcarpet\"}],\"heatmap\":[{\"colorbar\":{\"outlinewidth\":0,\"ticks\":\"\"},\"colorscale\":[[0.0,\"#0d0887\"],[0.1111111111111111,\"#46039f\"],[0.2222222222222222,\"#7201a8\"],[0.3333333333333333,\"#9c179e\"],[0.4444444444444444,\"#bd3786\"],[0.5555555555555556,\"#d8576b\"],[0.6666666666666666,\"#ed7953\"],[0.7777777777777778,\"#fb9f3a\"],[0.8888888888888888,\"#fdca26\"],[1.0,\"#f0f921\"]],\"type\":\"heatmap\"}],\"heatmapgl\":[{\"colorbar\":{\"outlinewidth\":0,\"ticks\":\"\"},\"colorscale\":[[0.0,\"#0d0887\"],[0.1111111111111111,\"#46039f\"],[0.2222222222222222,\"#7201a8\"],[0.3333333333333333,\"#9c179e\"],[0.4444444444444444,\"#bd3786\"],[0.5555555555555556,\"#d8576b\"],[0.6666666666666666,\"#ed7953\"],[0.7777777777777778,\"#fb9f3a\"],[0.8888888888888888,\"#fdca26\"],[1.0,\"#f0f921\"]],\"type\":\"heatmapgl\"}],\"histogram\":[{\"marker\":{\"pattern\":{\"fillmode\":\"overlay\",\"size\":10,\"solidity\":0.2}},\"type\":\"histogram\"}],\"histogram2d\":[{\"colorbar\":{\"outlinewidth\":0,\"ticks\":\"\"},\"colorscale\":[[0.0,\"#0d0887\"],[0.1111111111111111,\"#46039f\"],[0.2222222222222222,\"#7201a8\"],[0.3333333333333333,\"#9c179e\"],[0.4444444444444444,\"#bd3786\"],[0.5555555555555556,\"#d8576b\"],[0.6666666666666666,\"#ed7953\"],[0.7777777777777778,\"#fb9f3a\"],[0.8888888888888888,\"#fdca26\"],[1.0,\"#f0f921\"]],\"type\":\"histogram2d\"}],\"histogram2dcontour\":[{\"colorbar\":{\"outlinewidth\":0,\"ticks\":\"\"},\"colorscale\":[[0.0,\"#0d0887\"],[0.1111111111111111,\"#46039f\"],[0.2222222222222222,\"#7201a8\"],[0.3333333333333333,\"#9c179e\"],[0.4444444444444444,\"#bd3786\"],[0.5555555555555556,\"#d8576b\"],[0.6666666666666666,\"#ed7953\"],[0.7777777777777778,\"#fb9f3a\"],[0.8888888888888888,\"#fdca26\"],[1.0,\"#f0f921\"]],\"type\":\"histogram2dcontour\"}],\"mesh3d\":[{\"colorbar\":{\"outlinewidth\":0,\"ticks\":\"\"},\"type\":\"mesh3d\"}],\"parcoords\":[{\"line\":{\"colorbar\":{\"outlinewidth\":0,\"ticks\":\"\"}},\"type\":\"parcoords\"}],\"pie\":[{\"automargin\":true,\"type\":\"pie\"}],\"scatter\":[{\"marker\":{\"colorbar\":{\"outlinewidth\":0,\"ticks\":\"\"}},\"type\":\"scatter\"}],\"scatter3d\":[{\"line\":{\"colorbar\":{\"outlinewidth\":0,\"ticks\":\"\"}},\"marker\":{\"colorbar\":{\"outlinewidth\":0,\"ticks\":\"\"}},\"type\":\"scatter3d\"}],\"scattercarpet\":[{\"marker\":{\"colorbar\":{\"outlinewidth\":0,\"ticks\":\"\"}},\"type\":\"scattercarpet\"}],\"scattergeo\":[{\"marker\":{\"colorbar\":{\"outlinewidth\":0,\"ticks\":\"\"}},\"type\":\"scattergeo\"}],\"scattergl\":[{\"marker\":{\"colorbar\":{\"outlinewidth\":0,\"ticks\":\"\"}},\"type\":\"scattergl\"}],\"scattermapbox\":[{\"marker\":{\"colorbar\":{\"outlinewidth\":0,\"ticks\":\"\"}},\"type\":\"scattermapbox\"}],\"scatterpolar\":[{\"marker\":{\"colorbar\":{\"outlinewidth\":0,\"ticks\":\"\"}},\"type\":\"scatterpolar\"}],\"scatterpolargl\":[{\"marker\":{\"colorbar\":{\"outlinewidth\":0,\"ticks\":\"\"}},\"type\":\"scatterpolargl\"}],\"scatterternary\":[{\"marker\":{\"colorbar\":{\"outlinewidth\":0,\"ticks\":\"\"}},\"type\":\"scatterternary\"}],\"surface\":[{\"colorbar\":{\"outlinewidth\":0,\"ticks\":\"\"},\"colorscale\":[[0.0,\"#0d0887\"],[0.1111111111111111,\"#46039f\"],[0.2222222222222222,\"#7201a8\"],[0.3333333333333333,\"#9c179e\"],[0.4444444444444444,\"#bd3786\"],[0.5555555555555556,\"#d8576b\"],[0.6666666666666666,\"#ed7953\"],[0.7777777777777778,\"#fb9f3a\"],[0.8888888888888888,\"#fdca26\"],[1.0,\"#f0f921\"]],\"type\":\"surface\"}],\"table\":[{\"cells\":{\"fill\":{\"color\":\"#EBF0F8\"},\"line\":{\"color\":\"white\"}},\"header\":{\"fill\":{\"color\":\"#C8D4E3\"},\"line\":{\"color\":\"white\"}},\"type\":\"table\"}]},\"layout\":{\"annotationdefaults\":{\"arrowcolor\":\"#2a3f5f\",\"arrowhead\":0,\"arrowwidth\":1},\"autotypenumbers\":\"strict\",\"coloraxis\":{\"colorbar\":{\"outlinewidth\":0,\"ticks\":\"\"}},\"colorscale\":{\"diverging\":[[0,\"#8e0152\"],[0.1,\"#c51b7d\"],[0.2,\"#de77ae\"],[0.3,\"#f1b6da\"],[0.4,\"#fde0ef\"],[0.5,\"#f7f7f7\"],[0.6,\"#e6f5d0\"],[0.7,\"#b8e186\"],[0.8,\"#7fbc41\"],[0.9,\"#4d9221\"],[1,\"#276419\"]],\"sequential\":[[0.0,\"#0d0887\"],[0.1111111111111111,\"#46039f\"],[0.2222222222222222,\"#7201a8\"],[0.3333333333333333,\"#9c179e\"],[0.4444444444444444,\"#bd3786\"],[0.5555555555555556,\"#d8576b\"],[0.6666666666666666,\"#ed7953\"],[0.7777777777777778,\"#fb9f3a\"],[0.8888888888888888,\"#fdca26\"],[1.0,\"#f0f921\"]],\"sequentialminus\":[[0.0,\"#0d0887\"],[0.1111111111111111,\"#46039f\"],[0.2222222222222222,\"#7201a8\"],[0.3333333333333333,\"#9c179e\"],[0.4444444444444444,\"#bd3786\"],[0.5555555555555556,\"#d8576b\"],[0.6666666666666666,\"#ed7953\"],[0.7777777777777778,\"#fb9f3a\"],[0.8888888888888888,\"#fdca26\"],[1.0,\"#f0f921\"]]},\"colorway\":[\"#636efa\",\"#EF553B\",\"#00cc96\",\"#ab63fa\",\"#FFA15A\",\"#19d3f3\",\"#FF6692\",\"#B6E880\",\"#FF97FF\",\"#FECB52\"],\"font\":{\"color\":\"#2a3f5f\"},\"geo\":{\"bgcolor\":\"white\",\"lakecolor\":\"white\",\"landcolor\":\"#E5ECF6\",\"showlakes\":true,\"showland\":true,\"subunitcolor\":\"white\"},\"hoverlabel\":{\"align\":\"left\"},\"hovermode\":\"closest\",\"mapbox\":{\"style\":\"light\"},\"paper_bgcolor\":\"white\",\"plot_bgcolor\":\"#E5ECF6\",\"polar\":{\"angularaxis\":{\"gridcolor\":\"white\",\"linecolor\":\"white\",\"ticks\":\"\"},\"bgcolor\":\"#E5ECF6\",\"radialaxis\":{\"gridcolor\":\"white\",\"linecolor\":\"white\",\"ticks\":\"\"}},\"scene\":{\"xaxis\":{\"backgroundcolor\":\"#E5ECF6\",\"gridcolor\":\"white\",\"gridwidth\":2,\"linecolor\":\"white\",\"showbackground\":true,\"ticks\":\"\",\"zerolinecolor\":\"white\"},\"yaxis\":{\"backgroundcolor\":\"#E5ECF6\",\"gridcolor\":\"white\",\"gridwidth\":2,\"linecolor\":\"white\",\"showbackground\":true,\"ticks\":\"\",\"zerolinecolor\":\"white\"},\"zaxis\":{\"backgroundcolor\":\"#E5ECF6\",\"gridcolor\":\"white\",\"gridwidth\":2,\"linecolor\":\"white\",\"showbackground\":true,\"ticks\":\"\",\"zerolinecolor\":\"white\"}},\"shapedefaults\":{\"line\":{\"color\":\"#2a3f5f\"}},\"ternary\":{\"aaxis\":{\"gridcolor\":\"white\",\"linecolor\":\"white\",\"ticks\":\"\"},\"baxis\":{\"gridcolor\":\"white\",\"linecolor\":\"white\",\"ticks\":\"\"},\"bgcolor\":\"#E5ECF6\",\"caxis\":{\"gridcolor\":\"white\",\"linecolor\":\"white\",\"ticks\":\"\"}},\"title\":{\"x\":0.05},\"xaxis\":{\"automargin\":true,\"gridcolor\":\"white\",\"linecolor\":\"white\",\"ticks\":\"\",\"title\":{\"standoff\":15},\"zerolinecolor\":\"white\",\"zerolinewidth\":2},\"yaxis\":{\"automargin\":true,\"gridcolor\":\"white\",\"linecolor\":\"white\",\"ticks\":\"\",\"title\":{\"standoff\":15},\"zerolinecolor\":\"white\",\"zerolinewidth\":2}}},\"title\":{\"text\":\"Phosphorus (P)\"},\"xaxis\":{\"anchor\":\"y\",\"domain\":[0.0,0.45],\"showgrid\":false},\"xaxis2\":{\"anchor\":\"y2\",\"domain\":[0.55,1.0],\"showgrid\":false},\"yaxis\":{\"anchor\":\"x\",\"domain\":[0.0,1.0],\"showgrid\":false},\"yaxis2\":{\"anchor\":\"x2\",\"domain\":[0.0,1.0],\"showgrid\":false}},                        {\"responsive\": true}                    ).then(function(){\n",
       "                            \n",
       "var gd = document.getElementById('5087eb32-b40c-4ecc-8a02-b814f3cc868b');\n",
       "var x = new MutationObserver(function (mutations, observer) {{\n",
       "        var display = window.getComputedStyle(gd).display;\n",
       "        if (!display || display === 'none') {{\n",
       "            console.log([gd, 'removed!']);\n",
       "            Plotly.purge(gd);\n",
       "            observer.disconnect();\n",
       "        }}\n",
       "}});\n",
       "\n",
       "// Listen for the removal of the full notebook cells\n",
       "var notebookContainer = gd.closest('#notebook-container');\n",
       "if (notebookContainer) {{\n",
       "    x.observe(notebookContainer, {childList: true});\n",
       "}}\n",
       "\n",
       "// Listen for the clearing of the current output cell\n",
       "var outputEl = gd.closest('.output');\n",
       "if (outputEl) {{\n",
       "    x.observe(outputEl, {childList: true});\n",
       "}}\n",
       "\n",
       "                        })                };                });            </script>        </div>"
      ]
     },
     "metadata": {},
     "output_type": "display_data"
    }
   ],
   "source": [
    "crop_summary_P = crop_summary.sort_values(by='P', ascending=False)\n",
    "  \n",
    "fig = make_subplots(rows=1, cols=2)\n",
    "\n",
    "top = {\n",
    "    'y' : crop_summary_P['P'][0:10].sort_values().index,\n",
    "    'x' : crop_summary_P['P'][0:10].sort_values()\n",
    "}\n",
    "\n",
    "last = {\n",
    "    'y' : crop_summary_P['P'][-10:].index,\n",
    "    'x' : crop_summary_P['P'][-10:]\n",
    "}\n",
    "\n",
    "fig.add_trace(\n",
    "    go.Bar(top,\n",
    "           name=\"Most phosphorus required\",\n",
    "           marker_color=random.choice(colorarr),\n",
    "           orientation='h',\n",
    "          text=top['x']),\n",
    "    \n",
    "    row=1, col=1\n",
    ")\n",
    "\n",
    "fig.add_trace(\n",
    "    go.Bar(last,\n",
    "           name=\"Least phosphorus required\",\n",
    "           marker_color=random.choice(colorarr),\n",
    "           orientation='h',\n",
    "          text=last['x']),\n",
    "    row=1, col=2\n",
    ")\n",
    "fig.update_traces(texttemplate='%{text}', textposition='inside')\n",
    "fig.update_layout(title_text=\"Phosphorus (P)\",\n",
    "                  plot_bgcolor='white',\n",
    "                  font_size=12, \n",
    "                  font_color='black',\n",
    "                 height=500)\n",
    "\n",
    "fig.update_xaxes(showgrid=False)\n",
    "fig.update_yaxes(showgrid=False)\n",
    "fig.show()\n"
   ]
  },
  {
   "cell_type": "code",
   "execution_count": 36,
   "id": "43b061ef",
   "metadata": {},
   "outputs": [
    {
     "data": {
      "application/vnd.plotly.v1+json": {
       "config": {
        "plotlyServerURL": "https://plot.ly"
       },
       "data": [
        {
         "marker": {
          "color": "#Ffb347"
         },
         "name": "Most potassium required",
         "orientation": "h",
         "text": [
          39.87,
          39.99,
          40.21,
          50.04,
          50.05,
          50.08,
          50.22,
          79.92,
          199.89,
          200.11
         ],
         "textposition": "inside",
         "texttemplate": "%{text}",
         "type": "bar",
         "x": [
          39.87,
          39.99,
          40.21,
          50.04,
          50.05,
          50.08,
          50.22,
          79.92,
          199.89,
          200.11
         ],
         "xaxis": "x",
         "y": [
          "rice",
          "jute",
          "pomegranate",
          "papaya",
          "banana",
          "muskmelon",
          "watermelon",
          "chickpea",
          "apple",
          "grapes"
         ],
         "yaxis": "y"
        },
        {
         "marker": {
          "color": "#C2b280"
         },
         "name": "Least potassium required",
         "orientation": "h",
         "text": [
          29.92,
          20.29,
          20.23,
          20.05,
          19.87,
          19.79,
          19.56,
          19.41,
          19.24,
          10.01
         ],
         "textposition": "inside",
         "texttemplate": "%{text}",
         "type": "bar",
         "x": [
          29.92,
          20.29,
          20.23,
          20.05,
          19.87,
          19.79,
          19.56,
          19.41,
          19.24,
          10.01
         ],
         "xaxis": "x2",
         "y": [
          "mango",
          "pigeonpeas",
          "mothbeans",
          "kidneybeans",
          "mungbean",
          "maize",
          "cotton",
          "lentil",
          "blackgram",
          "orange"
         ],
         "yaxis": "y2"
        }
       ],
       "layout": {
        "font": {
         "color": "black",
         "size": 12
        },
        "height": 500,
        "plot_bgcolor": "white",
        "template": {
         "data": {
          "bar": [
           {
            "error_x": {
             "color": "#2a3f5f"
            },
            "error_y": {
             "color": "#2a3f5f"
            },
            "marker": {
             "line": {
              "color": "#E5ECF6",
              "width": 0.5
             },
             "pattern": {
              "fillmode": "overlay",
              "size": 10,
              "solidity": 0.2
             }
            },
            "type": "bar"
           }
          ],
          "barpolar": [
           {
            "marker": {
             "line": {
              "color": "#E5ECF6",
              "width": 0.5
             },
             "pattern": {
              "fillmode": "overlay",
              "size": 10,
              "solidity": 0.2
             }
            },
            "type": "barpolar"
           }
          ],
          "carpet": [
           {
            "aaxis": {
             "endlinecolor": "#2a3f5f",
             "gridcolor": "white",
             "linecolor": "white",
             "minorgridcolor": "white",
             "startlinecolor": "#2a3f5f"
            },
            "baxis": {
             "endlinecolor": "#2a3f5f",
             "gridcolor": "white",
             "linecolor": "white",
             "minorgridcolor": "white",
             "startlinecolor": "#2a3f5f"
            },
            "type": "carpet"
           }
          ],
          "choropleth": [
           {
            "colorbar": {
             "outlinewidth": 0,
             "ticks": ""
            },
            "type": "choropleth"
           }
          ],
          "contour": [
           {
            "colorbar": {
             "outlinewidth": 0,
             "ticks": ""
            },
            "colorscale": [
             [
              0,
              "#0d0887"
             ],
             [
              0.1111111111111111,
              "#46039f"
             ],
             [
              0.2222222222222222,
              "#7201a8"
             ],
             [
              0.3333333333333333,
              "#9c179e"
             ],
             [
              0.4444444444444444,
              "#bd3786"
             ],
             [
              0.5555555555555556,
              "#d8576b"
             ],
             [
              0.6666666666666666,
              "#ed7953"
             ],
             [
              0.7777777777777778,
              "#fb9f3a"
             ],
             [
              0.8888888888888888,
              "#fdca26"
             ],
             [
              1,
              "#f0f921"
             ]
            ],
            "type": "contour"
           }
          ],
          "contourcarpet": [
           {
            "colorbar": {
             "outlinewidth": 0,
             "ticks": ""
            },
            "type": "contourcarpet"
           }
          ],
          "heatmap": [
           {
            "colorbar": {
             "outlinewidth": 0,
             "ticks": ""
            },
            "colorscale": [
             [
              0,
              "#0d0887"
             ],
             [
              0.1111111111111111,
              "#46039f"
             ],
             [
              0.2222222222222222,
              "#7201a8"
             ],
             [
              0.3333333333333333,
              "#9c179e"
             ],
             [
              0.4444444444444444,
              "#bd3786"
             ],
             [
              0.5555555555555556,
              "#d8576b"
             ],
             [
              0.6666666666666666,
              "#ed7953"
             ],
             [
              0.7777777777777778,
              "#fb9f3a"
             ],
             [
              0.8888888888888888,
              "#fdca26"
             ],
             [
              1,
              "#f0f921"
             ]
            ],
            "type": "heatmap"
           }
          ],
          "heatmapgl": [
           {
            "colorbar": {
             "outlinewidth": 0,
             "ticks": ""
            },
            "colorscale": [
             [
              0,
              "#0d0887"
             ],
             [
              0.1111111111111111,
              "#46039f"
             ],
             [
              0.2222222222222222,
              "#7201a8"
             ],
             [
              0.3333333333333333,
              "#9c179e"
             ],
             [
              0.4444444444444444,
              "#bd3786"
             ],
             [
              0.5555555555555556,
              "#d8576b"
             ],
             [
              0.6666666666666666,
              "#ed7953"
             ],
             [
              0.7777777777777778,
              "#fb9f3a"
             ],
             [
              0.8888888888888888,
              "#fdca26"
             ],
             [
              1,
              "#f0f921"
             ]
            ],
            "type": "heatmapgl"
           }
          ],
          "histogram": [
           {
            "marker": {
             "pattern": {
              "fillmode": "overlay",
              "size": 10,
              "solidity": 0.2
             }
            },
            "type": "histogram"
           }
          ],
          "histogram2d": [
           {
            "colorbar": {
             "outlinewidth": 0,
             "ticks": ""
            },
            "colorscale": [
             [
              0,
              "#0d0887"
             ],
             [
              0.1111111111111111,
              "#46039f"
             ],
             [
              0.2222222222222222,
              "#7201a8"
             ],
             [
              0.3333333333333333,
              "#9c179e"
             ],
             [
              0.4444444444444444,
              "#bd3786"
             ],
             [
              0.5555555555555556,
              "#d8576b"
             ],
             [
              0.6666666666666666,
              "#ed7953"
             ],
             [
              0.7777777777777778,
              "#fb9f3a"
             ],
             [
              0.8888888888888888,
              "#fdca26"
             ],
             [
              1,
              "#f0f921"
             ]
            ],
            "type": "histogram2d"
           }
          ],
          "histogram2dcontour": [
           {
            "colorbar": {
             "outlinewidth": 0,
             "ticks": ""
            },
            "colorscale": [
             [
              0,
              "#0d0887"
             ],
             [
              0.1111111111111111,
              "#46039f"
             ],
             [
              0.2222222222222222,
              "#7201a8"
             ],
             [
              0.3333333333333333,
              "#9c179e"
             ],
             [
              0.4444444444444444,
              "#bd3786"
             ],
             [
              0.5555555555555556,
              "#d8576b"
             ],
             [
              0.6666666666666666,
              "#ed7953"
             ],
             [
              0.7777777777777778,
              "#fb9f3a"
             ],
             [
              0.8888888888888888,
              "#fdca26"
             ],
             [
              1,
              "#f0f921"
             ]
            ],
            "type": "histogram2dcontour"
           }
          ],
          "mesh3d": [
           {
            "colorbar": {
             "outlinewidth": 0,
             "ticks": ""
            },
            "type": "mesh3d"
           }
          ],
          "parcoords": [
           {
            "line": {
             "colorbar": {
              "outlinewidth": 0,
              "ticks": ""
             }
            },
            "type": "parcoords"
           }
          ],
          "pie": [
           {
            "automargin": true,
            "type": "pie"
           }
          ],
          "scatter": [
           {
            "marker": {
             "colorbar": {
              "outlinewidth": 0,
              "ticks": ""
             }
            },
            "type": "scatter"
           }
          ],
          "scatter3d": [
           {
            "line": {
             "colorbar": {
              "outlinewidth": 0,
              "ticks": ""
             }
            },
            "marker": {
             "colorbar": {
              "outlinewidth": 0,
              "ticks": ""
             }
            },
            "type": "scatter3d"
           }
          ],
          "scattercarpet": [
           {
            "marker": {
             "colorbar": {
              "outlinewidth": 0,
              "ticks": ""
             }
            },
            "type": "scattercarpet"
           }
          ],
          "scattergeo": [
           {
            "marker": {
             "colorbar": {
              "outlinewidth": 0,
              "ticks": ""
             }
            },
            "type": "scattergeo"
           }
          ],
          "scattergl": [
           {
            "marker": {
             "colorbar": {
              "outlinewidth": 0,
              "ticks": ""
             }
            },
            "type": "scattergl"
           }
          ],
          "scattermapbox": [
           {
            "marker": {
             "colorbar": {
              "outlinewidth": 0,
              "ticks": ""
             }
            },
            "type": "scattermapbox"
           }
          ],
          "scatterpolar": [
           {
            "marker": {
             "colorbar": {
              "outlinewidth": 0,
              "ticks": ""
             }
            },
            "type": "scatterpolar"
           }
          ],
          "scatterpolargl": [
           {
            "marker": {
             "colorbar": {
              "outlinewidth": 0,
              "ticks": ""
             }
            },
            "type": "scatterpolargl"
           }
          ],
          "scatterternary": [
           {
            "marker": {
             "colorbar": {
              "outlinewidth": 0,
              "ticks": ""
             }
            },
            "type": "scatterternary"
           }
          ],
          "surface": [
           {
            "colorbar": {
             "outlinewidth": 0,
             "ticks": ""
            },
            "colorscale": [
             [
              0,
              "#0d0887"
             ],
             [
              0.1111111111111111,
              "#46039f"
             ],
             [
              0.2222222222222222,
              "#7201a8"
             ],
             [
              0.3333333333333333,
              "#9c179e"
             ],
             [
              0.4444444444444444,
              "#bd3786"
             ],
             [
              0.5555555555555556,
              "#d8576b"
             ],
             [
              0.6666666666666666,
              "#ed7953"
             ],
             [
              0.7777777777777778,
              "#fb9f3a"
             ],
             [
              0.8888888888888888,
              "#fdca26"
             ],
             [
              1,
              "#f0f921"
             ]
            ],
            "type": "surface"
           }
          ],
          "table": [
           {
            "cells": {
             "fill": {
              "color": "#EBF0F8"
             },
             "line": {
              "color": "white"
             }
            },
            "header": {
             "fill": {
              "color": "#C8D4E3"
             },
             "line": {
              "color": "white"
             }
            },
            "type": "table"
           }
          ]
         },
         "layout": {
          "annotationdefaults": {
           "arrowcolor": "#2a3f5f",
           "arrowhead": 0,
           "arrowwidth": 1
          },
          "autotypenumbers": "strict",
          "coloraxis": {
           "colorbar": {
            "outlinewidth": 0,
            "ticks": ""
           }
          },
          "colorscale": {
           "diverging": [
            [
             0,
             "#8e0152"
            ],
            [
             0.1,
             "#c51b7d"
            ],
            [
             0.2,
             "#de77ae"
            ],
            [
             0.3,
             "#f1b6da"
            ],
            [
             0.4,
             "#fde0ef"
            ],
            [
             0.5,
             "#f7f7f7"
            ],
            [
             0.6,
             "#e6f5d0"
            ],
            [
             0.7,
             "#b8e186"
            ],
            [
             0.8,
             "#7fbc41"
            ],
            [
             0.9,
             "#4d9221"
            ],
            [
             1,
             "#276419"
            ]
           ],
           "sequential": [
            [
             0,
             "#0d0887"
            ],
            [
             0.1111111111111111,
             "#46039f"
            ],
            [
             0.2222222222222222,
             "#7201a8"
            ],
            [
             0.3333333333333333,
             "#9c179e"
            ],
            [
             0.4444444444444444,
             "#bd3786"
            ],
            [
             0.5555555555555556,
             "#d8576b"
            ],
            [
             0.6666666666666666,
             "#ed7953"
            ],
            [
             0.7777777777777778,
             "#fb9f3a"
            ],
            [
             0.8888888888888888,
             "#fdca26"
            ],
            [
             1,
             "#f0f921"
            ]
           ],
           "sequentialminus": [
            [
             0,
             "#0d0887"
            ],
            [
             0.1111111111111111,
             "#46039f"
            ],
            [
             0.2222222222222222,
             "#7201a8"
            ],
            [
             0.3333333333333333,
             "#9c179e"
            ],
            [
             0.4444444444444444,
             "#bd3786"
            ],
            [
             0.5555555555555556,
             "#d8576b"
            ],
            [
             0.6666666666666666,
             "#ed7953"
            ],
            [
             0.7777777777777778,
             "#fb9f3a"
            ],
            [
             0.8888888888888888,
             "#fdca26"
            ],
            [
             1,
             "#f0f921"
            ]
           ]
          },
          "colorway": [
           "#636efa",
           "#EF553B",
           "#00cc96",
           "#ab63fa",
           "#FFA15A",
           "#19d3f3",
           "#FF6692",
           "#B6E880",
           "#FF97FF",
           "#FECB52"
          ],
          "font": {
           "color": "#2a3f5f"
          },
          "geo": {
           "bgcolor": "white",
           "lakecolor": "white",
           "landcolor": "#E5ECF6",
           "showlakes": true,
           "showland": true,
           "subunitcolor": "white"
          },
          "hoverlabel": {
           "align": "left"
          },
          "hovermode": "closest",
          "mapbox": {
           "style": "light"
          },
          "paper_bgcolor": "white",
          "plot_bgcolor": "#E5ECF6",
          "polar": {
           "angularaxis": {
            "gridcolor": "white",
            "linecolor": "white",
            "ticks": ""
           },
           "bgcolor": "#E5ECF6",
           "radialaxis": {
            "gridcolor": "white",
            "linecolor": "white",
            "ticks": ""
           }
          },
          "scene": {
           "xaxis": {
            "backgroundcolor": "#E5ECF6",
            "gridcolor": "white",
            "gridwidth": 2,
            "linecolor": "white",
            "showbackground": true,
            "ticks": "",
            "zerolinecolor": "white"
           },
           "yaxis": {
            "backgroundcolor": "#E5ECF6",
            "gridcolor": "white",
            "gridwidth": 2,
            "linecolor": "white",
            "showbackground": true,
            "ticks": "",
            "zerolinecolor": "white"
           },
           "zaxis": {
            "backgroundcolor": "#E5ECF6",
            "gridcolor": "white",
            "gridwidth": 2,
            "linecolor": "white",
            "showbackground": true,
            "ticks": "",
            "zerolinecolor": "white"
           }
          },
          "shapedefaults": {
           "line": {
            "color": "#2a3f5f"
           }
          },
          "ternary": {
           "aaxis": {
            "gridcolor": "white",
            "linecolor": "white",
            "ticks": ""
           },
           "baxis": {
            "gridcolor": "white",
            "linecolor": "white",
            "ticks": ""
           },
           "bgcolor": "#E5ECF6",
           "caxis": {
            "gridcolor": "white",
            "linecolor": "white",
            "ticks": ""
           }
          },
          "title": {
           "x": 0.05
          },
          "xaxis": {
           "automargin": true,
           "gridcolor": "white",
           "linecolor": "white",
           "ticks": "",
           "title": {
            "standoff": 15
           },
           "zerolinecolor": "white",
           "zerolinewidth": 2
          },
          "yaxis": {
           "automargin": true,
           "gridcolor": "white",
           "linecolor": "white",
           "ticks": "",
           "title": {
            "standoff": 15
           },
           "zerolinecolor": "white",
           "zerolinewidth": 2
          }
         }
        },
        "title": {
         "text": "Potassium (K)"
        },
        "xaxis": {
         "anchor": "y",
         "domain": [
          0,
          0.45
         ],
         "showgrid": false
        },
        "xaxis2": {
         "anchor": "y2",
         "domain": [
          0.55,
          1
         ],
         "showgrid": false
        },
        "yaxis": {
         "anchor": "x",
         "domain": [
          0,
          1
         ],
         "showgrid": false
        },
        "yaxis2": {
         "anchor": "x2",
         "domain": [
          0,
          1
         ],
         "showgrid": false
        }
       }
      },
      "text/html": [
       "<div>                            <div id=\"d2dc9a37-43df-423f-b4c0-1c9f39cd2064\" class=\"plotly-graph-div\" style=\"height:500px; width:100%;\"></div>            <script type=\"text/javascript\">                require([\"plotly\"], function(Plotly) {                    window.PLOTLYENV=window.PLOTLYENV || {};                                    if (document.getElementById(\"d2dc9a37-43df-423f-b4c0-1c9f39cd2064\")) {                    Plotly.newPlot(                        \"d2dc9a37-43df-423f-b4c0-1c9f39cd2064\",                        [{\"marker\":{\"color\":\"#Ffb347\"},\"name\":\"Most potassium required\",\"orientation\":\"h\",\"text\":[39.87,39.99,40.21,50.04,50.05,50.08,50.22,79.92,199.89,200.11],\"textposition\":\"inside\",\"texttemplate\":\"%{text}\",\"type\":\"bar\",\"x\":[39.87,39.99,40.21,50.04,50.05,50.08,50.22,79.92,199.89,200.11],\"xaxis\":\"x\",\"y\":[\"rice\",\"jute\",\"pomegranate\",\"papaya\",\"banana\",\"muskmelon\",\"watermelon\",\"chickpea\",\"apple\",\"grapes\"],\"yaxis\":\"y\"},{\"marker\":{\"color\":\"#C2b280\"},\"name\":\"Least potassium required\",\"orientation\":\"h\",\"text\":[29.92,20.29,20.23,20.05,19.87,19.79,19.56,19.41,19.24,10.01],\"textposition\":\"inside\",\"texttemplate\":\"%{text}\",\"type\":\"bar\",\"x\":[29.92,20.29,20.23,20.05,19.87,19.79,19.56,19.41,19.24,10.01],\"xaxis\":\"x2\",\"y\":[\"mango\",\"pigeonpeas\",\"mothbeans\",\"kidneybeans\",\"mungbean\",\"maize\",\"cotton\",\"lentil\",\"blackgram\",\"orange\"],\"yaxis\":\"y2\"}],                        {\"font\":{\"color\":\"black\",\"size\":12},\"height\":500,\"plot_bgcolor\":\"white\",\"template\":{\"data\":{\"bar\":[{\"error_x\":{\"color\":\"#2a3f5f\"},\"error_y\":{\"color\":\"#2a3f5f\"},\"marker\":{\"line\":{\"color\":\"#E5ECF6\",\"width\":0.5},\"pattern\":{\"fillmode\":\"overlay\",\"size\":10,\"solidity\":0.2}},\"type\":\"bar\"}],\"barpolar\":[{\"marker\":{\"line\":{\"color\":\"#E5ECF6\",\"width\":0.5},\"pattern\":{\"fillmode\":\"overlay\",\"size\":10,\"solidity\":0.2}},\"type\":\"barpolar\"}],\"carpet\":[{\"aaxis\":{\"endlinecolor\":\"#2a3f5f\",\"gridcolor\":\"white\",\"linecolor\":\"white\",\"minorgridcolor\":\"white\",\"startlinecolor\":\"#2a3f5f\"},\"baxis\":{\"endlinecolor\":\"#2a3f5f\",\"gridcolor\":\"white\",\"linecolor\":\"white\",\"minorgridcolor\":\"white\",\"startlinecolor\":\"#2a3f5f\"},\"type\":\"carpet\"}],\"choropleth\":[{\"colorbar\":{\"outlinewidth\":0,\"ticks\":\"\"},\"type\":\"choropleth\"}],\"contour\":[{\"colorbar\":{\"outlinewidth\":0,\"ticks\":\"\"},\"colorscale\":[[0.0,\"#0d0887\"],[0.1111111111111111,\"#46039f\"],[0.2222222222222222,\"#7201a8\"],[0.3333333333333333,\"#9c179e\"],[0.4444444444444444,\"#bd3786\"],[0.5555555555555556,\"#d8576b\"],[0.6666666666666666,\"#ed7953\"],[0.7777777777777778,\"#fb9f3a\"],[0.8888888888888888,\"#fdca26\"],[1.0,\"#f0f921\"]],\"type\":\"contour\"}],\"contourcarpet\":[{\"colorbar\":{\"outlinewidth\":0,\"ticks\":\"\"},\"type\":\"contourcarpet\"}],\"heatmap\":[{\"colorbar\":{\"outlinewidth\":0,\"ticks\":\"\"},\"colorscale\":[[0.0,\"#0d0887\"],[0.1111111111111111,\"#46039f\"],[0.2222222222222222,\"#7201a8\"],[0.3333333333333333,\"#9c179e\"],[0.4444444444444444,\"#bd3786\"],[0.5555555555555556,\"#d8576b\"],[0.6666666666666666,\"#ed7953\"],[0.7777777777777778,\"#fb9f3a\"],[0.8888888888888888,\"#fdca26\"],[1.0,\"#f0f921\"]],\"type\":\"heatmap\"}],\"heatmapgl\":[{\"colorbar\":{\"outlinewidth\":0,\"ticks\":\"\"},\"colorscale\":[[0.0,\"#0d0887\"],[0.1111111111111111,\"#46039f\"],[0.2222222222222222,\"#7201a8\"],[0.3333333333333333,\"#9c179e\"],[0.4444444444444444,\"#bd3786\"],[0.5555555555555556,\"#d8576b\"],[0.6666666666666666,\"#ed7953\"],[0.7777777777777778,\"#fb9f3a\"],[0.8888888888888888,\"#fdca26\"],[1.0,\"#f0f921\"]],\"type\":\"heatmapgl\"}],\"histogram\":[{\"marker\":{\"pattern\":{\"fillmode\":\"overlay\",\"size\":10,\"solidity\":0.2}},\"type\":\"histogram\"}],\"histogram2d\":[{\"colorbar\":{\"outlinewidth\":0,\"ticks\":\"\"},\"colorscale\":[[0.0,\"#0d0887\"],[0.1111111111111111,\"#46039f\"],[0.2222222222222222,\"#7201a8\"],[0.3333333333333333,\"#9c179e\"],[0.4444444444444444,\"#bd3786\"],[0.5555555555555556,\"#d8576b\"],[0.6666666666666666,\"#ed7953\"],[0.7777777777777778,\"#fb9f3a\"],[0.8888888888888888,\"#fdca26\"],[1.0,\"#f0f921\"]],\"type\":\"histogram2d\"}],\"histogram2dcontour\":[{\"colorbar\":{\"outlinewidth\":0,\"ticks\":\"\"},\"colorscale\":[[0.0,\"#0d0887\"],[0.1111111111111111,\"#46039f\"],[0.2222222222222222,\"#7201a8\"],[0.3333333333333333,\"#9c179e\"],[0.4444444444444444,\"#bd3786\"],[0.5555555555555556,\"#d8576b\"],[0.6666666666666666,\"#ed7953\"],[0.7777777777777778,\"#fb9f3a\"],[0.8888888888888888,\"#fdca26\"],[1.0,\"#f0f921\"]],\"type\":\"histogram2dcontour\"}],\"mesh3d\":[{\"colorbar\":{\"outlinewidth\":0,\"ticks\":\"\"},\"type\":\"mesh3d\"}],\"parcoords\":[{\"line\":{\"colorbar\":{\"outlinewidth\":0,\"ticks\":\"\"}},\"type\":\"parcoords\"}],\"pie\":[{\"automargin\":true,\"type\":\"pie\"}],\"scatter\":[{\"marker\":{\"colorbar\":{\"outlinewidth\":0,\"ticks\":\"\"}},\"type\":\"scatter\"}],\"scatter3d\":[{\"line\":{\"colorbar\":{\"outlinewidth\":0,\"ticks\":\"\"}},\"marker\":{\"colorbar\":{\"outlinewidth\":0,\"ticks\":\"\"}},\"type\":\"scatter3d\"}],\"scattercarpet\":[{\"marker\":{\"colorbar\":{\"outlinewidth\":0,\"ticks\":\"\"}},\"type\":\"scattercarpet\"}],\"scattergeo\":[{\"marker\":{\"colorbar\":{\"outlinewidth\":0,\"ticks\":\"\"}},\"type\":\"scattergeo\"}],\"scattergl\":[{\"marker\":{\"colorbar\":{\"outlinewidth\":0,\"ticks\":\"\"}},\"type\":\"scattergl\"}],\"scattermapbox\":[{\"marker\":{\"colorbar\":{\"outlinewidth\":0,\"ticks\":\"\"}},\"type\":\"scattermapbox\"}],\"scatterpolar\":[{\"marker\":{\"colorbar\":{\"outlinewidth\":0,\"ticks\":\"\"}},\"type\":\"scatterpolar\"}],\"scatterpolargl\":[{\"marker\":{\"colorbar\":{\"outlinewidth\":0,\"ticks\":\"\"}},\"type\":\"scatterpolargl\"}],\"scatterternary\":[{\"marker\":{\"colorbar\":{\"outlinewidth\":0,\"ticks\":\"\"}},\"type\":\"scatterternary\"}],\"surface\":[{\"colorbar\":{\"outlinewidth\":0,\"ticks\":\"\"},\"colorscale\":[[0.0,\"#0d0887\"],[0.1111111111111111,\"#46039f\"],[0.2222222222222222,\"#7201a8\"],[0.3333333333333333,\"#9c179e\"],[0.4444444444444444,\"#bd3786\"],[0.5555555555555556,\"#d8576b\"],[0.6666666666666666,\"#ed7953\"],[0.7777777777777778,\"#fb9f3a\"],[0.8888888888888888,\"#fdca26\"],[1.0,\"#f0f921\"]],\"type\":\"surface\"}],\"table\":[{\"cells\":{\"fill\":{\"color\":\"#EBF0F8\"},\"line\":{\"color\":\"white\"}},\"header\":{\"fill\":{\"color\":\"#C8D4E3\"},\"line\":{\"color\":\"white\"}},\"type\":\"table\"}]},\"layout\":{\"annotationdefaults\":{\"arrowcolor\":\"#2a3f5f\",\"arrowhead\":0,\"arrowwidth\":1},\"autotypenumbers\":\"strict\",\"coloraxis\":{\"colorbar\":{\"outlinewidth\":0,\"ticks\":\"\"}},\"colorscale\":{\"diverging\":[[0,\"#8e0152\"],[0.1,\"#c51b7d\"],[0.2,\"#de77ae\"],[0.3,\"#f1b6da\"],[0.4,\"#fde0ef\"],[0.5,\"#f7f7f7\"],[0.6,\"#e6f5d0\"],[0.7,\"#b8e186\"],[0.8,\"#7fbc41\"],[0.9,\"#4d9221\"],[1,\"#276419\"]],\"sequential\":[[0.0,\"#0d0887\"],[0.1111111111111111,\"#46039f\"],[0.2222222222222222,\"#7201a8\"],[0.3333333333333333,\"#9c179e\"],[0.4444444444444444,\"#bd3786\"],[0.5555555555555556,\"#d8576b\"],[0.6666666666666666,\"#ed7953\"],[0.7777777777777778,\"#fb9f3a\"],[0.8888888888888888,\"#fdca26\"],[1.0,\"#f0f921\"]],\"sequentialminus\":[[0.0,\"#0d0887\"],[0.1111111111111111,\"#46039f\"],[0.2222222222222222,\"#7201a8\"],[0.3333333333333333,\"#9c179e\"],[0.4444444444444444,\"#bd3786\"],[0.5555555555555556,\"#d8576b\"],[0.6666666666666666,\"#ed7953\"],[0.7777777777777778,\"#fb9f3a\"],[0.8888888888888888,\"#fdca26\"],[1.0,\"#f0f921\"]]},\"colorway\":[\"#636efa\",\"#EF553B\",\"#00cc96\",\"#ab63fa\",\"#FFA15A\",\"#19d3f3\",\"#FF6692\",\"#B6E880\",\"#FF97FF\",\"#FECB52\"],\"font\":{\"color\":\"#2a3f5f\"},\"geo\":{\"bgcolor\":\"white\",\"lakecolor\":\"white\",\"landcolor\":\"#E5ECF6\",\"showlakes\":true,\"showland\":true,\"subunitcolor\":\"white\"},\"hoverlabel\":{\"align\":\"left\"},\"hovermode\":\"closest\",\"mapbox\":{\"style\":\"light\"},\"paper_bgcolor\":\"white\",\"plot_bgcolor\":\"#E5ECF6\",\"polar\":{\"angularaxis\":{\"gridcolor\":\"white\",\"linecolor\":\"white\",\"ticks\":\"\"},\"bgcolor\":\"#E5ECF6\",\"radialaxis\":{\"gridcolor\":\"white\",\"linecolor\":\"white\",\"ticks\":\"\"}},\"scene\":{\"xaxis\":{\"backgroundcolor\":\"#E5ECF6\",\"gridcolor\":\"white\",\"gridwidth\":2,\"linecolor\":\"white\",\"showbackground\":true,\"ticks\":\"\",\"zerolinecolor\":\"white\"},\"yaxis\":{\"backgroundcolor\":\"#E5ECF6\",\"gridcolor\":\"white\",\"gridwidth\":2,\"linecolor\":\"white\",\"showbackground\":true,\"ticks\":\"\",\"zerolinecolor\":\"white\"},\"zaxis\":{\"backgroundcolor\":\"#E5ECF6\",\"gridcolor\":\"white\",\"gridwidth\":2,\"linecolor\":\"white\",\"showbackground\":true,\"ticks\":\"\",\"zerolinecolor\":\"white\"}},\"shapedefaults\":{\"line\":{\"color\":\"#2a3f5f\"}},\"ternary\":{\"aaxis\":{\"gridcolor\":\"white\",\"linecolor\":\"white\",\"ticks\":\"\"},\"baxis\":{\"gridcolor\":\"white\",\"linecolor\":\"white\",\"ticks\":\"\"},\"bgcolor\":\"#E5ECF6\",\"caxis\":{\"gridcolor\":\"white\",\"linecolor\":\"white\",\"ticks\":\"\"}},\"title\":{\"x\":0.05},\"xaxis\":{\"automargin\":true,\"gridcolor\":\"white\",\"linecolor\":\"white\",\"ticks\":\"\",\"title\":{\"standoff\":15},\"zerolinecolor\":\"white\",\"zerolinewidth\":2},\"yaxis\":{\"automargin\":true,\"gridcolor\":\"white\",\"linecolor\":\"white\",\"ticks\":\"\",\"title\":{\"standoff\":15},\"zerolinecolor\":\"white\",\"zerolinewidth\":2}}},\"title\":{\"text\":\"Potassium (K)\"},\"xaxis\":{\"anchor\":\"y\",\"domain\":[0.0,0.45],\"showgrid\":false},\"xaxis2\":{\"anchor\":\"y2\",\"domain\":[0.55,1.0],\"showgrid\":false},\"yaxis\":{\"anchor\":\"x\",\"domain\":[0.0,1.0],\"showgrid\":false},\"yaxis2\":{\"anchor\":\"x2\",\"domain\":[0.0,1.0],\"showgrid\":false}},                        {\"responsive\": true}                    ).then(function(){\n",
       "                            \n",
       "var gd = document.getElementById('d2dc9a37-43df-423f-b4c0-1c9f39cd2064');\n",
       "var x = new MutationObserver(function (mutations, observer) {{\n",
       "        var display = window.getComputedStyle(gd).display;\n",
       "        if (!display || display === 'none') {{\n",
       "            console.log([gd, 'removed!']);\n",
       "            Plotly.purge(gd);\n",
       "            observer.disconnect();\n",
       "        }}\n",
       "}});\n",
       "\n",
       "// Listen for the removal of the full notebook cells\n",
       "var notebookContainer = gd.closest('#notebook-container');\n",
       "if (notebookContainer) {{\n",
       "    x.observe(notebookContainer, {childList: true});\n",
       "}}\n",
       "\n",
       "// Listen for the clearing of the current output cell\n",
       "var outputEl = gd.closest('.output');\n",
       "if (outputEl) {{\n",
       "    x.observe(outputEl, {childList: true});\n",
       "}}\n",
       "\n",
       "                        })                };                });            </script>        </div>"
      ]
     },
     "metadata": {},
     "output_type": "display_data"
    }
   ],
   "source": [
    "crop_summary_K = crop_summary.sort_values(by='K', ascending=False)\n",
    "  \n",
    "fig = make_subplots(rows=1, cols=2)\n",
    "\n",
    "top = {\n",
    "    'y' : crop_summary_K['K'][0:10].sort_values().index,\n",
    "    'x' : crop_summary_K['K'][0:10].sort_values()\n",
    "}\n",
    "\n",
    "last = {\n",
    "    'y' : crop_summary_K['K'][-10:].index,\n",
    "    'x' : crop_summary_K['K'][-10:]\n",
    "}\n",
    "\n",
    "fig.add_trace(\n",
    "    go.Bar(top,\n",
    "           name=\"Most potassium required\",\n",
    "           marker_color=random.choice(colorarr),\n",
    "           orientation='h',\n",
    "          text=top['x']),\n",
    "    \n",
    "    row=1, col=1\n",
    ")\n",
    "\n",
    "fig.add_trace(\n",
    "    go.Bar(last,\n",
    "           name=\"Least potassium required\",\n",
    "           marker_color=random.choice(colorarr),\n",
    "           orientation='h',\n",
    "          text=last['x']),\n",
    "    row=1, col=2\n",
    ")\n",
    "fig.update_traces(texttemplate='%{text}', textposition='inside')\n",
    "fig.update_layout(title_text=\"Potassium (K)\",\n",
    "                  plot_bgcolor='white',\n",
    "                  font_size=12, \n",
    "                  font_color='black',\n",
    "                 height=500)\n",
    "\n",
    "fig.update_xaxes(showgrid=False)\n",
    "fig.update_yaxes(showgrid=False)\n",
    "fig.show()"
   ]
  },
  {
   "cell_type": "code",
   "execution_count": 37,
   "id": "ba52b5a2",
   "metadata": {},
   "outputs": [
    {
     "data": {
      "application/vnd.plotly.v1+json": {
       "config": {
        "plotlyServerURL": "https://plot.ly"
       },
       "data": [
        {
         "marker": {
          "color": "indianred"
         },
         "name": "Nitrogen",
         "type": "bar",
         "x": [
          "apple",
          "banana",
          "blackgram",
          "chickpea",
          "coconut",
          "coffee",
          "cotton",
          "grapes",
          "jute",
          "kidneybeans",
          "lentil",
          "maize",
          "mango",
          "mothbeans",
          "mungbean",
          "muskmelon",
          "orange",
          "papaya",
          "pigeonpeas",
          "pomegranate",
          "rice",
          "watermelon"
         ],
         "y": [
          20.8,
          100.23,
          40.02,
          40.09,
          21.98,
          101.2,
          117.77,
          23.18,
          78.4,
          20.75,
          18.77,
          77.76,
          20.07,
          21.44,
          20.99,
          100.32,
          19.58,
          49.88,
          20.73,
          18.87,
          79.89,
          99.42
         ]
        },
        {
         "marker": {
          "color": "lightsalmon"
         },
         "name": "Phosphorous",
         "type": "bar",
         "x": [
          "apple",
          "banana",
          "blackgram",
          "chickpea",
          "coconut",
          "coffee",
          "cotton",
          "grapes",
          "jute",
          "kidneybeans",
          "lentil",
          "maize",
          "mango",
          "mothbeans",
          "mungbean",
          "muskmelon",
          "orange",
          "papaya",
          "pigeonpeas",
          "pomegranate",
          "rice",
          "watermelon"
         ],
         "y": [
          134.22,
          82.01,
          67.47,
          67.79,
          16.93,
          28.74,
          46.24,
          132.53,
          46.86,
          67.54,
          68.36,
          48.44,
          27.18,
          48.01,
          47.28,
          17.72,
          16.55,
          59.05,
          67.73,
          18.75,
          47.58,
          17
         ]
        },
        {
         "marker": {
          "color": "crimson"
         },
         "name": "Potash",
         "type": "bar",
         "x": [
          "apple",
          "banana",
          "blackgram",
          "chickpea",
          "coconut",
          "coffee",
          "cotton",
          "grapes",
          "jute",
          "kidneybeans",
          "lentil",
          "maize",
          "mango",
          "mothbeans",
          "mungbean",
          "muskmelon",
          "orange",
          "papaya",
          "pigeonpeas",
          "pomegranate",
          "rice",
          "watermelon"
         ],
         "y": [
          199.89,
          50.05,
          19.24,
          79.92,
          30.59,
          29.94,
          19.56,
          200.11,
          39.99,
          20.05,
          19.41,
          19.79,
          29.92,
          20.23,
          19.87,
          50.08,
          10.01,
          50.04,
          20.29,
          40.21,
          39.87,
          50.22
         ]
        }
       ],
       "layout": {
        "barmode": "group",
        "plot_bgcolor": "white",
        "template": {
         "data": {
          "bar": [
           {
            "error_x": {
             "color": "#2a3f5f"
            },
            "error_y": {
             "color": "#2a3f5f"
            },
            "marker": {
             "line": {
              "color": "#E5ECF6",
              "width": 0.5
             },
             "pattern": {
              "fillmode": "overlay",
              "size": 10,
              "solidity": 0.2
             }
            },
            "type": "bar"
           }
          ],
          "barpolar": [
           {
            "marker": {
             "line": {
              "color": "#E5ECF6",
              "width": 0.5
             },
             "pattern": {
              "fillmode": "overlay",
              "size": 10,
              "solidity": 0.2
             }
            },
            "type": "barpolar"
           }
          ],
          "carpet": [
           {
            "aaxis": {
             "endlinecolor": "#2a3f5f",
             "gridcolor": "white",
             "linecolor": "white",
             "minorgridcolor": "white",
             "startlinecolor": "#2a3f5f"
            },
            "baxis": {
             "endlinecolor": "#2a3f5f",
             "gridcolor": "white",
             "linecolor": "white",
             "minorgridcolor": "white",
             "startlinecolor": "#2a3f5f"
            },
            "type": "carpet"
           }
          ],
          "choropleth": [
           {
            "colorbar": {
             "outlinewidth": 0,
             "ticks": ""
            },
            "type": "choropleth"
           }
          ],
          "contour": [
           {
            "colorbar": {
             "outlinewidth": 0,
             "ticks": ""
            },
            "colorscale": [
             [
              0,
              "#0d0887"
             ],
             [
              0.1111111111111111,
              "#46039f"
             ],
             [
              0.2222222222222222,
              "#7201a8"
             ],
             [
              0.3333333333333333,
              "#9c179e"
             ],
             [
              0.4444444444444444,
              "#bd3786"
             ],
             [
              0.5555555555555556,
              "#d8576b"
             ],
             [
              0.6666666666666666,
              "#ed7953"
             ],
             [
              0.7777777777777778,
              "#fb9f3a"
             ],
             [
              0.8888888888888888,
              "#fdca26"
             ],
             [
              1,
              "#f0f921"
             ]
            ],
            "type": "contour"
           }
          ],
          "contourcarpet": [
           {
            "colorbar": {
             "outlinewidth": 0,
             "ticks": ""
            },
            "type": "contourcarpet"
           }
          ],
          "heatmap": [
           {
            "colorbar": {
             "outlinewidth": 0,
             "ticks": ""
            },
            "colorscale": [
             [
              0,
              "#0d0887"
             ],
             [
              0.1111111111111111,
              "#46039f"
             ],
             [
              0.2222222222222222,
              "#7201a8"
             ],
             [
              0.3333333333333333,
              "#9c179e"
             ],
             [
              0.4444444444444444,
              "#bd3786"
             ],
             [
              0.5555555555555556,
              "#d8576b"
             ],
             [
              0.6666666666666666,
              "#ed7953"
             ],
             [
              0.7777777777777778,
              "#fb9f3a"
             ],
             [
              0.8888888888888888,
              "#fdca26"
             ],
             [
              1,
              "#f0f921"
             ]
            ],
            "type": "heatmap"
           }
          ],
          "heatmapgl": [
           {
            "colorbar": {
             "outlinewidth": 0,
             "ticks": ""
            },
            "colorscale": [
             [
              0,
              "#0d0887"
             ],
             [
              0.1111111111111111,
              "#46039f"
             ],
             [
              0.2222222222222222,
              "#7201a8"
             ],
             [
              0.3333333333333333,
              "#9c179e"
             ],
             [
              0.4444444444444444,
              "#bd3786"
             ],
             [
              0.5555555555555556,
              "#d8576b"
             ],
             [
              0.6666666666666666,
              "#ed7953"
             ],
             [
              0.7777777777777778,
              "#fb9f3a"
             ],
             [
              0.8888888888888888,
              "#fdca26"
             ],
             [
              1,
              "#f0f921"
             ]
            ],
            "type": "heatmapgl"
           }
          ],
          "histogram": [
           {
            "marker": {
             "pattern": {
              "fillmode": "overlay",
              "size": 10,
              "solidity": 0.2
             }
            },
            "type": "histogram"
           }
          ],
          "histogram2d": [
           {
            "colorbar": {
             "outlinewidth": 0,
             "ticks": ""
            },
            "colorscale": [
             [
              0,
              "#0d0887"
             ],
             [
              0.1111111111111111,
              "#46039f"
             ],
             [
              0.2222222222222222,
              "#7201a8"
             ],
             [
              0.3333333333333333,
              "#9c179e"
             ],
             [
              0.4444444444444444,
              "#bd3786"
             ],
             [
              0.5555555555555556,
              "#d8576b"
             ],
             [
              0.6666666666666666,
              "#ed7953"
             ],
             [
              0.7777777777777778,
              "#fb9f3a"
             ],
             [
              0.8888888888888888,
              "#fdca26"
             ],
             [
              1,
              "#f0f921"
             ]
            ],
            "type": "histogram2d"
           }
          ],
          "histogram2dcontour": [
           {
            "colorbar": {
             "outlinewidth": 0,
             "ticks": ""
            },
            "colorscale": [
             [
              0,
              "#0d0887"
             ],
             [
              0.1111111111111111,
              "#46039f"
             ],
             [
              0.2222222222222222,
              "#7201a8"
             ],
             [
              0.3333333333333333,
              "#9c179e"
             ],
             [
              0.4444444444444444,
              "#bd3786"
             ],
             [
              0.5555555555555556,
              "#d8576b"
             ],
             [
              0.6666666666666666,
              "#ed7953"
             ],
             [
              0.7777777777777778,
              "#fb9f3a"
             ],
             [
              0.8888888888888888,
              "#fdca26"
             ],
             [
              1,
              "#f0f921"
             ]
            ],
            "type": "histogram2dcontour"
           }
          ],
          "mesh3d": [
           {
            "colorbar": {
             "outlinewidth": 0,
             "ticks": ""
            },
            "type": "mesh3d"
           }
          ],
          "parcoords": [
           {
            "line": {
             "colorbar": {
              "outlinewidth": 0,
              "ticks": ""
             }
            },
            "type": "parcoords"
           }
          ],
          "pie": [
           {
            "automargin": true,
            "type": "pie"
           }
          ],
          "scatter": [
           {
            "marker": {
             "colorbar": {
              "outlinewidth": 0,
              "ticks": ""
             }
            },
            "type": "scatter"
           }
          ],
          "scatter3d": [
           {
            "line": {
             "colorbar": {
              "outlinewidth": 0,
              "ticks": ""
             }
            },
            "marker": {
             "colorbar": {
              "outlinewidth": 0,
              "ticks": ""
             }
            },
            "type": "scatter3d"
           }
          ],
          "scattercarpet": [
           {
            "marker": {
             "colorbar": {
              "outlinewidth": 0,
              "ticks": ""
             }
            },
            "type": "scattercarpet"
           }
          ],
          "scattergeo": [
           {
            "marker": {
             "colorbar": {
              "outlinewidth": 0,
              "ticks": ""
             }
            },
            "type": "scattergeo"
           }
          ],
          "scattergl": [
           {
            "marker": {
             "colorbar": {
              "outlinewidth": 0,
              "ticks": ""
             }
            },
            "type": "scattergl"
           }
          ],
          "scattermapbox": [
           {
            "marker": {
             "colorbar": {
              "outlinewidth": 0,
              "ticks": ""
             }
            },
            "type": "scattermapbox"
           }
          ],
          "scatterpolar": [
           {
            "marker": {
             "colorbar": {
              "outlinewidth": 0,
              "ticks": ""
             }
            },
            "type": "scatterpolar"
           }
          ],
          "scatterpolargl": [
           {
            "marker": {
             "colorbar": {
              "outlinewidth": 0,
              "ticks": ""
             }
            },
            "type": "scatterpolargl"
           }
          ],
          "scatterternary": [
           {
            "marker": {
             "colorbar": {
              "outlinewidth": 0,
              "ticks": ""
             }
            },
            "type": "scatterternary"
           }
          ],
          "surface": [
           {
            "colorbar": {
             "outlinewidth": 0,
             "ticks": ""
            },
            "colorscale": [
             [
              0,
              "#0d0887"
             ],
             [
              0.1111111111111111,
              "#46039f"
             ],
             [
              0.2222222222222222,
              "#7201a8"
             ],
             [
              0.3333333333333333,
              "#9c179e"
             ],
             [
              0.4444444444444444,
              "#bd3786"
             ],
             [
              0.5555555555555556,
              "#d8576b"
             ],
             [
              0.6666666666666666,
              "#ed7953"
             ],
             [
              0.7777777777777778,
              "#fb9f3a"
             ],
             [
              0.8888888888888888,
              "#fdca26"
             ],
             [
              1,
              "#f0f921"
             ]
            ],
            "type": "surface"
           }
          ],
          "table": [
           {
            "cells": {
             "fill": {
              "color": "#EBF0F8"
             },
             "line": {
              "color": "white"
             }
            },
            "header": {
             "fill": {
              "color": "#C8D4E3"
             },
             "line": {
              "color": "white"
             }
            },
            "type": "table"
           }
          ]
         },
         "layout": {
          "annotationdefaults": {
           "arrowcolor": "#2a3f5f",
           "arrowhead": 0,
           "arrowwidth": 1
          },
          "autotypenumbers": "strict",
          "coloraxis": {
           "colorbar": {
            "outlinewidth": 0,
            "ticks": ""
           }
          },
          "colorscale": {
           "diverging": [
            [
             0,
             "#8e0152"
            ],
            [
             0.1,
             "#c51b7d"
            ],
            [
             0.2,
             "#de77ae"
            ],
            [
             0.3,
             "#f1b6da"
            ],
            [
             0.4,
             "#fde0ef"
            ],
            [
             0.5,
             "#f7f7f7"
            ],
            [
             0.6,
             "#e6f5d0"
            ],
            [
             0.7,
             "#b8e186"
            ],
            [
             0.8,
             "#7fbc41"
            ],
            [
             0.9,
             "#4d9221"
            ],
            [
             1,
             "#276419"
            ]
           ],
           "sequential": [
            [
             0,
             "#0d0887"
            ],
            [
             0.1111111111111111,
             "#46039f"
            ],
            [
             0.2222222222222222,
             "#7201a8"
            ],
            [
             0.3333333333333333,
             "#9c179e"
            ],
            [
             0.4444444444444444,
             "#bd3786"
            ],
            [
             0.5555555555555556,
             "#d8576b"
            ],
            [
             0.6666666666666666,
             "#ed7953"
            ],
            [
             0.7777777777777778,
             "#fb9f3a"
            ],
            [
             0.8888888888888888,
             "#fdca26"
            ],
            [
             1,
             "#f0f921"
            ]
           ],
           "sequentialminus": [
            [
             0,
             "#0d0887"
            ],
            [
             0.1111111111111111,
             "#46039f"
            ],
            [
             0.2222222222222222,
             "#7201a8"
            ],
            [
             0.3333333333333333,
             "#9c179e"
            ],
            [
             0.4444444444444444,
             "#bd3786"
            ],
            [
             0.5555555555555556,
             "#d8576b"
            ],
            [
             0.6666666666666666,
             "#ed7953"
            ],
            [
             0.7777777777777778,
             "#fb9f3a"
            ],
            [
             0.8888888888888888,
             "#fdca26"
            ],
            [
             1,
             "#f0f921"
            ]
           ]
          },
          "colorway": [
           "#636efa",
           "#EF553B",
           "#00cc96",
           "#ab63fa",
           "#FFA15A",
           "#19d3f3",
           "#FF6692",
           "#B6E880",
           "#FF97FF",
           "#FECB52"
          ],
          "font": {
           "color": "#2a3f5f"
          },
          "geo": {
           "bgcolor": "white",
           "lakecolor": "white",
           "landcolor": "#E5ECF6",
           "showlakes": true,
           "showland": true,
           "subunitcolor": "white"
          },
          "hoverlabel": {
           "align": "left"
          },
          "hovermode": "closest",
          "mapbox": {
           "style": "light"
          },
          "paper_bgcolor": "white",
          "plot_bgcolor": "#E5ECF6",
          "polar": {
           "angularaxis": {
            "gridcolor": "white",
            "linecolor": "white",
            "ticks": ""
           },
           "bgcolor": "#E5ECF6",
           "radialaxis": {
            "gridcolor": "white",
            "linecolor": "white",
            "ticks": ""
           }
          },
          "scene": {
           "xaxis": {
            "backgroundcolor": "#E5ECF6",
            "gridcolor": "white",
            "gridwidth": 2,
            "linecolor": "white",
            "showbackground": true,
            "ticks": "",
            "zerolinecolor": "white"
           },
           "yaxis": {
            "backgroundcolor": "#E5ECF6",
            "gridcolor": "white",
            "gridwidth": 2,
            "linecolor": "white",
            "showbackground": true,
            "ticks": "",
            "zerolinecolor": "white"
           },
           "zaxis": {
            "backgroundcolor": "#E5ECF6",
            "gridcolor": "white",
            "gridwidth": 2,
            "linecolor": "white",
            "showbackground": true,
            "ticks": "",
            "zerolinecolor": "white"
           }
          },
          "shapedefaults": {
           "line": {
            "color": "#2a3f5f"
           }
          },
          "ternary": {
           "aaxis": {
            "gridcolor": "white",
            "linecolor": "white",
            "ticks": ""
           },
           "baxis": {
            "gridcolor": "white",
            "linecolor": "white",
            "ticks": ""
           },
           "bgcolor": "#E5ECF6",
           "caxis": {
            "gridcolor": "white",
            "linecolor": "white",
            "ticks": ""
           }
          },
          "title": {
           "x": 0.05
          },
          "xaxis": {
           "automargin": true,
           "gridcolor": "white",
           "linecolor": "white",
           "ticks": "",
           "title": {
            "standoff": 15
           },
           "zerolinecolor": "white",
           "zerolinewidth": 2
          },
          "yaxis": {
           "automargin": true,
           "gridcolor": "white",
           "linecolor": "white",
           "ticks": "",
           "title": {
            "standoff": 15
           },
           "zerolinecolor": "white",
           "zerolinewidth": 2
          }
         }
        },
        "title": {
         "text": "N, P, K values comparision between crops"
        },
        "xaxis": {
         "tickangle": -45
        }
       }
      },
      "text/html": [
       "<div>                            <div id=\"55325599-3fad-4771-b098-27af9026d72c\" class=\"plotly-graph-div\" style=\"height:525px; width:100%;\"></div>            <script type=\"text/javascript\">                require([\"plotly\"], function(Plotly) {                    window.PLOTLYENV=window.PLOTLYENV || {};                                    if (document.getElementById(\"55325599-3fad-4771-b098-27af9026d72c\")) {                    Plotly.newPlot(                        \"55325599-3fad-4771-b098-27af9026d72c\",                        [{\"marker\":{\"color\":\"indianred\"},\"name\":\"Nitrogen\",\"type\":\"bar\",\"x\":[\"apple\",\"banana\",\"blackgram\",\"chickpea\",\"coconut\",\"coffee\",\"cotton\",\"grapes\",\"jute\",\"kidneybeans\",\"lentil\",\"maize\",\"mango\",\"mothbeans\",\"mungbean\",\"muskmelon\",\"orange\",\"papaya\",\"pigeonpeas\",\"pomegranate\",\"rice\",\"watermelon\"],\"y\":[20.8,100.23,40.02,40.09,21.98,101.2,117.77,23.18,78.4,20.75,18.77,77.76,20.07,21.44,20.99,100.32,19.58,49.88,20.73,18.87,79.89,99.42]},{\"marker\":{\"color\":\"lightsalmon\"},\"name\":\"Phosphorous\",\"type\":\"bar\",\"x\":[\"apple\",\"banana\",\"blackgram\",\"chickpea\",\"coconut\",\"coffee\",\"cotton\",\"grapes\",\"jute\",\"kidneybeans\",\"lentil\",\"maize\",\"mango\",\"mothbeans\",\"mungbean\",\"muskmelon\",\"orange\",\"papaya\",\"pigeonpeas\",\"pomegranate\",\"rice\",\"watermelon\"],\"y\":[134.22,82.01,67.47,67.79,16.93,28.74,46.24,132.53,46.86,67.54,68.36,48.44,27.18,48.01,47.28,17.72,16.55,59.05,67.73,18.75,47.58,17.0]},{\"marker\":{\"color\":\"crimson\"},\"name\":\"Potash\",\"type\":\"bar\",\"x\":[\"apple\",\"banana\",\"blackgram\",\"chickpea\",\"coconut\",\"coffee\",\"cotton\",\"grapes\",\"jute\",\"kidneybeans\",\"lentil\",\"maize\",\"mango\",\"mothbeans\",\"mungbean\",\"muskmelon\",\"orange\",\"papaya\",\"pigeonpeas\",\"pomegranate\",\"rice\",\"watermelon\"],\"y\":[199.89,50.05,19.24,79.92,30.59,29.94,19.56,200.11,39.99,20.05,19.41,19.79,29.92,20.23,19.87,50.08,10.01,50.04,20.29,40.21,39.87,50.22]}],                        {\"barmode\":\"group\",\"plot_bgcolor\":\"white\",\"template\":{\"data\":{\"bar\":[{\"error_x\":{\"color\":\"#2a3f5f\"},\"error_y\":{\"color\":\"#2a3f5f\"},\"marker\":{\"line\":{\"color\":\"#E5ECF6\",\"width\":0.5},\"pattern\":{\"fillmode\":\"overlay\",\"size\":10,\"solidity\":0.2}},\"type\":\"bar\"}],\"barpolar\":[{\"marker\":{\"line\":{\"color\":\"#E5ECF6\",\"width\":0.5},\"pattern\":{\"fillmode\":\"overlay\",\"size\":10,\"solidity\":0.2}},\"type\":\"barpolar\"}],\"carpet\":[{\"aaxis\":{\"endlinecolor\":\"#2a3f5f\",\"gridcolor\":\"white\",\"linecolor\":\"white\",\"minorgridcolor\":\"white\",\"startlinecolor\":\"#2a3f5f\"},\"baxis\":{\"endlinecolor\":\"#2a3f5f\",\"gridcolor\":\"white\",\"linecolor\":\"white\",\"minorgridcolor\":\"white\",\"startlinecolor\":\"#2a3f5f\"},\"type\":\"carpet\"}],\"choropleth\":[{\"colorbar\":{\"outlinewidth\":0,\"ticks\":\"\"},\"type\":\"choropleth\"}],\"contour\":[{\"colorbar\":{\"outlinewidth\":0,\"ticks\":\"\"},\"colorscale\":[[0.0,\"#0d0887\"],[0.1111111111111111,\"#46039f\"],[0.2222222222222222,\"#7201a8\"],[0.3333333333333333,\"#9c179e\"],[0.4444444444444444,\"#bd3786\"],[0.5555555555555556,\"#d8576b\"],[0.6666666666666666,\"#ed7953\"],[0.7777777777777778,\"#fb9f3a\"],[0.8888888888888888,\"#fdca26\"],[1.0,\"#f0f921\"]],\"type\":\"contour\"}],\"contourcarpet\":[{\"colorbar\":{\"outlinewidth\":0,\"ticks\":\"\"},\"type\":\"contourcarpet\"}],\"heatmap\":[{\"colorbar\":{\"outlinewidth\":0,\"ticks\":\"\"},\"colorscale\":[[0.0,\"#0d0887\"],[0.1111111111111111,\"#46039f\"],[0.2222222222222222,\"#7201a8\"],[0.3333333333333333,\"#9c179e\"],[0.4444444444444444,\"#bd3786\"],[0.5555555555555556,\"#d8576b\"],[0.6666666666666666,\"#ed7953\"],[0.7777777777777778,\"#fb9f3a\"],[0.8888888888888888,\"#fdca26\"],[1.0,\"#f0f921\"]],\"type\":\"heatmap\"}],\"heatmapgl\":[{\"colorbar\":{\"outlinewidth\":0,\"ticks\":\"\"},\"colorscale\":[[0.0,\"#0d0887\"],[0.1111111111111111,\"#46039f\"],[0.2222222222222222,\"#7201a8\"],[0.3333333333333333,\"#9c179e\"],[0.4444444444444444,\"#bd3786\"],[0.5555555555555556,\"#d8576b\"],[0.6666666666666666,\"#ed7953\"],[0.7777777777777778,\"#fb9f3a\"],[0.8888888888888888,\"#fdca26\"],[1.0,\"#f0f921\"]],\"type\":\"heatmapgl\"}],\"histogram\":[{\"marker\":{\"pattern\":{\"fillmode\":\"overlay\",\"size\":10,\"solidity\":0.2}},\"type\":\"histogram\"}],\"histogram2d\":[{\"colorbar\":{\"outlinewidth\":0,\"ticks\":\"\"},\"colorscale\":[[0.0,\"#0d0887\"],[0.1111111111111111,\"#46039f\"],[0.2222222222222222,\"#7201a8\"],[0.3333333333333333,\"#9c179e\"],[0.4444444444444444,\"#bd3786\"],[0.5555555555555556,\"#d8576b\"],[0.6666666666666666,\"#ed7953\"],[0.7777777777777778,\"#fb9f3a\"],[0.8888888888888888,\"#fdca26\"],[1.0,\"#f0f921\"]],\"type\":\"histogram2d\"}],\"histogram2dcontour\":[{\"colorbar\":{\"outlinewidth\":0,\"ticks\":\"\"},\"colorscale\":[[0.0,\"#0d0887\"],[0.1111111111111111,\"#46039f\"],[0.2222222222222222,\"#7201a8\"],[0.3333333333333333,\"#9c179e\"],[0.4444444444444444,\"#bd3786\"],[0.5555555555555556,\"#d8576b\"],[0.6666666666666666,\"#ed7953\"],[0.7777777777777778,\"#fb9f3a\"],[0.8888888888888888,\"#fdca26\"],[1.0,\"#f0f921\"]],\"type\":\"histogram2dcontour\"}],\"mesh3d\":[{\"colorbar\":{\"outlinewidth\":0,\"ticks\":\"\"},\"type\":\"mesh3d\"}],\"parcoords\":[{\"line\":{\"colorbar\":{\"outlinewidth\":0,\"ticks\":\"\"}},\"type\":\"parcoords\"}],\"pie\":[{\"automargin\":true,\"type\":\"pie\"}],\"scatter\":[{\"marker\":{\"colorbar\":{\"outlinewidth\":0,\"ticks\":\"\"}},\"type\":\"scatter\"}],\"scatter3d\":[{\"line\":{\"colorbar\":{\"outlinewidth\":0,\"ticks\":\"\"}},\"marker\":{\"colorbar\":{\"outlinewidth\":0,\"ticks\":\"\"}},\"type\":\"scatter3d\"}],\"scattercarpet\":[{\"marker\":{\"colorbar\":{\"outlinewidth\":0,\"ticks\":\"\"}},\"type\":\"scattercarpet\"}],\"scattergeo\":[{\"marker\":{\"colorbar\":{\"outlinewidth\":0,\"ticks\":\"\"}},\"type\":\"scattergeo\"}],\"scattergl\":[{\"marker\":{\"colorbar\":{\"outlinewidth\":0,\"ticks\":\"\"}},\"type\":\"scattergl\"}],\"scattermapbox\":[{\"marker\":{\"colorbar\":{\"outlinewidth\":0,\"ticks\":\"\"}},\"type\":\"scattermapbox\"}],\"scatterpolar\":[{\"marker\":{\"colorbar\":{\"outlinewidth\":0,\"ticks\":\"\"}},\"type\":\"scatterpolar\"}],\"scatterpolargl\":[{\"marker\":{\"colorbar\":{\"outlinewidth\":0,\"ticks\":\"\"}},\"type\":\"scatterpolargl\"}],\"scatterternary\":[{\"marker\":{\"colorbar\":{\"outlinewidth\":0,\"ticks\":\"\"}},\"type\":\"scatterternary\"}],\"surface\":[{\"colorbar\":{\"outlinewidth\":0,\"ticks\":\"\"},\"colorscale\":[[0.0,\"#0d0887\"],[0.1111111111111111,\"#46039f\"],[0.2222222222222222,\"#7201a8\"],[0.3333333333333333,\"#9c179e\"],[0.4444444444444444,\"#bd3786\"],[0.5555555555555556,\"#d8576b\"],[0.6666666666666666,\"#ed7953\"],[0.7777777777777778,\"#fb9f3a\"],[0.8888888888888888,\"#fdca26\"],[1.0,\"#f0f921\"]],\"type\":\"surface\"}],\"table\":[{\"cells\":{\"fill\":{\"color\":\"#EBF0F8\"},\"line\":{\"color\":\"white\"}},\"header\":{\"fill\":{\"color\":\"#C8D4E3\"},\"line\":{\"color\":\"white\"}},\"type\":\"table\"}]},\"layout\":{\"annotationdefaults\":{\"arrowcolor\":\"#2a3f5f\",\"arrowhead\":0,\"arrowwidth\":1},\"autotypenumbers\":\"strict\",\"coloraxis\":{\"colorbar\":{\"outlinewidth\":0,\"ticks\":\"\"}},\"colorscale\":{\"diverging\":[[0,\"#8e0152\"],[0.1,\"#c51b7d\"],[0.2,\"#de77ae\"],[0.3,\"#f1b6da\"],[0.4,\"#fde0ef\"],[0.5,\"#f7f7f7\"],[0.6,\"#e6f5d0\"],[0.7,\"#b8e186\"],[0.8,\"#7fbc41\"],[0.9,\"#4d9221\"],[1,\"#276419\"]],\"sequential\":[[0.0,\"#0d0887\"],[0.1111111111111111,\"#46039f\"],[0.2222222222222222,\"#7201a8\"],[0.3333333333333333,\"#9c179e\"],[0.4444444444444444,\"#bd3786\"],[0.5555555555555556,\"#d8576b\"],[0.6666666666666666,\"#ed7953\"],[0.7777777777777778,\"#fb9f3a\"],[0.8888888888888888,\"#fdca26\"],[1.0,\"#f0f921\"]],\"sequentialminus\":[[0.0,\"#0d0887\"],[0.1111111111111111,\"#46039f\"],[0.2222222222222222,\"#7201a8\"],[0.3333333333333333,\"#9c179e\"],[0.4444444444444444,\"#bd3786\"],[0.5555555555555556,\"#d8576b\"],[0.6666666666666666,\"#ed7953\"],[0.7777777777777778,\"#fb9f3a\"],[0.8888888888888888,\"#fdca26\"],[1.0,\"#f0f921\"]]},\"colorway\":[\"#636efa\",\"#EF553B\",\"#00cc96\",\"#ab63fa\",\"#FFA15A\",\"#19d3f3\",\"#FF6692\",\"#B6E880\",\"#FF97FF\",\"#FECB52\"],\"font\":{\"color\":\"#2a3f5f\"},\"geo\":{\"bgcolor\":\"white\",\"lakecolor\":\"white\",\"landcolor\":\"#E5ECF6\",\"showlakes\":true,\"showland\":true,\"subunitcolor\":\"white\"},\"hoverlabel\":{\"align\":\"left\"},\"hovermode\":\"closest\",\"mapbox\":{\"style\":\"light\"},\"paper_bgcolor\":\"white\",\"plot_bgcolor\":\"#E5ECF6\",\"polar\":{\"angularaxis\":{\"gridcolor\":\"white\",\"linecolor\":\"white\",\"ticks\":\"\"},\"bgcolor\":\"#E5ECF6\",\"radialaxis\":{\"gridcolor\":\"white\",\"linecolor\":\"white\",\"ticks\":\"\"}},\"scene\":{\"xaxis\":{\"backgroundcolor\":\"#E5ECF6\",\"gridcolor\":\"white\",\"gridwidth\":2,\"linecolor\":\"white\",\"showbackground\":true,\"ticks\":\"\",\"zerolinecolor\":\"white\"},\"yaxis\":{\"backgroundcolor\":\"#E5ECF6\",\"gridcolor\":\"white\",\"gridwidth\":2,\"linecolor\":\"white\",\"showbackground\":true,\"ticks\":\"\",\"zerolinecolor\":\"white\"},\"zaxis\":{\"backgroundcolor\":\"#E5ECF6\",\"gridcolor\":\"white\",\"gridwidth\":2,\"linecolor\":\"white\",\"showbackground\":true,\"ticks\":\"\",\"zerolinecolor\":\"white\"}},\"shapedefaults\":{\"line\":{\"color\":\"#2a3f5f\"}},\"ternary\":{\"aaxis\":{\"gridcolor\":\"white\",\"linecolor\":\"white\",\"ticks\":\"\"},\"baxis\":{\"gridcolor\":\"white\",\"linecolor\":\"white\",\"ticks\":\"\"},\"bgcolor\":\"#E5ECF6\",\"caxis\":{\"gridcolor\":\"white\",\"linecolor\":\"white\",\"ticks\":\"\"}},\"title\":{\"x\":0.05},\"xaxis\":{\"automargin\":true,\"gridcolor\":\"white\",\"linecolor\":\"white\",\"ticks\":\"\",\"title\":{\"standoff\":15},\"zerolinecolor\":\"white\",\"zerolinewidth\":2},\"yaxis\":{\"automargin\":true,\"gridcolor\":\"white\",\"linecolor\":\"white\",\"ticks\":\"\",\"title\":{\"standoff\":15},\"zerolinecolor\":\"white\",\"zerolinewidth\":2}}},\"title\":{\"text\":\"N, P, K values comparision between crops\"},\"xaxis\":{\"tickangle\":-45}},                        {\"responsive\": true}                    ).then(function(){\n",
       "                            \n",
       "var gd = document.getElementById('55325599-3fad-4771-b098-27af9026d72c');\n",
       "var x = new MutationObserver(function (mutations, observer) {{\n",
       "        var display = window.getComputedStyle(gd).display;\n",
       "        if (!display || display === 'none') {{\n",
       "            console.log([gd, 'removed!']);\n",
       "            Plotly.purge(gd);\n",
       "            observer.disconnect();\n",
       "        }}\n",
       "}});\n",
       "\n",
       "// Listen for the removal of the full notebook cells\n",
       "var notebookContainer = gd.closest('#notebook-container');\n",
       "if (notebookContainer) {{\n",
       "    x.observe(notebookContainer, {childList: true});\n",
       "}}\n",
       "\n",
       "// Listen for the clearing of the current output cell\n",
       "var outputEl = gd.closest('.output');\n",
       "if (outputEl) {{\n",
       "    x.observe(outputEl, {childList: true});\n",
       "}}\n",
       "\n",
       "                        })                };                });            </script>        </div>"
      ]
     },
     "metadata": {},
     "output_type": "display_data"
    }
   ],
   "source": [
    "fig = go.Figure()\n",
    "fig.add_trace(go.Bar(\n",
    "    x=crop_summary.index,\n",
    "    y=crop_summary['N'],\n",
    "    name='Nitrogen',\n",
    "    marker_color='indianred'\n",
    "))\n",
    "fig.add_trace(go.Bar(\n",
    "    x=crop_summary.index,\n",
    "    y=crop_summary['P'],\n",
    "    name='Phosphorous',\n",
    "    marker_color='lightsalmon'\n",
    "))\n",
    "fig.add_trace(go.Bar(\n",
    "    x=crop_summary.index,\n",
    "    y=crop_summary['K'],\n",
    "    name='Potash',\n",
    "    marker_color='crimson'\n",
    "))\n",
    "\n",
    "fig.update_layout(title=\"N, P, K values comparision between crops\",\n",
    "                  plot_bgcolor='white',\n",
    "                  barmode='group',\n",
    "                  xaxis_tickangle=-45)\n",
    "\n",
    "fig.show()"
   ]
  },
  {
   "cell_type": "code",
   "execution_count": 38,
   "id": "3cd42b1b",
   "metadata": {},
   "outputs": [
    {
     "data": {
      "application/vnd.plotly.v1+json": {
       "config": {
        "plotlyServerURL": "https://plot.ly"
       },
       "data": [
        {
         "domain": {
          "x": [
           0,
           0.16799999999999998
          ],
          "y": [
           0,
           1
          ]
         },
         "hole": 0.4,
         "hoverinfo": "label+percent+name",
         "labels": [
          "Nitrogen(N)",
          "Phosphorous(P)",
          "Potash(K)"
         ],
         "name": "Rice",
         "type": "pie",
         "values": [
          79.89,
          47.58,
          39.87
         ]
        },
        {
         "domain": {
          "x": [
           0.208,
           0.376
          ],
          "y": [
           0,
           1
          ]
         },
         "hole": 0.4,
         "hoverinfo": "label+percent+name",
         "labels": [
          "Nitrogen(N)",
          "Phosphorous(P)",
          "Potash(K)"
         ],
         "name": "Cotton",
         "type": "pie",
         "values": [
          117.77,
          46.24,
          19.56
         ]
        },
        {
         "domain": {
          "x": [
           0.416,
           0.584
          ],
          "y": [
           0,
           1
          ]
         },
         "hole": 0.4,
         "hoverinfo": "label+percent+name",
         "labels": [
          "Nitrogen(N)",
          "Phosphorous(P)",
          "Potash(K)"
         ],
         "name": "Jute",
         "type": "pie",
         "values": [
          78.4,
          46.86,
          39.99
         ]
        },
        {
         "domain": {
          "x": [
           0.624,
           0.792
          ],
          "y": [
           0,
           1
          ]
         },
         "hole": 0.4,
         "hoverinfo": "label+percent+name",
         "labels": [
          "Nitrogen(N)",
          "Phosphorous(P)",
          "Potash(K)"
         ],
         "name": "Maize",
         "type": "pie",
         "values": [
          77.76,
          48.44,
          19.79
         ]
        },
        {
         "domain": {
          "x": [
           0.832,
           1
          ],
          "y": [
           0,
           1
          ]
         },
         "hole": 0.4,
         "hoverinfo": "label+percent+name",
         "labels": [
          "Nitrogen(N)",
          "Phosphorous(P)",
          "Potash(K)"
         ],
         "name": "Lentil",
         "type": "pie",
         "values": [
          18.77,
          68.36,
          19.41
         ]
        }
       ],
       "layout": {
        "annotations": [
         {
          "font": {
           "size": 15
          },
          "showarrow": false,
          "text": "Rice",
          "x": 0.06,
          "y": 0.8
         },
         {
          "font": {
           "size": 15
          },
          "showarrow": false,
          "text": "Cotton",
          "x": 0.26,
          "y": 0.8
         },
         {
          "font": {
           "size": 15
          },
          "showarrow": false,
          "text": "Jute",
          "x": 0.5,
          "y": 0.8
         },
         {
          "font": {
           "size": 15
          },
          "showarrow": false,
          "text": "Maize",
          "x": 0.74,
          "y": 0.8
         },
         {
          "font": {
           "size": 15
          },
          "showarrow": false,
          "text": "Lentil",
          "x": 0.94,
          "y": 0.8
         }
        ],
        "template": {
         "data": {
          "bar": [
           {
            "error_x": {
             "color": "#2a3f5f"
            },
            "error_y": {
             "color": "#2a3f5f"
            },
            "marker": {
             "line": {
              "color": "#E5ECF6",
              "width": 0.5
             },
             "pattern": {
              "fillmode": "overlay",
              "size": 10,
              "solidity": 0.2
             }
            },
            "type": "bar"
           }
          ],
          "barpolar": [
           {
            "marker": {
             "line": {
              "color": "#E5ECF6",
              "width": 0.5
             },
             "pattern": {
              "fillmode": "overlay",
              "size": 10,
              "solidity": 0.2
             }
            },
            "type": "barpolar"
           }
          ],
          "carpet": [
           {
            "aaxis": {
             "endlinecolor": "#2a3f5f",
             "gridcolor": "white",
             "linecolor": "white",
             "minorgridcolor": "white",
             "startlinecolor": "#2a3f5f"
            },
            "baxis": {
             "endlinecolor": "#2a3f5f",
             "gridcolor": "white",
             "linecolor": "white",
             "minorgridcolor": "white",
             "startlinecolor": "#2a3f5f"
            },
            "type": "carpet"
           }
          ],
          "choropleth": [
           {
            "colorbar": {
             "outlinewidth": 0,
             "ticks": ""
            },
            "type": "choropleth"
           }
          ],
          "contour": [
           {
            "colorbar": {
             "outlinewidth": 0,
             "ticks": ""
            },
            "colorscale": [
             [
              0,
              "#0d0887"
             ],
             [
              0.1111111111111111,
              "#46039f"
             ],
             [
              0.2222222222222222,
              "#7201a8"
             ],
             [
              0.3333333333333333,
              "#9c179e"
             ],
             [
              0.4444444444444444,
              "#bd3786"
             ],
             [
              0.5555555555555556,
              "#d8576b"
             ],
             [
              0.6666666666666666,
              "#ed7953"
             ],
             [
              0.7777777777777778,
              "#fb9f3a"
             ],
             [
              0.8888888888888888,
              "#fdca26"
             ],
             [
              1,
              "#f0f921"
             ]
            ],
            "type": "contour"
           }
          ],
          "contourcarpet": [
           {
            "colorbar": {
             "outlinewidth": 0,
             "ticks": ""
            },
            "type": "contourcarpet"
           }
          ],
          "heatmap": [
           {
            "colorbar": {
             "outlinewidth": 0,
             "ticks": ""
            },
            "colorscale": [
             [
              0,
              "#0d0887"
             ],
             [
              0.1111111111111111,
              "#46039f"
             ],
             [
              0.2222222222222222,
              "#7201a8"
             ],
             [
              0.3333333333333333,
              "#9c179e"
             ],
             [
              0.4444444444444444,
              "#bd3786"
             ],
             [
              0.5555555555555556,
              "#d8576b"
             ],
             [
              0.6666666666666666,
              "#ed7953"
             ],
             [
              0.7777777777777778,
              "#fb9f3a"
             ],
             [
              0.8888888888888888,
              "#fdca26"
             ],
             [
              1,
              "#f0f921"
             ]
            ],
            "type": "heatmap"
           }
          ],
          "heatmapgl": [
           {
            "colorbar": {
             "outlinewidth": 0,
             "ticks": ""
            },
            "colorscale": [
             [
              0,
              "#0d0887"
             ],
             [
              0.1111111111111111,
              "#46039f"
             ],
             [
              0.2222222222222222,
              "#7201a8"
             ],
             [
              0.3333333333333333,
              "#9c179e"
             ],
             [
              0.4444444444444444,
              "#bd3786"
             ],
             [
              0.5555555555555556,
              "#d8576b"
             ],
             [
              0.6666666666666666,
              "#ed7953"
             ],
             [
              0.7777777777777778,
              "#fb9f3a"
             ],
             [
              0.8888888888888888,
              "#fdca26"
             ],
             [
              1,
              "#f0f921"
             ]
            ],
            "type": "heatmapgl"
           }
          ],
          "histogram": [
           {
            "marker": {
             "pattern": {
              "fillmode": "overlay",
              "size": 10,
              "solidity": 0.2
             }
            },
            "type": "histogram"
           }
          ],
          "histogram2d": [
           {
            "colorbar": {
             "outlinewidth": 0,
             "ticks": ""
            },
            "colorscale": [
             [
              0,
              "#0d0887"
             ],
             [
              0.1111111111111111,
              "#46039f"
             ],
             [
              0.2222222222222222,
              "#7201a8"
             ],
             [
              0.3333333333333333,
              "#9c179e"
             ],
             [
              0.4444444444444444,
              "#bd3786"
             ],
             [
              0.5555555555555556,
              "#d8576b"
             ],
             [
              0.6666666666666666,
              "#ed7953"
             ],
             [
              0.7777777777777778,
              "#fb9f3a"
             ],
             [
              0.8888888888888888,
              "#fdca26"
             ],
             [
              1,
              "#f0f921"
             ]
            ],
            "type": "histogram2d"
           }
          ],
          "histogram2dcontour": [
           {
            "colorbar": {
             "outlinewidth": 0,
             "ticks": ""
            },
            "colorscale": [
             [
              0,
              "#0d0887"
             ],
             [
              0.1111111111111111,
              "#46039f"
             ],
             [
              0.2222222222222222,
              "#7201a8"
             ],
             [
              0.3333333333333333,
              "#9c179e"
             ],
             [
              0.4444444444444444,
              "#bd3786"
             ],
             [
              0.5555555555555556,
              "#d8576b"
             ],
             [
              0.6666666666666666,
              "#ed7953"
             ],
             [
              0.7777777777777778,
              "#fb9f3a"
             ],
             [
              0.8888888888888888,
              "#fdca26"
             ],
             [
              1,
              "#f0f921"
             ]
            ],
            "type": "histogram2dcontour"
           }
          ],
          "mesh3d": [
           {
            "colorbar": {
             "outlinewidth": 0,
             "ticks": ""
            },
            "type": "mesh3d"
           }
          ],
          "parcoords": [
           {
            "line": {
             "colorbar": {
              "outlinewidth": 0,
              "ticks": ""
             }
            },
            "type": "parcoords"
           }
          ],
          "pie": [
           {
            "automargin": true,
            "type": "pie"
           }
          ],
          "scatter": [
           {
            "marker": {
             "colorbar": {
              "outlinewidth": 0,
              "ticks": ""
             }
            },
            "type": "scatter"
           }
          ],
          "scatter3d": [
           {
            "line": {
             "colorbar": {
              "outlinewidth": 0,
              "ticks": ""
             }
            },
            "marker": {
             "colorbar": {
              "outlinewidth": 0,
              "ticks": ""
             }
            },
            "type": "scatter3d"
           }
          ],
          "scattercarpet": [
           {
            "marker": {
             "colorbar": {
              "outlinewidth": 0,
              "ticks": ""
             }
            },
            "type": "scattercarpet"
           }
          ],
          "scattergeo": [
           {
            "marker": {
             "colorbar": {
              "outlinewidth": 0,
              "ticks": ""
             }
            },
            "type": "scattergeo"
           }
          ],
          "scattergl": [
           {
            "marker": {
             "colorbar": {
              "outlinewidth": 0,
              "ticks": ""
             }
            },
            "type": "scattergl"
           }
          ],
          "scattermapbox": [
           {
            "marker": {
             "colorbar": {
              "outlinewidth": 0,
              "ticks": ""
             }
            },
            "type": "scattermapbox"
           }
          ],
          "scatterpolar": [
           {
            "marker": {
             "colorbar": {
              "outlinewidth": 0,
              "ticks": ""
             }
            },
            "type": "scatterpolar"
           }
          ],
          "scatterpolargl": [
           {
            "marker": {
             "colorbar": {
              "outlinewidth": 0,
              "ticks": ""
             }
            },
            "type": "scatterpolargl"
           }
          ],
          "scatterternary": [
           {
            "marker": {
             "colorbar": {
              "outlinewidth": 0,
              "ticks": ""
             }
            },
            "type": "scatterternary"
           }
          ],
          "surface": [
           {
            "colorbar": {
             "outlinewidth": 0,
             "ticks": ""
            },
            "colorscale": [
             [
              0,
              "#0d0887"
             ],
             [
              0.1111111111111111,
              "#46039f"
             ],
             [
              0.2222222222222222,
              "#7201a8"
             ],
             [
              0.3333333333333333,
              "#9c179e"
             ],
             [
              0.4444444444444444,
              "#bd3786"
             ],
             [
              0.5555555555555556,
              "#d8576b"
             ],
             [
              0.6666666666666666,
              "#ed7953"
             ],
             [
              0.7777777777777778,
              "#fb9f3a"
             ],
             [
              0.8888888888888888,
              "#fdca26"
             ],
             [
              1,
              "#f0f921"
             ]
            ],
            "type": "surface"
           }
          ],
          "table": [
           {
            "cells": {
             "fill": {
              "color": "#EBF0F8"
             },
             "line": {
              "color": "white"
             }
            },
            "header": {
             "fill": {
              "color": "#C8D4E3"
             },
             "line": {
              "color": "white"
             }
            },
            "type": "table"
           }
          ]
         },
         "layout": {
          "annotationdefaults": {
           "arrowcolor": "#2a3f5f",
           "arrowhead": 0,
           "arrowwidth": 1
          },
          "autotypenumbers": "strict",
          "coloraxis": {
           "colorbar": {
            "outlinewidth": 0,
            "ticks": ""
           }
          },
          "colorscale": {
           "diverging": [
            [
             0,
             "#8e0152"
            ],
            [
             0.1,
             "#c51b7d"
            ],
            [
             0.2,
             "#de77ae"
            ],
            [
             0.3,
             "#f1b6da"
            ],
            [
             0.4,
             "#fde0ef"
            ],
            [
             0.5,
             "#f7f7f7"
            ],
            [
             0.6,
             "#e6f5d0"
            ],
            [
             0.7,
             "#b8e186"
            ],
            [
             0.8,
             "#7fbc41"
            ],
            [
             0.9,
             "#4d9221"
            ],
            [
             1,
             "#276419"
            ]
           ],
           "sequential": [
            [
             0,
             "#0d0887"
            ],
            [
             0.1111111111111111,
             "#46039f"
            ],
            [
             0.2222222222222222,
             "#7201a8"
            ],
            [
             0.3333333333333333,
             "#9c179e"
            ],
            [
             0.4444444444444444,
             "#bd3786"
            ],
            [
             0.5555555555555556,
             "#d8576b"
            ],
            [
             0.6666666666666666,
             "#ed7953"
            ],
            [
             0.7777777777777778,
             "#fb9f3a"
            ],
            [
             0.8888888888888888,
             "#fdca26"
            ],
            [
             1,
             "#f0f921"
            ]
           ],
           "sequentialminus": [
            [
             0,
             "#0d0887"
            ],
            [
             0.1111111111111111,
             "#46039f"
            ],
            [
             0.2222222222222222,
             "#7201a8"
            ],
            [
             0.3333333333333333,
             "#9c179e"
            ],
            [
             0.4444444444444444,
             "#bd3786"
            ],
            [
             0.5555555555555556,
             "#d8576b"
            ],
            [
             0.6666666666666666,
             "#ed7953"
            ],
            [
             0.7777777777777778,
             "#fb9f3a"
            ],
            [
             0.8888888888888888,
             "#fdca26"
            ],
            [
             1,
             "#f0f921"
            ]
           ]
          },
          "colorway": [
           "#636efa",
           "#EF553B",
           "#00cc96",
           "#ab63fa",
           "#FFA15A",
           "#19d3f3",
           "#FF6692",
           "#B6E880",
           "#FF97FF",
           "#FECB52"
          ],
          "font": {
           "color": "#2a3f5f"
          },
          "geo": {
           "bgcolor": "white",
           "lakecolor": "white",
           "landcolor": "#E5ECF6",
           "showlakes": true,
           "showland": true,
           "subunitcolor": "white"
          },
          "hoverlabel": {
           "align": "left"
          },
          "hovermode": "closest",
          "mapbox": {
           "style": "light"
          },
          "paper_bgcolor": "white",
          "plot_bgcolor": "#E5ECF6",
          "polar": {
           "angularaxis": {
            "gridcolor": "white",
            "linecolor": "white",
            "ticks": ""
           },
           "bgcolor": "#E5ECF6",
           "radialaxis": {
            "gridcolor": "white",
            "linecolor": "white",
            "ticks": ""
           }
          },
          "scene": {
           "xaxis": {
            "backgroundcolor": "#E5ECF6",
            "gridcolor": "white",
            "gridwidth": 2,
            "linecolor": "white",
            "showbackground": true,
            "ticks": "",
            "zerolinecolor": "white"
           },
           "yaxis": {
            "backgroundcolor": "#E5ECF6",
            "gridcolor": "white",
            "gridwidth": 2,
            "linecolor": "white",
            "showbackground": true,
            "ticks": "",
            "zerolinecolor": "white"
           },
           "zaxis": {
            "backgroundcolor": "#E5ECF6",
            "gridcolor": "white",
            "gridwidth": 2,
            "linecolor": "white",
            "showbackground": true,
            "ticks": "",
            "zerolinecolor": "white"
           }
          },
          "shapedefaults": {
           "line": {
            "color": "#2a3f5f"
           }
          },
          "ternary": {
           "aaxis": {
            "gridcolor": "white",
            "linecolor": "white",
            "ticks": ""
           },
           "baxis": {
            "gridcolor": "white",
            "linecolor": "white",
            "ticks": ""
           },
           "bgcolor": "#E5ECF6",
           "caxis": {
            "gridcolor": "white",
            "linecolor": "white",
            "ticks": ""
           }
          },
          "title": {
           "x": 0.05
          },
          "xaxis": {
           "automargin": true,
           "gridcolor": "white",
           "linecolor": "white",
           "ticks": "",
           "title": {
            "standoff": 15
           },
           "zerolinecolor": "white",
           "zerolinewidth": 2
          },
          "yaxis": {
           "automargin": true,
           "gridcolor": "white",
           "linecolor": "white",
           "ticks": "",
           "title": {
            "standoff": 15
           },
           "zerolinecolor": "white",
           "zerolinewidth": 2
          }
         }
        },
        "title": {
         "text": "NPK ratio for rice, cotton, jute, maize, lentil"
        }
       }
      },
      "text/html": [
       "<div>                            <div id=\"09cb16bb-37bc-4171-aa23-207ab27fa5dc\" class=\"plotly-graph-div\" style=\"height:525px; width:100%;\"></div>            <script type=\"text/javascript\">                require([\"plotly\"], function(Plotly) {                    window.PLOTLYENV=window.PLOTLYENV || {};                                    if (document.getElementById(\"09cb16bb-37bc-4171-aa23-207ab27fa5dc\")) {                    Plotly.newPlot(                        \"09cb16bb-37bc-4171-aa23-207ab27fa5dc\",                        [{\"domain\":{\"x\":[0.0,0.16799999999999998],\"y\":[0.0,1.0]},\"hole\":0.4,\"hoverinfo\":\"label+percent+name\",\"labels\":[\"Nitrogen(N)\",\"Phosphorous(P)\",\"Potash(K)\"],\"name\":\"Rice\",\"type\":\"pie\",\"values\":[79.89,47.58,39.87]},{\"domain\":{\"x\":[0.208,0.376],\"y\":[0.0,1.0]},\"hole\":0.4,\"hoverinfo\":\"label+percent+name\",\"labels\":[\"Nitrogen(N)\",\"Phosphorous(P)\",\"Potash(K)\"],\"name\":\"Cotton\",\"type\":\"pie\",\"values\":[117.77,46.24,19.56]},{\"domain\":{\"x\":[0.416,0.584],\"y\":[0.0,1.0]},\"hole\":0.4,\"hoverinfo\":\"label+percent+name\",\"labels\":[\"Nitrogen(N)\",\"Phosphorous(P)\",\"Potash(K)\"],\"name\":\"Jute\",\"type\":\"pie\",\"values\":[78.4,46.86,39.99]},{\"domain\":{\"x\":[0.624,0.792],\"y\":[0.0,1.0]},\"hole\":0.4,\"hoverinfo\":\"label+percent+name\",\"labels\":[\"Nitrogen(N)\",\"Phosphorous(P)\",\"Potash(K)\"],\"name\":\"Maize\",\"type\":\"pie\",\"values\":[77.76,48.44,19.79]},{\"domain\":{\"x\":[0.832,1.0],\"y\":[0.0,1.0]},\"hole\":0.4,\"hoverinfo\":\"label+percent+name\",\"labels\":[\"Nitrogen(N)\",\"Phosphorous(P)\",\"Potash(K)\"],\"name\":\"Lentil\",\"type\":\"pie\",\"values\":[18.77,68.36,19.41]}],                        {\"annotations\":[{\"font\":{\"size\":15},\"showarrow\":false,\"text\":\"Rice\",\"x\":0.06,\"y\":0.8},{\"font\":{\"size\":15},\"showarrow\":false,\"text\":\"Cotton\",\"x\":0.26,\"y\":0.8},{\"font\":{\"size\":15},\"showarrow\":false,\"text\":\"Jute\",\"x\":0.5,\"y\":0.8},{\"font\":{\"size\":15},\"showarrow\":false,\"text\":\"Maize\",\"x\":0.74,\"y\":0.8},{\"font\":{\"size\":15},\"showarrow\":false,\"text\":\"Lentil\",\"x\":0.94,\"y\":0.8}],\"template\":{\"data\":{\"bar\":[{\"error_x\":{\"color\":\"#2a3f5f\"},\"error_y\":{\"color\":\"#2a3f5f\"},\"marker\":{\"line\":{\"color\":\"#E5ECF6\",\"width\":0.5},\"pattern\":{\"fillmode\":\"overlay\",\"size\":10,\"solidity\":0.2}},\"type\":\"bar\"}],\"barpolar\":[{\"marker\":{\"line\":{\"color\":\"#E5ECF6\",\"width\":0.5},\"pattern\":{\"fillmode\":\"overlay\",\"size\":10,\"solidity\":0.2}},\"type\":\"barpolar\"}],\"carpet\":[{\"aaxis\":{\"endlinecolor\":\"#2a3f5f\",\"gridcolor\":\"white\",\"linecolor\":\"white\",\"minorgridcolor\":\"white\",\"startlinecolor\":\"#2a3f5f\"},\"baxis\":{\"endlinecolor\":\"#2a3f5f\",\"gridcolor\":\"white\",\"linecolor\":\"white\",\"minorgridcolor\":\"white\",\"startlinecolor\":\"#2a3f5f\"},\"type\":\"carpet\"}],\"choropleth\":[{\"colorbar\":{\"outlinewidth\":0,\"ticks\":\"\"},\"type\":\"choropleth\"}],\"contour\":[{\"colorbar\":{\"outlinewidth\":0,\"ticks\":\"\"},\"colorscale\":[[0.0,\"#0d0887\"],[0.1111111111111111,\"#46039f\"],[0.2222222222222222,\"#7201a8\"],[0.3333333333333333,\"#9c179e\"],[0.4444444444444444,\"#bd3786\"],[0.5555555555555556,\"#d8576b\"],[0.6666666666666666,\"#ed7953\"],[0.7777777777777778,\"#fb9f3a\"],[0.8888888888888888,\"#fdca26\"],[1.0,\"#f0f921\"]],\"type\":\"contour\"}],\"contourcarpet\":[{\"colorbar\":{\"outlinewidth\":0,\"ticks\":\"\"},\"type\":\"contourcarpet\"}],\"heatmap\":[{\"colorbar\":{\"outlinewidth\":0,\"ticks\":\"\"},\"colorscale\":[[0.0,\"#0d0887\"],[0.1111111111111111,\"#46039f\"],[0.2222222222222222,\"#7201a8\"],[0.3333333333333333,\"#9c179e\"],[0.4444444444444444,\"#bd3786\"],[0.5555555555555556,\"#d8576b\"],[0.6666666666666666,\"#ed7953\"],[0.7777777777777778,\"#fb9f3a\"],[0.8888888888888888,\"#fdca26\"],[1.0,\"#f0f921\"]],\"type\":\"heatmap\"}],\"heatmapgl\":[{\"colorbar\":{\"outlinewidth\":0,\"ticks\":\"\"},\"colorscale\":[[0.0,\"#0d0887\"],[0.1111111111111111,\"#46039f\"],[0.2222222222222222,\"#7201a8\"],[0.3333333333333333,\"#9c179e\"],[0.4444444444444444,\"#bd3786\"],[0.5555555555555556,\"#d8576b\"],[0.6666666666666666,\"#ed7953\"],[0.7777777777777778,\"#fb9f3a\"],[0.8888888888888888,\"#fdca26\"],[1.0,\"#f0f921\"]],\"type\":\"heatmapgl\"}],\"histogram\":[{\"marker\":{\"pattern\":{\"fillmode\":\"overlay\",\"size\":10,\"solidity\":0.2}},\"type\":\"histogram\"}],\"histogram2d\":[{\"colorbar\":{\"outlinewidth\":0,\"ticks\":\"\"},\"colorscale\":[[0.0,\"#0d0887\"],[0.1111111111111111,\"#46039f\"],[0.2222222222222222,\"#7201a8\"],[0.3333333333333333,\"#9c179e\"],[0.4444444444444444,\"#bd3786\"],[0.5555555555555556,\"#d8576b\"],[0.6666666666666666,\"#ed7953\"],[0.7777777777777778,\"#fb9f3a\"],[0.8888888888888888,\"#fdca26\"],[1.0,\"#f0f921\"]],\"type\":\"histogram2d\"}],\"histogram2dcontour\":[{\"colorbar\":{\"outlinewidth\":0,\"ticks\":\"\"},\"colorscale\":[[0.0,\"#0d0887\"],[0.1111111111111111,\"#46039f\"],[0.2222222222222222,\"#7201a8\"],[0.3333333333333333,\"#9c179e\"],[0.4444444444444444,\"#bd3786\"],[0.5555555555555556,\"#d8576b\"],[0.6666666666666666,\"#ed7953\"],[0.7777777777777778,\"#fb9f3a\"],[0.8888888888888888,\"#fdca26\"],[1.0,\"#f0f921\"]],\"type\":\"histogram2dcontour\"}],\"mesh3d\":[{\"colorbar\":{\"outlinewidth\":0,\"ticks\":\"\"},\"type\":\"mesh3d\"}],\"parcoords\":[{\"line\":{\"colorbar\":{\"outlinewidth\":0,\"ticks\":\"\"}},\"type\":\"parcoords\"}],\"pie\":[{\"automargin\":true,\"type\":\"pie\"}],\"scatter\":[{\"marker\":{\"colorbar\":{\"outlinewidth\":0,\"ticks\":\"\"}},\"type\":\"scatter\"}],\"scatter3d\":[{\"line\":{\"colorbar\":{\"outlinewidth\":0,\"ticks\":\"\"}},\"marker\":{\"colorbar\":{\"outlinewidth\":0,\"ticks\":\"\"}},\"type\":\"scatter3d\"}],\"scattercarpet\":[{\"marker\":{\"colorbar\":{\"outlinewidth\":0,\"ticks\":\"\"}},\"type\":\"scattercarpet\"}],\"scattergeo\":[{\"marker\":{\"colorbar\":{\"outlinewidth\":0,\"ticks\":\"\"}},\"type\":\"scattergeo\"}],\"scattergl\":[{\"marker\":{\"colorbar\":{\"outlinewidth\":0,\"ticks\":\"\"}},\"type\":\"scattergl\"}],\"scattermapbox\":[{\"marker\":{\"colorbar\":{\"outlinewidth\":0,\"ticks\":\"\"}},\"type\":\"scattermapbox\"}],\"scatterpolar\":[{\"marker\":{\"colorbar\":{\"outlinewidth\":0,\"ticks\":\"\"}},\"type\":\"scatterpolar\"}],\"scatterpolargl\":[{\"marker\":{\"colorbar\":{\"outlinewidth\":0,\"ticks\":\"\"}},\"type\":\"scatterpolargl\"}],\"scatterternary\":[{\"marker\":{\"colorbar\":{\"outlinewidth\":0,\"ticks\":\"\"}},\"type\":\"scatterternary\"}],\"surface\":[{\"colorbar\":{\"outlinewidth\":0,\"ticks\":\"\"},\"colorscale\":[[0.0,\"#0d0887\"],[0.1111111111111111,\"#46039f\"],[0.2222222222222222,\"#7201a8\"],[0.3333333333333333,\"#9c179e\"],[0.4444444444444444,\"#bd3786\"],[0.5555555555555556,\"#d8576b\"],[0.6666666666666666,\"#ed7953\"],[0.7777777777777778,\"#fb9f3a\"],[0.8888888888888888,\"#fdca26\"],[1.0,\"#f0f921\"]],\"type\":\"surface\"}],\"table\":[{\"cells\":{\"fill\":{\"color\":\"#EBF0F8\"},\"line\":{\"color\":\"white\"}},\"header\":{\"fill\":{\"color\":\"#C8D4E3\"},\"line\":{\"color\":\"white\"}},\"type\":\"table\"}]},\"layout\":{\"annotationdefaults\":{\"arrowcolor\":\"#2a3f5f\",\"arrowhead\":0,\"arrowwidth\":1},\"autotypenumbers\":\"strict\",\"coloraxis\":{\"colorbar\":{\"outlinewidth\":0,\"ticks\":\"\"}},\"colorscale\":{\"diverging\":[[0,\"#8e0152\"],[0.1,\"#c51b7d\"],[0.2,\"#de77ae\"],[0.3,\"#f1b6da\"],[0.4,\"#fde0ef\"],[0.5,\"#f7f7f7\"],[0.6,\"#e6f5d0\"],[0.7,\"#b8e186\"],[0.8,\"#7fbc41\"],[0.9,\"#4d9221\"],[1,\"#276419\"]],\"sequential\":[[0.0,\"#0d0887\"],[0.1111111111111111,\"#46039f\"],[0.2222222222222222,\"#7201a8\"],[0.3333333333333333,\"#9c179e\"],[0.4444444444444444,\"#bd3786\"],[0.5555555555555556,\"#d8576b\"],[0.6666666666666666,\"#ed7953\"],[0.7777777777777778,\"#fb9f3a\"],[0.8888888888888888,\"#fdca26\"],[1.0,\"#f0f921\"]],\"sequentialminus\":[[0.0,\"#0d0887\"],[0.1111111111111111,\"#46039f\"],[0.2222222222222222,\"#7201a8\"],[0.3333333333333333,\"#9c179e\"],[0.4444444444444444,\"#bd3786\"],[0.5555555555555556,\"#d8576b\"],[0.6666666666666666,\"#ed7953\"],[0.7777777777777778,\"#fb9f3a\"],[0.8888888888888888,\"#fdca26\"],[1.0,\"#f0f921\"]]},\"colorway\":[\"#636efa\",\"#EF553B\",\"#00cc96\",\"#ab63fa\",\"#FFA15A\",\"#19d3f3\",\"#FF6692\",\"#B6E880\",\"#FF97FF\",\"#FECB52\"],\"font\":{\"color\":\"#2a3f5f\"},\"geo\":{\"bgcolor\":\"white\",\"lakecolor\":\"white\",\"landcolor\":\"#E5ECF6\",\"showlakes\":true,\"showland\":true,\"subunitcolor\":\"white\"},\"hoverlabel\":{\"align\":\"left\"},\"hovermode\":\"closest\",\"mapbox\":{\"style\":\"light\"},\"paper_bgcolor\":\"white\",\"plot_bgcolor\":\"#E5ECF6\",\"polar\":{\"angularaxis\":{\"gridcolor\":\"white\",\"linecolor\":\"white\",\"ticks\":\"\"},\"bgcolor\":\"#E5ECF6\",\"radialaxis\":{\"gridcolor\":\"white\",\"linecolor\":\"white\",\"ticks\":\"\"}},\"scene\":{\"xaxis\":{\"backgroundcolor\":\"#E5ECF6\",\"gridcolor\":\"white\",\"gridwidth\":2,\"linecolor\":\"white\",\"showbackground\":true,\"ticks\":\"\",\"zerolinecolor\":\"white\"},\"yaxis\":{\"backgroundcolor\":\"#E5ECF6\",\"gridcolor\":\"white\",\"gridwidth\":2,\"linecolor\":\"white\",\"showbackground\":true,\"ticks\":\"\",\"zerolinecolor\":\"white\"},\"zaxis\":{\"backgroundcolor\":\"#E5ECF6\",\"gridcolor\":\"white\",\"gridwidth\":2,\"linecolor\":\"white\",\"showbackground\":true,\"ticks\":\"\",\"zerolinecolor\":\"white\"}},\"shapedefaults\":{\"line\":{\"color\":\"#2a3f5f\"}},\"ternary\":{\"aaxis\":{\"gridcolor\":\"white\",\"linecolor\":\"white\",\"ticks\":\"\"},\"baxis\":{\"gridcolor\":\"white\",\"linecolor\":\"white\",\"ticks\":\"\"},\"bgcolor\":\"#E5ECF6\",\"caxis\":{\"gridcolor\":\"white\",\"linecolor\":\"white\",\"ticks\":\"\"}},\"title\":{\"x\":0.05},\"xaxis\":{\"automargin\":true,\"gridcolor\":\"white\",\"linecolor\":\"white\",\"ticks\":\"\",\"title\":{\"standoff\":15},\"zerolinecolor\":\"white\",\"zerolinewidth\":2},\"yaxis\":{\"automargin\":true,\"gridcolor\":\"white\",\"linecolor\":\"white\",\"ticks\":\"\",\"title\":{\"standoff\":15},\"zerolinecolor\":\"white\",\"zerolinewidth\":2}}},\"title\":{\"text\":\"NPK ratio for rice, cotton, jute, maize, lentil\"}},                        {\"responsive\": true}                    ).then(function(){\n",
       "                            \n",
       "var gd = document.getElementById('09cb16bb-37bc-4171-aa23-207ab27fa5dc');\n",
       "var x = new MutationObserver(function (mutations, observer) {{\n",
       "        var display = window.getComputedStyle(gd).display;\n",
       "        if (!display || display === 'none') {{\n",
       "            console.log([gd, 'removed!']);\n",
       "            Plotly.purge(gd);\n",
       "            observer.disconnect();\n",
       "        }}\n",
       "}});\n",
       "\n",
       "// Listen for the removal of the full notebook cells\n",
       "var notebookContainer = gd.closest('#notebook-container');\n",
       "if (notebookContainer) {{\n",
       "    x.observe(notebookContainer, {childList: true});\n",
       "}}\n",
       "\n",
       "// Listen for the clearing of the current output cell\n",
       "var outputEl = gd.closest('.output');\n",
       "if (outputEl) {{\n",
       "    x.observe(outputEl, {childList: true});\n",
       "}}\n",
       "\n",
       "                        })                };                });            </script>        </div>"
      ]
     },
     "metadata": {},
     "output_type": "display_data"
    }
   ],
   "source": [
    "labels = ['Nitrogen(N)','Phosphorous(P)','Potash(K)']\n",
    "fig = make_subplots(rows=1, cols=5, specs=[[{'type':'domain'}, {'type':'domain'},\n",
    "                                            {'type':'domain'}, {'type':'domain'}, \n",
    "                                            {'type':'domain'}]])\n",
    "\n",
    "rice_npk = crop_summary[crop_summary.index=='rice']\n",
    "values = [rice_npk['N'][0], rice_npk['P'][0], rice_npk['K'][0]]\n",
    "fig.add_trace(go.Pie(labels=labels, values=values,name=\"Rice\"),1, 1)\n",
    "\n",
    "cotton_npk = crop_summary[crop_summary.index=='cotton']\n",
    "values = [cotton_npk['N'][0], cotton_npk['P'][0], cotton_npk['K'][0]]\n",
    "fig.add_trace(go.Pie(labels=labels, values=values,name=\"Cotton\"),1, 2)\n",
    "\n",
    "jute_npk = crop_summary[crop_summary.index=='jute']\n",
    "values = [jute_npk['N'][0], jute_npk['P'][0], jute_npk['K'][0]]\n",
    "fig.add_trace(go.Pie(labels=labels, values=values,name=\"Jute\"),1, 3)\n",
    "\n",
    "maize_npk = crop_summary[crop_summary.index=='maize']\n",
    "values = [maize_npk['N'][0], maize_npk['P'][0], maize_npk['K'][0]]\n",
    "fig.add_trace(go.Pie(labels=labels, values=values,name=\"Maize\"),1, 4)\n",
    "\n",
    "lentil_npk = crop_summary[crop_summary.index=='lentil']\n",
    "values = [lentil_npk['N'][0], lentil_npk['P'][0], lentil_npk['K'][0]]\n",
    "fig.add_trace(go.Pie(labels=labels, values=values,name=\"Lentil\"),1, 5)\n",
    "\n",
    "fig.update_traces(hole=.4, hoverinfo=\"label+percent+name\")\n",
    "fig.update_layout(\n",
    "    title_text=\"NPK ratio for rice, cotton, jute, maize, lentil\",\n",
    "    annotations=[dict(text='Rice',x=0.06,y=0.8, font_size=15, showarrow=False),\n",
    "                 dict(text='Cotton',x=0.26,y=0.8, font_size=15, showarrow=False),\n",
    "                 dict(text='Jute',x=0.50,y=0.8, font_size=15, showarrow=False),\n",
    "                 dict(text='Maize',x=0.74,y=0.8, font_size=15, showarrow=False),\n",
    "                dict(text='Lentil',x=0.94,y=0.8, font_size=15, showarrow=False)])\n",
    "fig.show()\n"
   ]
  },
  {
   "cell_type": "code",
   "execution_count": 39,
   "id": "5bce3938",
   "metadata": {},
   "outputs": [
    {
     "data": {
      "application/vnd.plotly.v1+json": {
       "config": {
        "plotlyServerURL": "https://plot.ly"
       },
       "data": [
        {
         "domain": {
          "x": [
           0,
           0.16799999999999998
          ],
          "y": [
           0.575,
           1
          ]
         },
         "labels": [
          "Nitrogen(N)",
          "Phosphorous(P)",
          "Potash(K)"
         ],
         "marker": {
          "colors": [
           "rgb(255, 128, 0)",
           "rgb(0, 153, 204)",
           "rgb(173, 173, 133)"
          ]
         },
         "name": "Apple",
         "type": "pie",
         "values": [
          20.8,
          134.22,
          199.89
         ]
        },
        {
         "domain": {
          "x": [
           0.208,
           0.376
          ],
          "y": [
           0.575,
           1
          ]
         },
         "labels": [
          "Nitrogen(N)",
          "Phosphorous(P)",
          "Potash(K)"
         ],
         "marker": {
          "colors": [
           "rgb(255, 128, 0)",
           "rgb(0, 153, 204)",
           "rgb(173, 173, 133)"
          ]
         },
         "name": "Banana",
         "type": "pie",
         "values": [
          100.23,
          82.01,
          50.05
         ]
        },
        {
         "domain": {
          "x": [
           0.416,
           0.584
          ],
          "y": [
           0.575,
           1
          ]
         },
         "labels": [
          "Nitrogen(N)",
          "Phosphorous(P)",
          "Potash(K)"
         ],
         "marker": {
          "colors": [
           "rgb(255, 128, 0)",
           "rgb(0, 153, 204)",
           "rgb(173, 173, 133)"
          ]
         },
         "name": "Grapes",
         "type": "pie",
         "values": [
          23.18,
          132.53,
          200.11
         ]
        },
        {
         "domain": {
          "x": [
           0.624,
           0.792
          ],
          "y": [
           0.575,
           1
          ]
         },
         "labels": [
          "Nitrogen(N)",
          "Phosphorous(P)",
          "Potash(K)"
         ],
         "marker": {
          "colors": [
           "rgb(255, 128, 0)",
           "rgb(0, 153, 204)",
           "rgb(173, 173, 133)"
          ]
         },
         "name": "Orange",
         "type": "pie",
         "values": [
          19.58,
          16.55,
          10.01
         ]
        },
        {
         "domain": {
          "x": [
           0.832,
           1
          ],
          "y": [
           0.575,
           1
          ]
         },
         "labels": [
          "Nitrogen(N)",
          "Phosphorous(P)",
          "Potash(K)"
         ],
         "marker": {
          "colors": [
           "rgb(255, 128, 0)",
           "rgb(0, 153, 204)",
           "rgb(173, 173, 133)"
          ]
         },
         "name": "Mango",
         "type": "pie",
         "values": [
          20.07,
          27.18,
          29.92
         ]
        },
        {
         "domain": {
          "x": [
           0,
           0.16799999999999998
          ],
          "y": [
           0,
           0.425
          ]
         },
         "labels": [
          "Nitrogen(N)",
          "Phosphorous(P)",
          "Potash(K)"
         ],
         "marker": {
          "colors": [
           "rgb(255, 128, 0)",
           "rgb(0, 153, 204)",
           "rgb(173, 173, 133)"
          ]
         },
         "name": "Coconut",
         "type": "pie",
         "values": [
          21.98,
          16.93,
          30.59
         ]
        },
        {
         "domain": {
          "x": [
           0.208,
           0.376
          ],
          "y": [
           0,
           0.425
          ]
         },
         "labels": [
          "Nitrogen(N)",
          "Phosphorous(P)",
          "Potash(K)"
         ],
         "marker": {
          "colors": [
           "rgb(255, 128, 0)",
           "rgb(0, 153, 204)",
           "rgb(173, 173, 133)"
          ]
         },
         "name": "Papaya",
         "type": "pie",
         "values": [
          49.88,
          59.05,
          50.04
         ]
        },
        {
         "domain": {
          "x": [
           0.416,
           0.584
          ],
          "y": [
           0,
           0.425
          ]
         },
         "labels": [
          "Nitrogen(N)",
          "Phosphorous(P)",
          "Potash(K)"
         ],
         "marker": {
          "colors": [
           "rgb(255, 128, 0)",
           "rgb(0, 153, 204)",
           "rgb(173, 173, 133)"
          ]
         },
         "name": "Pomegranate",
         "type": "pie",
         "values": [
          18.87,
          18.75,
          40.21
         ]
        },
        {
         "domain": {
          "x": [
           0.624,
           0.792
          ],
          "y": [
           0,
           0.425
          ]
         },
         "labels": [
          "Nitrogen(N)",
          "Phosphorous(P)",
          "Potash(K)"
         ],
         "marker": {
          "colors": [
           "rgb(255, 128, 0)",
           "rgb(0, 153, 204)",
           "rgb(173, 173, 133)"
          ]
         },
         "name": "Watermelon",
         "type": "pie",
         "values": [
          99.42,
          17,
          50.22
         ]
        },
        {
         "domain": {
          "x": [
           0.832,
           1
          ],
          "y": [
           0,
           0.425
          ]
         },
         "labels": [
          "Nitrogen(N)",
          "Phosphorous(P)",
          "Potash(K)"
         ],
         "marker": {
          "colors": [
           "rgb(255, 128, 0)",
           "rgb(0, 153, 204)",
           "rgb(173, 173, 133)"
          ]
         },
         "name": "Muskmelon",
         "type": "pie",
         "values": [
          100.32,
          17.72,
          50.08
         ]
        }
       ],
       "layout": {
        "annotations": [
         {
          "font": {
           "size": 15
          },
          "showarrow": false,
          "text": "Apple",
          "x": 0.06,
          "y": 1.08
         },
         {
          "font": {
           "size": 15
          },
          "showarrow": false,
          "text": "Banana",
          "x": 0.26,
          "y": 1.08
         },
         {
          "font": {
           "size": 15
          },
          "showarrow": false,
          "text": "Grapes",
          "x": 0.5,
          "y": 1.08
         },
         {
          "font": {
           "size": 15
          },
          "showarrow": false,
          "text": "Orange",
          "x": 0.74,
          "y": 1.08
         },
         {
          "font": {
           "size": 15
          },
          "showarrow": false,
          "text": "Mango",
          "x": 0.94,
          "y": 1.08
         },
         {
          "font": {
           "size": 15
          },
          "showarrow": false,
          "text": "Coconut",
          "x": 0.06,
          "y": 0.46
         },
         {
          "font": {
           "size": 15
          },
          "showarrow": false,
          "text": "Papaya",
          "x": 0.26,
          "y": 0.46
         },
         {
          "font": {
           "size": 15
          },
          "showarrow": false,
          "text": "Pomegranate",
          "x": 0.5,
          "y": 0.46
         },
         {
          "font": {
           "size": 15
          },
          "showarrow": false,
          "text": "Watermelon",
          "x": 0.74,
          "y": 0.46
         },
         {
          "font": {
           "size": 15
          },
          "showarrow": false,
          "text": "Muskmelon",
          "x": 0.94,
          "y": 0.46
         }
        ],
        "template": {
         "data": {
          "bar": [
           {
            "error_x": {
             "color": "#2a3f5f"
            },
            "error_y": {
             "color": "#2a3f5f"
            },
            "marker": {
             "line": {
              "color": "#E5ECF6",
              "width": 0.5
             },
             "pattern": {
              "fillmode": "overlay",
              "size": 10,
              "solidity": 0.2
             }
            },
            "type": "bar"
           }
          ],
          "barpolar": [
           {
            "marker": {
             "line": {
              "color": "#E5ECF6",
              "width": 0.5
             },
             "pattern": {
              "fillmode": "overlay",
              "size": 10,
              "solidity": 0.2
             }
            },
            "type": "barpolar"
           }
          ],
          "carpet": [
           {
            "aaxis": {
             "endlinecolor": "#2a3f5f",
             "gridcolor": "white",
             "linecolor": "white",
             "minorgridcolor": "white",
             "startlinecolor": "#2a3f5f"
            },
            "baxis": {
             "endlinecolor": "#2a3f5f",
             "gridcolor": "white",
             "linecolor": "white",
             "minorgridcolor": "white",
             "startlinecolor": "#2a3f5f"
            },
            "type": "carpet"
           }
          ],
          "choropleth": [
           {
            "colorbar": {
             "outlinewidth": 0,
             "ticks": ""
            },
            "type": "choropleth"
           }
          ],
          "contour": [
           {
            "colorbar": {
             "outlinewidth": 0,
             "ticks": ""
            },
            "colorscale": [
             [
              0,
              "#0d0887"
             ],
             [
              0.1111111111111111,
              "#46039f"
             ],
             [
              0.2222222222222222,
              "#7201a8"
             ],
             [
              0.3333333333333333,
              "#9c179e"
             ],
             [
              0.4444444444444444,
              "#bd3786"
             ],
             [
              0.5555555555555556,
              "#d8576b"
             ],
             [
              0.6666666666666666,
              "#ed7953"
             ],
             [
              0.7777777777777778,
              "#fb9f3a"
             ],
             [
              0.8888888888888888,
              "#fdca26"
             ],
             [
              1,
              "#f0f921"
             ]
            ],
            "type": "contour"
           }
          ],
          "contourcarpet": [
           {
            "colorbar": {
             "outlinewidth": 0,
             "ticks": ""
            },
            "type": "contourcarpet"
           }
          ],
          "heatmap": [
           {
            "colorbar": {
             "outlinewidth": 0,
             "ticks": ""
            },
            "colorscale": [
             [
              0,
              "#0d0887"
             ],
             [
              0.1111111111111111,
              "#46039f"
             ],
             [
              0.2222222222222222,
              "#7201a8"
             ],
             [
              0.3333333333333333,
              "#9c179e"
             ],
             [
              0.4444444444444444,
              "#bd3786"
             ],
             [
              0.5555555555555556,
              "#d8576b"
             ],
             [
              0.6666666666666666,
              "#ed7953"
             ],
             [
              0.7777777777777778,
              "#fb9f3a"
             ],
             [
              0.8888888888888888,
              "#fdca26"
             ],
             [
              1,
              "#f0f921"
             ]
            ],
            "type": "heatmap"
           }
          ],
          "heatmapgl": [
           {
            "colorbar": {
             "outlinewidth": 0,
             "ticks": ""
            },
            "colorscale": [
             [
              0,
              "#0d0887"
             ],
             [
              0.1111111111111111,
              "#46039f"
             ],
             [
              0.2222222222222222,
              "#7201a8"
             ],
             [
              0.3333333333333333,
              "#9c179e"
             ],
             [
              0.4444444444444444,
              "#bd3786"
             ],
             [
              0.5555555555555556,
              "#d8576b"
             ],
             [
              0.6666666666666666,
              "#ed7953"
             ],
             [
              0.7777777777777778,
              "#fb9f3a"
             ],
             [
              0.8888888888888888,
              "#fdca26"
             ],
             [
              1,
              "#f0f921"
             ]
            ],
            "type": "heatmapgl"
           }
          ],
          "histogram": [
           {
            "marker": {
             "pattern": {
              "fillmode": "overlay",
              "size": 10,
              "solidity": 0.2
             }
            },
            "type": "histogram"
           }
          ],
          "histogram2d": [
           {
            "colorbar": {
             "outlinewidth": 0,
             "ticks": ""
            },
            "colorscale": [
             [
              0,
              "#0d0887"
             ],
             [
              0.1111111111111111,
              "#46039f"
             ],
             [
              0.2222222222222222,
              "#7201a8"
             ],
             [
              0.3333333333333333,
              "#9c179e"
             ],
             [
              0.4444444444444444,
              "#bd3786"
             ],
             [
              0.5555555555555556,
              "#d8576b"
             ],
             [
              0.6666666666666666,
              "#ed7953"
             ],
             [
              0.7777777777777778,
              "#fb9f3a"
             ],
             [
              0.8888888888888888,
              "#fdca26"
             ],
             [
              1,
              "#f0f921"
             ]
            ],
            "type": "histogram2d"
           }
          ],
          "histogram2dcontour": [
           {
            "colorbar": {
             "outlinewidth": 0,
             "ticks": ""
            },
            "colorscale": [
             [
              0,
              "#0d0887"
             ],
             [
              0.1111111111111111,
              "#46039f"
             ],
             [
              0.2222222222222222,
              "#7201a8"
             ],
             [
              0.3333333333333333,
              "#9c179e"
             ],
             [
              0.4444444444444444,
              "#bd3786"
             ],
             [
              0.5555555555555556,
              "#d8576b"
             ],
             [
              0.6666666666666666,
              "#ed7953"
             ],
             [
              0.7777777777777778,
              "#fb9f3a"
             ],
             [
              0.8888888888888888,
              "#fdca26"
             ],
             [
              1,
              "#f0f921"
             ]
            ],
            "type": "histogram2dcontour"
           }
          ],
          "mesh3d": [
           {
            "colorbar": {
             "outlinewidth": 0,
             "ticks": ""
            },
            "type": "mesh3d"
           }
          ],
          "parcoords": [
           {
            "line": {
             "colorbar": {
              "outlinewidth": 0,
              "ticks": ""
             }
            },
            "type": "parcoords"
           }
          ],
          "pie": [
           {
            "automargin": true,
            "type": "pie"
           }
          ],
          "scatter": [
           {
            "marker": {
             "colorbar": {
              "outlinewidth": 0,
              "ticks": ""
             }
            },
            "type": "scatter"
           }
          ],
          "scatter3d": [
           {
            "line": {
             "colorbar": {
              "outlinewidth": 0,
              "ticks": ""
             }
            },
            "marker": {
             "colorbar": {
              "outlinewidth": 0,
              "ticks": ""
             }
            },
            "type": "scatter3d"
           }
          ],
          "scattercarpet": [
           {
            "marker": {
             "colorbar": {
              "outlinewidth": 0,
              "ticks": ""
             }
            },
            "type": "scattercarpet"
           }
          ],
          "scattergeo": [
           {
            "marker": {
             "colorbar": {
              "outlinewidth": 0,
              "ticks": ""
             }
            },
            "type": "scattergeo"
           }
          ],
          "scattergl": [
           {
            "marker": {
             "colorbar": {
              "outlinewidth": 0,
              "ticks": ""
             }
            },
            "type": "scattergl"
           }
          ],
          "scattermapbox": [
           {
            "marker": {
             "colorbar": {
              "outlinewidth": 0,
              "ticks": ""
             }
            },
            "type": "scattermapbox"
           }
          ],
          "scatterpolar": [
           {
            "marker": {
             "colorbar": {
              "outlinewidth": 0,
              "ticks": ""
             }
            },
            "type": "scatterpolar"
           }
          ],
          "scatterpolargl": [
           {
            "marker": {
             "colorbar": {
              "outlinewidth": 0,
              "ticks": ""
             }
            },
            "type": "scatterpolargl"
           }
          ],
          "scatterternary": [
           {
            "marker": {
             "colorbar": {
              "outlinewidth": 0,
              "ticks": ""
             }
            },
            "type": "scatterternary"
           }
          ],
          "surface": [
           {
            "colorbar": {
             "outlinewidth": 0,
             "ticks": ""
            },
            "colorscale": [
             [
              0,
              "#0d0887"
             ],
             [
              0.1111111111111111,
              "#46039f"
             ],
             [
              0.2222222222222222,
              "#7201a8"
             ],
             [
              0.3333333333333333,
              "#9c179e"
             ],
             [
              0.4444444444444444,
              "#bd3786"
             ],
             [
              0.5555555555555556,
              "#d8576b"
             ],
             [
              0.6666666666666666,
              "#ed7953"
             ],
             [
              0.7777777777777778,
              "#fb9f3a"
             ],
             [
              0.8888888888888888,
              "#fdca26"
             ],
             [
              1,
              "#f0f921"
             ]
            ],
            "type": "surface"
           }
          ],
          "table": [
           {
            "cells": {
             "fill": {
              "color": "#EBF0F8"
             },
             "line": {
              "color": "white"
             }
            },
            "header": {
             "fill": {
              "color": "#C8D4E3"
             },
             "line": {
              "color": "white"
             }
            },
            "type": "table"
           }
          ]
         },
         "layout": {
          "annotationdefaults": {
           "arrowcolor": "#2a3f5f",
           "arrowhead": 0,
           "arrowwidth": 1
          },
          "autotypenumbers": "strict",
          "coloraxis": {
           "colorbar": {
            "outlinewidth": 0,
            "ticks": ""
           }
          },
          "colorscale": {
           "diverging": [
            [
             0,
             "#8e0152"
            ],
            [
             0.1,
             "#c51b7d"
            ],
            [
             0.2,
             "#de77ae"
            ],
            [
             0.3,
             "#f1b6da"
            ],
            [
             0.4,
             "#fde0ef"
            ],
            [
             0.5,
             "#f7f7f7"
            ],
            [
             0.6,
             "#e6f5d0"
            ],
            [
             0.7,
             "#b8e186"
            ],
            [
             0.8,
             "#7fbc41"
            ],
            [
             0.9,
             "#4d9221"
            ],
            [
             1,
             "#276419"
            ]
           ],
           "sequential": [
            [
             0,
             "#0d0887"
            ],
            [
             0.1111111111111111,
             "#46039f"
            ],
            [
             0.2222222222222222,
             "#7201a8"
            ],
            [
             0.3333333333333333,
             "#9c179e"
            ],
            [
             0.4444444444444444,
             "#bd3786"
            ],
            [
             0.5555555555555556,
             "#d8576b"
            ],
            [
             0.6666666666666666,
             "#ed7953"
            ],
            [
             0.7777777777777778,
             "#fb9f3a"
            ],
            [
             0.8888888888888888,
             "#fdca26"
            ],
            [
             1,
             "#f0f921"
            ]
           ],
           "sequentialminus": [
            [
             0,
             "#0d0887"
            ],
            [
             0.1111111111111111,
             "#46039f"
            ],
            [
             0.2222222222222222,
             "#7201a8"
            ],
            [
             0.3333333333333333,
             "#9c179e"
            ],
            [
             0.4444444444444444,
             "#bd3786"
            ],
            [
             0.5555555555555556,
             "#d8576b"
            ],
            [
             0.6666666666666666,
             "#ed7953"
            ],
            [
             0.7777777777777778,
             "#fb9f3a"
            ],
            [
             0.8888888888888888,
             "#fdca26"
            ],
            [
             1,
             "#f0f921"
            ]
           ]
          },
          "colorway": [
           "#636efa",
           "#EF553B",
           "#00cc96",
           "#ab63fa",
           "#FFA15A",
           "#19d3f3",
           "#FF6692",
           "#B6E880",
           "#FF97FF",
           "#FECB52"
          ],
          "font": {
           "color": "#2a3f5f"
          },
          "geo": {
           "bgcolor": "white",
           "lakecolor": "white",
           "landcolor": "#E5ECF6",
           "showlakes": true,
           "showland": true,
           "subunitcolor": "white"
          },
          "hoverlabel": {
           "align": "left"
          },
          "hovermode": "closest",
          "mapbox": {
           "style": "light"
          },
          "paper_bgcolor": "white",
          "plot_bgcolor": "#E5ECF6",
          "polar": {
           "angularaxis": {
            "gridcolor": "white",
            "linecolor": "white",
            "ticks": ""
           },
           "bgcolor": "#E5ECF6",
           "radialaxis": {
            "gridcolor": "white",
            "linecolor": "white",
            "ticks": ""
           }
          },
          "scene": {
           "xaxis": {
            "backgroundcolor": "#E5ECF6",
            "gridcolor": "white",
            "gridwidth": 2,
            "linecolor": "white",
            "showbackground": true,
            "ticks": "",
            "zerolinecolor": "white"
           },
           "yaxis": {
            "backgroundcolor": "#E5ECF6",
            "gridcolor": "white",
            "gridwidth": 2,
            "linecolor": "white",
            "showbackground": true,
            "ticks": "",
            "zerolinecolor": "white"
           },
           "zaxis": {
            "backgroundcolor": "#E5ECF6",
            "gridcolor": "white",
            "gridwidth": 2,
            "linecolor": "white",
            "showbackground": true,
            "ticks": "",
            "zerolinecolor": "white"
           }
          },
          "shapedefaults": {
           "line": {
            "color": "#2a3f5f"
           }
          },
          "ternary": {
           "aaxis": {
            "gridcolor": "white",
            "linecolor": "white",
            "ticks": ""
           },
           "baxis": {
            "gridcolor": "white",
            "linecolor": "white",
            "ticks": ""
           },
           "bgcolor": "#E5ECF6",
           "caxis": {
            "gridcolor": "white",
            "linecolor": "white",
            "ticks": ""
           }
          },
          "title": {
           "x": 0.05
          },
          "xaxis": {
           "automargin": true,
           "gridcolor": "white",
           "linecolor": "white",
           "ticks": "",
           "title": {
            "standoff": 15
           },
           "zerolinecolor": "white",
           "zerolinewidth": 2
          },
          "yaxis": {
           "automargin": true,
           "gridcolor": "white",
           "linecolor": "white",
           "ticks": "",
           "title": {
            "standoff": 15
           },
           "zerolinecolor": "white",
           "zerolinewidth": 2
          }
         }
        },
        "title": {
         "text": "NPK ratio for fruits"
        }
       }
      },
      "text/html": [
       "<div>                            <div id=\"5dcd459c-0138-4746-ab91-2bbc6f035fd0\" class=\"plotly-graph-div\" style=\"height:525px; width:100%;\"></div>            <script type=\"text/javascript\">                require([\"plotly\"], function(Plotly) {                    window.PLOTLYENV=window.PLOTLYENV || {};                                    if (document.getElementById(\"5dcd459c-0138-4746-ab91-2bbc6f035fd0\")) {                    Plotly.newPlot(                        \"5dcd459c-0138-4746-ab91-2bbc6f035fd0\",                        [{\"domain\":{\"x\":[0.0,0.16799999999999998],\"y\":[0.575,1.0]},\"labels\":[\"Nitrogen(N)\",\"Phosphorous(P)\",\"Potash(K)\"],\"marker\":{\"colors\":[\"rgb(255, 128, 0)\",\"rgb(0, 153, 204)\",\"rgb(173, 173, 133)\"]},\"name\":\"Apple\",\"type\":\"pie\",\"values\":[20.8,134.22,199.89]},{\"domain\":{\"x\":[0.208,0.376],\"y\":[0.575,1.0]},\"labels\":[\"Nitrogen(N)\",\"Phosphorous(P)\",\"Potash(K)\"],\"marker\":{\"colors\":[\"rgb(255, 128, 0)\",\"rgb(0, 153, 204)\",\"rgb(173, 173, 133)\"]},\"name\":\"Banana\",\"type\":\"pie\",\"values\":[100.23,82.01,50.05]},{\"domain\":{\"x\":[0.416,0.584],\"y\":[0.575,1.0]},\"labels\":[\"Nitrogen(N)\",\"Phosphorous(P)\",\"Potash(K)\"],\"marker\":{\"colors\":[\"rgb(255, 128, 0)\",\"rgb(0, 153, 204)\",\"rgb(173, 173, 133)\"]},\"name\":\"Grapes\",\"type\":\"pie\",\"values\":[23.18,132.53,200.11]},{\"domain\":{\"x\":[0.624,0.792],\"y\":[0.575,1.0]},\"labels\":[\"Nitrogen(N)\",\"Phosphorous(P)\",\"Potash(K)\"],\"marker\":{\"colors\":[\"rgb(255, 128, 0)\",\"rgb(0, 153, 204)\",\"rgb(173, 173, 133)\"]},\"name\":\"Orange\",\"type\":\"pie\",\"values\":[19.58,16.55,10.01]},{\"domain\":{\"x\":[0.832,1.0],\"y\":[0.575,1.0]},\"labels\":[\"Nitrogen(N)\",\"Phosphorous(P)\",\"Potash(K)\"],\"marker\":{\"colors\":[\"rgb(255, 128, 0)\",\"rgb(0, 153, 204)\",\"rgb(173, 173, 133)\"]},\"name\":\"Mango\",\"type\":\"pie\",\"values\":[20.07,27.18,29.92]},{\"domain\":{\"x\":[0.0,0.16799999999999998],\"y\":[0.0,0.425]},\"labels\":[\"Nitrogen(N)\",\"Phosphorous(P)\",\"Potash(K)\"],\"marker\":{\"colors\":[\"rgb(255, 128, 0)\",\"rgb(0, 153, 204)\",\"rgb(173, 173, 133)\"]},\"name\":\"Coconut\",\"type\":\"pie\",\"values\":[21.98,16.93,30.59]},{\"domain\":{\"x\":[0.208,0.376],\"y\":[0.0,0.425]},\"labels\":[\"Nitrogen(N)\",\"Phosphorous(P)\",\"Potash(K)\"],\"marker\":{\"colors\":[\"rgb(255, 128, 0)\",\"rgb(0, 153, 204)\",\"rgb(173, 173, 133)\"]},\"name\":\"Papaya\",\"type\":\"pie\",\"values\":[49.88,59.05,50.04]},{\"domain\":{\"x\":[0.416,0.584],\"y\":[0.0,0.425]},\"labels\":[\"Nitrogen(N)\",\"Phosphorous(P)\",\"Potash(K)\"],\"marker\":{\"colors\":[\"rgb(255, 128, 0)\",\"rgb(0, 153, 204)\",\"rgb(173, 173, 133)\"]},\"name\":\"Pomegranate\",\"type\":\"pie\",\"values\":[18.87,18.75,40.21]},{\"domain\":{\"x\":[0.624,0.792],\"y\":[0.0,0.425]},\"labels\":[\"Nitrogen(N)\",\"Phosphorous(P)\",\"Potash(K)\"],\"marker\":{\"colors\":[\"rgb(255, 128, 0)\",\"rgb(0, 153, 204)\",\"rgb(173, 173, 133)\"]},\"name\":\"Watermelon\",\"type\":\"pie\",\"values\":[99.42,17.0,50.22]},{\"domain\":{\"x\":[0.832,1.0],\"y\":[0.0,0.425]},\"labels\":[\"Nitrogen(N)\",\"Phosphorous(P)\",\"Potash(K)\"],\"marker\":{\"colors\":[\"rgb(255, 128, 0)\",\"rgb(0, 153, 204)\",\"rgb(173, 173, 133)\"]},\"name\":\"Muskmelon\",\"type\":\"pie\",\"values\":[100.32,17.72,50.08]}],                        {\"annotations\":[{\"font\":{\"size\":15},\"showarrow\":false,\"text\":\"Apple\",\"x\":0.06,\"y\":1.08},{\"font\":{\"size\":15},\"showarrow\":false,\"text\":\"Banana\",\"x\":0.26,\"y\":1.08},{\"font\":{\"size\":15},\"showarrow\":false,\"text\":\"Grapes\",\"x\":0.5,\"y\":1.08},{\"font\":{\"size\":15},\"showarrow\":false,\"text\":\"Orange\",\"x\":0.74,\"y\":1.08},{\"font\":{\"size\":15},\"showarrow\":false,\"text\":\"Mango\",\"x\":0.94,\"y\":1.08},{\"font\":{\"size\":15},\"showarrow\":false,\"text\":\"Coconut\",\"x\":0.06,\"y\":0.46},{\"font\":{\"size\":15},\"showarrow\":false,\"text\":\"Papaya\",\"x\":0.26,\"y\":0.46},{\"font\":{\"size\":15},\"showarrow\":false,\"text\":\"Pomegranate\",\"x\":0.5,\"y\":0.46},{\"font\":{\"size\":15},\"showarrow\":false,\"text\":\"Watermelon\",\"x\":0.74,\"y\":0.46},{\"font\":{\"size\":15},\"showarrow\":false,\"text\":\"Muskmelon\",\"x\":0.94,\"y\":0.46}],\"template\":{\"data\":{\"bar\":[{\"error_x\":{\"color\":\"#2a3f5f\"},\"error_y\":{\"color\":\"#2a3f5f\"},\"marker\":{\"line\":{\"color\":\"#E5ECF6\",\"width\":0.5},\"pattern\":{\"fillmode\":\"overlay\",\"size\":10,\"solidity\":0.2}},\"type\":\"bar\"}],\"barpolar\":[{\"marker\":{\"line\":{\"color\":\"#E5ECF6\",\"width\":0.5},\"pattern\":{\"fillmode\":\"overlay\",\"size\":10,\"solidity\":0.2}},\"type\":\"barpolar\"}],\"carpet\":[{\"aaxis\":{\"endlinecolor\":\"#2a3f5f\",\"gridcolor\":\"white\",\"linecolor\":\"white\",\"minorgridcolor\":\"white\",\"startlinecolor\":\"#2a3f5f\"},\"baxis\":{\"endlinecolor\":\"#2a3f5f\",\"gridcolor\":\"white\",\"linecolor\":\"white\",\"minorgridcolor\":\"white\",\"startlinecolor\":\"#2a3f5f\"},\"type\":\"carpet\"}],\"choropleth\":[{\"colorbar\":{\"outlinewidth\":0,\"ticks\":\"\"},\"type\":\"choropleth\"}],\"contour\":[{\"colorbar\":{\"outlinewidth\":0,\"ticks\":\"\"},\"colorscale\":[[0.0,\"#0d0887\"],[0.1111111111111111,\"#46039f\"],[0.2222222222222222,\"#7201a8\"],[0.3333333333333333,\"#9c179e\"],[0.4444444444444444,\"#bd3786\"],[0.5555555555555556,\"#d8576b\"],[0.6666666666666666,\"#ed7953\"],[0.7777777777777778,\"#fb9f3a\"],[0.8888888888888888,\"#fdca26\"],[1.0,\"#f0f921\"]],\"type\":\"contour\"}],\"contourcarpet\":[{\"colorbar\":{\"outlinewidth\":0,\"ticks\":\"\"},\"type\":\"contourcarpet\"}],\"heatmap\":[{\"colorbar\":{\"outlinewidth\":0,\"ticks\":\"\"},\"colorscale\":[[0.0,\"#0d0887\"],[0.1111111111111111,\"#46039f\"],[0.2222222222222222,\"#7201a8\"],[0.3333333333333333,\"#9c179e\"],[0.4444444444444444,\"#bd3786\"],[0.5555555555555556,\"#d8576b\"],[0.6666666666666666,\"#ed7953\"],[0.7777777777777778,\"#fb9f3a\"],[0.8888888888888888,\"#fdca26\"],[1.0,\"#f0f921\"]],\"type\":\"heatmap\"}],\"heatmapgl\":[{\"colorbar\":{\"outlinewidth\":0,\"ticks\":\"\"},\"colorscale\":[[0.0,\"#0d0887\"],[0.1111111111111111,\"#46039f\"],[0.2222222222222222,\"#7201a8\"],[0.3333333333333333,\"#9c179e\"],[0.4444444444444444,\"#bd3786\"],[0.5555555555555556,\"#d8576b\"],[0.6666666666666666,\"#ed7953\"],[0.7777777777777778,\"#fb9f3a\"],[0.8888888888888888,\"#fdca26\"],[1.0,\"#f0f921\"]],\"type\":\"heatmapgl\"}],\"histogram\":[{\"marker\":{\"pattern\":{\"fillmode\":\"overlay\",\"size\":10,\"solidity\":0.2}},\"type\":\"histogram\"}],\"histogram2d\":[{\"colorbar\":{\"outlinewidth\":0,\"ticks\":\"\"},\"colorscale\":[[0.0,\"#0d0887\"],[0.1111111111111111,\"#46039f\"],[0.2222222222222222,\"#7201a8\"],[0.3333333333333333,\"#9c179e\"],[0.4444444444444444,\"#bd3786\"],[0.5555555555555556,\"#d8576b\"],[0.6666666666666666,\"#ed7953\"],[0.7777777777777778,\"#fb9f3a\"],[0.8888888888888888,\"#fdca26\"],[1.0,\"#f0f921\"]],\"type\":\"histogram2d\"}],\"histogram2dcontour\":[{\"colorbar\":{\"outlinewidth\":0,\"ticks\":\"\"},\"colorscale\":[[0.0,\"#0d0887\"],[0.1111111111111111,\"#46039f\"],[0.2222222222222222,\"#7201a8\"],[0.3333333333333333,\"#9c179e\"],[0.4444444444444444,\"#bd3786\"],[0.5555555555555556,\"#d8576b\"],[0.6666666666666666,\"#ed7953\"],[0.7777777777777778,\"#fb9f3a\"],[0.8888888888888888,\"#fdca26\"],[1.0,\"#f0f921\"]],\"type\":\"histogram2dcontour\"}],\"mesh3d\":[{\"colorbar\":{\"outlinewidth\":0,\"ticks\":\"\"},\"type\":\"mesh3d\"}],\"parcoords\":[{\"line\":{\"colorbar\":{\"outlinewidth\":0,\"ticks\":\"\"}},\"type\":\"parcoords\"}],\"pie\":[{\"automargin\":true,\"type\":\"pie\"}],\"scatter\":[{\"marker\":{\"colorbar\":{\"outlinewidth\":0,\"ticks\":\"\"}},\"type\":\"scatter\"}],\"scatter3d\":[{\"line\":{\"colorbar\":{\"outlinewidth\":0,\"ticks\":\"\"}},\"marker\":{\"colorbar\":{\"outlinewidth\":0,\"ticks\":\"\"}},\"type\":\"scatter3d\"}],\"scattercarpet\":[{\"marker\":{\"colorbar\":{\"outlinewidth\":0,\"ticks\":\"\"}},\"type\":\"scattercarpet\"}],\"scattergeo\":[{\"marker\":{\"colorbar\":{\"outlinewidth\":0,\"ticks\":\"\"}},\"type\":\"scattergeo\"}],\"scattergl\":[{\"marker\":{\"colorbar\":{\"outlinewidth\":0,\"ticks\":\"\"}},\"type\":\"scattergl\"}],\"scattermapbox\":[{\"marker\":{\"colorbar\":{\"outlinewidth\":0,\"ticks\":\"\"}},\"type\":\"scattermapbox\"}],\"scatterpolar\":[{\"marker\":{\"colorbar\":{\"outlinewidth\":0,\"ticks\":\"\"}},\"type\":\"scatterpolar\"}],\"scatterpolargl\":[{\"marker\":{\"colorbar\":{\"outlinewidth\":0,\"ticks\":\"\"}},\"type\":\"scatterpolargl\"}],\"scatterternary\":[{\"marker\":{\"colorbar\":{\"outlinewidth\":0,\"ticks\":\"\"}},\"type\":\"scatterternary\"}],\"surface\":[{\"colorbar\":{\"outlinewidth\":0,\"ticks\":\"\"},\"colorscale\":[[0.0,\"#0d0887\"],[0.1111111111111111,\"#46039f\"],[0.2222222222222222,\"#7201a8\"],[0.3333333333333333,\"#9c179e\"],[0.4444444444444444,\"#bd3786\"],[0.5555555555555556,\"#d8576b\"],[0.6666666666666666,\"#ed7953\"],[0.7777777777777778,\"#fb9f3a\"],[0.8888888888888888,\"#fdca26\"],[1.0,\"#f0f921\"]],\"type\":\"surface\"}],\"table\":[{\"cells\":{\"fill\":{\"color\":\"#EBF0F8\"},\"line\":{\"color\":\"white\"}},\"header\":{\"fill\":{\"color\":\"#C8D4E3\"},\"line\":{\"color\":\"white\"}},\"type\":\"table\"}]},\"layout\":{\"annotationdefaults\":{\"arrowcolor\":\"#2a3f5f\",\"arrowhead\":0,\"arrowwidth\":1},\"autotypenumbers\":\"strict\",\"coloraxis\":{\"colorbar\":{\"outlinewidth\":0,\"ticks\":\"\"}},\"colorscale\":{\"diverging\":[[0,\"#8e0152\"],[0.1,\"#c51b7d\"],[0.2,\"#de77ae\"],[0.3,\"#f1b6da\"],[0.4,\"#fde0ef\"],[0.5,\"#f7f7f7\"],[0.6,\"#e6f5d0\"],[0.7,\"#b8e186\"],[0.8,\"#7fbc41\"],[0.9,\"#4d9221\"],[1,\"#276419\"]],\"sequential\":[[0.0,\"#0d0887\"],[0.1111111111111111,\"#46039f\"],[0.2222222222222222,\"#7201a8\"],[0.3333333333333333,\"#9c179e\"],[0.4444444444444444,\"#bd3786\"],[0.5555555555555556,\"#d8576b\"],[0.6666666666666666,\"#ed7953\"],[0.7777777777777778,\"#fb9f3a\"],[0.8888888888888888,\"#fdca26\"],[1.0,\"#f0f921\"]],\"sequentialminus\":[[0.0,\"#0d0887\"],[0.1111111111111111,\"#46039f\"],[0.2222222222222222,\"#7201a8\"],[0.3333333333333333,\"#9c179e\"],[0.4444444444444444,\"#bd3786\"],[0.5555555555555556,\"#d8576b\"],[0.6666666666666666,\"#ed7953\"],[0.7777777777777778,\"#fb9f3a\"],[0.8888888888888888,\"#fdca26\"],[1.0,\"#f0f921\"]]},\"colorway\":[\"#636efa\",\"#EF553B\",\"#00cc96\",\"#ab63fa\",\"#FFA15A\",\"#19d3f3\",\"#FF6692\",\"#B6E880\",\"#FF97FF\",\"#FECB52\"],\"font\":{\"color\":\"#2a3f5f\"},\"geo\":{\"bgcolor\":\"white\",\"lakecolor\":\"white\",\"landcolor\":\"#E5ECF6\",\"showlakes\":true,\"showland\":true,\"subunitcolor\":\"white\"},\"hoverlabel\":{\"align\":\"left\"},\"hovermode\":\"closest\",\"mapbox\":{\"style\":\"light\"},\"paper_bgcolor\":\"white\",\"plot_bgcolor\":\"#E5ECF6\",\"polar\":{\"angularaxis\":{\"gridcolor\":\"white\",\"linecolor\":\"white\",\"ticks\":\"\"},\"bgcolor\":\"#E5ECF6\",\"radialaxis\":{\"gridcolor\":\"white\",\"linecolor\":\"white\",\"ticks\":\"\"}},\"scene\":{\"xaxis\":{\"backgroundcolor\":\"#E5ECF6\",\"gridcolor\":\"white\",\"gridwidth\":2,\"linecolor\":\"white\",\"showbackground\":true,\"ticks\":\"\",\"zerolinecolor\":\"white\"},\"yaxis\":{\"backgroundcolor\":\"#E5ECF6\",\"gridcolor\":\"white\",\"gridwidth\":2,\"linecolor\":\"white\",\"showbackground\":true,\"ticks\":\"\",\"zerolinecolor\":\"white\"},\"zaxis\":{\"backgroundcolor\":\"#E5ECF6\",\"gridcolor\":\"white\",\"gridwidth\":2,\"linecolor\":\"white\",\"showbackground\":true,\"ticks\":\"\",\"zerolinecolor\":\"white\"}},\"shapedefaults\":{\"line\":{\"color\":\"#2a3f5f\"}},\"ternary\":{\"aaxis\":{\"gridcolor\":\"white\",\"linecolor\":\"white\",\"ticks\":\"\"},\"baxis\":{\"gridcolor\":\"white\",\"linecolor\":\"white\",\"ticks\":\"\"},\"bgcolor\":\"#E5ECF6\",\"caxis\":{\"gridcolor\":\"white\",\"linecolor\":\"white\",\"ticks\":\"\"}},\"title\":{\"x\":0.05},\"xaxis\":{\"automargin\":true,\"gridcolor\":\"white\",\"linecolor\":\"white\",\"ticks\":\"\",\"title\":{\"standoff\":15},\"zerolinecolor\":\"white\",\"zerolinewidth\":2},\"yaxis\":{\"automargin\":true,\"gridcolor\":\"white\",\"linecolor\":\"white\",\"ticks\":\"\",\"title\":{\"standoff\":15},\"zerolinecolor\":\"white\",\"zerolinewidth\":2}}},\"title\":{\"text\":\"NPK ratio for fruits\"}},                        {\"responsive\": true}                    ).then(function(){\n",
       "                            \n",
       "var gd = document.getElementById('5dcd459c-0138-4746-ab91-2bbc6f035fd0');\n",
       "var x = new MutationObserver(function (mutations, observer) {{\n",
       "        var display = window.getComputedStyle(gd).display;\n",
       "        if (!display || display === 'none') {{\n",
       "            console.log([gd, 'removed!']);\n",
       "            Plotly.purge(gd);\n",
       "            observer.disconnect();\n",
       "        }}\n",
       "}});\n",
       "\n",
       "// Listen for the removal of the full notebook cells\n",
       "var notebookContainer = gd.closest('#notebook-container');\n",
       "if (notebookContainer) {{\n",
       "    x.observe(notebookContainer, {childList: true});\n",
       "}}\n",
       "\n",
       "// Listen for the clearing of the current output cell\n",
       "var outputEl = gd.closest('.output');\n",
       "if (outputEl) {{\n",
       "    x.observe(outputEl, {childList: true});\n",
       "}}\n",
       "\n",
       "                        })                };                });            </script>        </div>"
      ]
     },
     "metadata": {},
     "output_type": "display_data"
    }
   ],
   "source": [
    "labels = ['Nitrogen(N)','Phosphorous(P)','Potash(K)']\n",
    "specs = [[{'type':'domain'}, {'type':'domain'}, {'type':'domain'}, {'type':'domain'}, {'type':'domain'}],[\n",
    "         {'type':'domain'}, {'type':'domain'}, {'type':'domain'}, {'type':'domain'}, {'type':'domain'}]]\n",
    "fig = make_subplots(rows=2, cols=5, specs=specs)\n",
    "cafe_colors =  ['rgb(255, 128, 0)', 'rgb(0, 153, 204)', 'rgb(173, 173, 133)']\n",
    "\n",
    "apple_npk = crop_summary[crop_summary.index=='apple']\n",
    "values = [apple_npk['N'][0], apple_npk['P'][0], apple_npk['K'][0]]\n",
    "fig.add_trace(go.Pie(labels=labels, values=values,name=\"Apple\", marker_colors=cafe_colors),1, 1)\n",
    "\n",
    "banana_npk = crop_summary[crop_summary.index=='banana']\n",
    "values = [banana_npk['N'][0], banana_npk['P'][0], banana_npk['K'][0]]\n",
    "fig.add_trace(go.Pie(labels=labels, values=values,name=\"Banana\", marker_colors=cafe_colors),1, 2)\n",
    "\n",
    "grapes_npk = crop_summary[crop_summary.index=='grapes']\n",
    "values = [grapes_npk['N'][0], grapes_npk['P'][0], grapes_npk['K'][0]]\n",
    "fig.add_trace(go.Pie(labels=labels, values=values,name=\"Grapes\", marker_colors=cafe_colors),1, 3)\n",
    "\n",
    "orange_npk = crop_summary[crop_summary.index=='orange']\n",
    "values = [orange_npk['N'][0], orange_npk['P'][0], orange_npk['K'][0]]\n",
    "fig.add_trace(go.Pie(labels=labels, values=values,name=\"Orange\", marker_colors=cafe_colors),1, 4)\n",
    "\n",
    "mango_npk = crop_summary[crop_summary.index=='mango']\n",
    "values = [mango_npk['N'][0], mango_npk['P'][0], mango_npk['K'][0]]\n",
    "fig.add_trace(go.Pie(labels=labels, values=values,name=\"Mango\", marker_colors=cafe_colors),1, 5)\n",
    "\n",
    "coconut_npk = crop_summary[crop_summary.index=='coconut']\n",
    "values = [coconut_npk['N'][0], coconut_npk['P'][0], coconut_npk['K'][0]]\n",
    "fig.add_trace(go.Pie(labels=labels, values=values,name=\"Coconut\", marker_colors=cafe_colors),2, 1)\n",
    "\n",
    "papaya_npk = crop_summary[crop_summary.index=='papaya']\n",
    "values = [papaya_npk['N'][0], papaya_npk['P'][0], papaya_npk['K'][0]]\n",
    "fig.add_trace(go.Pie(labels=labels, values=values,name=\"Papaya\", marker_colors=cafe_colors),2, 2)\n",
    "\n",
    "pomegranate_npk = crop_summary[crop_summary.index=='pomegranate']\n",
    "values = [pomegranate_npk['N'][0], pomegranate_npk['P'][0], pomegranate_npk['K'][0]]\n",
    "fig.add_trace(go.Pie(labels=labels, values=values,name=\"Pomegranate\", marker_colors=cafe_colors),2, 3)\n",
    "\n",
    "watermelon_npk = crop_summary[crop_summary.index=='watermelon']\n",
    "values = [watermelon_npk['N'][0], watermelon_npk['P'][0], watermelon_npk['K'][0]]\n",
    "fig.add_trace(go.Pie(labels=labels, values=values,name=\"Watermelon\", marker_colors=cafe_colors),2, 4)\n",
    "\n",
    "muskmelon_npk = crop_summary[crop_summary.index=='muskmelon']\n",
    "values = [muskmelon_npk['N'][0], muskmelon_npk['P'][0], muskmelon_npk['K'][0]]\n",
    "fig.add_trace(go.Pie(labels=labels, values=values,name=\"Muskmelon\", marker_colors=cafe_colors),2, 5)\n",
    "\n",
    "fig.update_layout(\n",
    "    title_text=\"NPK ratio for fruits\",\n",
    "    annotations=[dict(text='Apple',x=0.06,y=1.08, font_size=15, showarrow=False),\n",
    "                 dict(text='Banana',x=0.26,y=1.08, font_size=15, showarrow=False),\n",
    "                 dict(text='Grapes',x=0.50,y=1.08, font_size=15, showarrow=False),\n",
    "                 dict(text='Orange',x=0.74,y=1.08, font_size=15, showarrow=False),\n",
    "                dict(text='Mango',x=0.94,y=1.08, font_size=15, showarrow=False),\n",
    "                dict(text='Coconut',x=0.06,y=0.46, font_size=15, showarrow=False),\n",
    "                 dict(text='Papaya',x=0.26,y=0.46, font_size=15, showarrow=False),\n",
    "                 dict(text='Pomegranate',x=0.50,y=0.46, font_size=15, showarrow=False),\n",
    "                 dict(text='Watermelon',x=0.74,y=0.46, font_size=15, showarrow=False),\n",
    "                dict(text='Muskmelon',x=0.94,y=0.46, font_size=15, showarrow=False)])\n",
    "fig.show()"
   ]
  },
  {
   "cell_type": "code",
   "execution_count": 40,
   "id": "77a16258",
   "metadata": {},
   "outputs": [
    {
     "data": {
      "application/vnd.plotly.v1+json": {
       "config": {
        "plotlyServerURL": "https://plot.ly"
       },
       "data": [
        {
         "hovertemplate": "label=rice<br>temperature=%{x}<br>humidity=%{y}<extra></extra>",
         "legendgroup": "rice",
         "marker": {
          "color": "#636efa",
          "symbol": "circle"
         },
         "mode": "markers",
         "name": "rice",
         "orientation": "v",
         "showlegend": true,
         "type": "scatter",
         "x": [
          20.87974371,
          21.77046169,
          23.00445915,
          26.49109635,
          20.13017482,
          23.05804872,
          22.70883798,
          20.27774362,
          24.51588066,
          23.22397386,
          26.52723513,
          23.97898217,
          26.80079604,
          24.01497622,
          25.66585205,
          24.28209415,
          21.58711777,
          23.79391957,
          21.8652524,
          23.57943626,
          21.32504158,
          25.15745531,
          21.94766735,
          21.0525355,
          23.48381344,
          25.0756354,
          26.35927159,
          24.52922681,
          20.77576147,
          22.30157427,
          21.44653958,
          22.17931888,
          24.52783742,
          20.26707606,
          25.7354293,
          26.79533926,
          26.75754171,
          23.86330467,
          21.01944696,
          24.17298839,
          22.78133816,
          25.62980105,
          25.59704938,
          23.83067496,
          26.31355498,
          24.8972823,
          24.958779,
          23.24113501,
          21.66628296,
          24.63544858,
          23.43121862,
          20.0454142,
          23.85724032,
          21.97199397,
          26.22916897,
          23.44676801,
          25.65553461,
          24.44345477,
          20.2801937,
          21.7238313,
          20.41447029,
          25.75528612,
          20.61521424,
          21.84106875,
          20.08369642,
          24.45802087,
          21.14347496,
          25.78720567,
          23.64124821,
          23.43191632,
          24.97669518,
          22.72791041,
          24.87300744,
          21.32376327,
          26.29465461,
          22.2286982,
          26.73072391,
          24.88921174,
          26.88444878,
          22.67846116,
          26.08867875,
          25.42977518,
          26.40323239,
          26.04371967,
          25.2827223,
          22.08576562,
          23.28617173,
          25.48591986,
          23.67575393,
          20.82477109,
          26.92995077,
          23.83509503,
          26.52872817,
          26.46428311,
          22.69657794,
          22.68319059,
          21.53346343,
          21.40865769,
          26.54348085,
          23.35905428
         ],
         "xaxis": "x",
         "y": [
          82.00274423,
          80.31964408,
          82.3207629,
          80.15836264,
          81.60487287,
          83.37011772,
          82.63941394,
          82.89408619,
          83.53521629999999,
          83.03322691,
          81.41753846,
          81.45061596,
          80.88684822,
          82.05687182,
          80.66385045,
          80.30025587,
          82.7883708,
          80.41817957,
          80.1923008,
          83.58760316,
          80.47476396,
          83.11713476,
          80.97384195,
          82.67839517,
          81.33265073,
          80.52389148,
          84.04403589,
          80.54498576,
          84.49774397,
          80.64416466,
          84.94375962,
          80.33127223,
          82.73685569,
          81.63895217,
          83.88266234,
          82.1480873,
          81.17734011,
          83.15250801,
          82.95221726,
          83.7287574,
          82.06719137,
          83.52842314,
          80.14509262,
          84.81360127,
          82.36698992,
          80.52586088,
          84.47963372,
          84.59201843,
          80.70960551,
          80.41363018,
          83.06310136,
          80.3477562,
          82.22572988,
          81.89918197,
          83.83625819,
          84.79352417,
          83.47021081,
          82.45432595,
          82.1235421,
          80.2389895,
          82.20802629,
          83.51827127,
          83.77345559,
          80.72886384,
          83.29114712,
          82.74835604,
          80.33502926,
          82.11124033,
          80.28597873,
          80.56887849,
          83.891805,
          82.17068809999998,
          82.84022551,
          83.00320459,
          84.56919326,
          81.85872947,
          81.78596776,
          81.97927117,
          81.46033732,
          83.72874389,
          80.37979919,
          82.94682591,
          81.05635517,
          84.96907151,
          80.54372813,
          83.47038318,
          81.43321641,
          81.40633547,
          81.03569343,
          84.1341879,
          81.91411159,
          83.88387074,
          80.12267476,
          83.85642678,
          82.81088865,
          83.46358271,
          82.14004101,
          83.32931909999998,
          84.67353597,
          83.59512273
         ],
         "yaxis": "y"
        },
        {
         "hovertemplate": "label=maize<br>temperature=%{x}<br>humidity=%{y}<extra></extra>",
         "legendgroup": "maize",
         "marker": {
          "color": "#EF553B",
          "symbol": "diamond"
         },
         "mode": "markers",
         "name": "maize",
         "orientation": "v",
         "showlegend": true,
         "type": "scatter",
         "x": [
          22.61359953,
          26.10018422,
          23.55882094,
          19.97215954,
          18.47891261,
          21.77689322,
          25.6217169,
          25.19192419,
          20.41683147,
          24.92162194,
          23.31689124,
          24.84016732,
          22.27526694,
          18.87751445,
          25.19008683,
          18.25405352,
          24.612911800000006,
          25.1420613,
          23.09348056,
          18.05033737,
          24.9321581,
          18.14710054,
          18.28362235,
          18.83344471,
          25.71895816,
          25.33797709,
          23.89114571,
          21.53574127,
          23.08974909,
          25.61707368,
          21.44526922,
          18.51816776,
          22.53510514,
          23.02038334,
          24.89364635,
          25.77175115,
          19.39851734,
          21.54156232,
          23.79746068,
          18.9802729,
          24.10859207,
          24.7947077,
          21.63162756,
          25.37548751,
          22.21738222,
          20.58314011,
          24.87502824,
          20.03728219,
          25.95263264,
          19.28889933,
          20.57981887,
          24.71417533,
          20.27317074,
          18.41932981,
          23.39128187,
          19.84939404,
          21.869274,
          22.8056033,
          19.0781471,
          22.02720976,
          23.80546189,
          18.52510753,
          23.50297882,
          26.54986394,
          19.29563411,
          20.68899915,
          19.32666088,
          24.60532218,
          22.27373646,
          25.70196694,
          19.20129357,
          21.70181447,
          20.51716779,
          23.30355338,
          24.2547451,
          24.86374934,
          22.6265115,
          18.04185513,
          23.26237612,
          22.88330922,
          25.97482359,
          26.14384005,
          18.66116213,
          25.10787449,
          23.33844615,
          25.08239719,
          25.36768364,
          25.34217103,
          25.00933355,
          18.66746724,
          20.37999665,
          18.09300227,
          26.16985907,
          18.65396672,
          26.07470121,
          18.92851916,
          23.30546753,
          18.74826712,
          19.74213321,
          25.73044432
         ],
         "xaxis": "x",
         "y": [
          63.69070564,
          71.57476937,
          71.59351368,
          57.68272924,
          62.69503871,
          57.80840636,
          66.50415474,
          66.69029010000001,
          62.55424820000001,
          66.78627406,
          73.4541537,
          68.3584573,
          58.84015925,
          65.76816093,
          60.200168700000006,
          55.28220433,
          70.4162444,
          65.26185135,
          60.11593810000001,
          62.89366992,
          73.80435276,
          71.09445342,
          66.65952796,
          58.75082029,
          67.22190688,
          68.49835977,
          57.48775781,
          71.50905983,
          63.10459626,
          63.4711755,
          63.1621551,
          55.53128131,
          67.99257471,
          61.89472002,
          65.61418761,
          74.089114,
          62.35750641,
          59.64024162,
          74.82913698,
          74.52600826,
          73.13112261,
          70.04556743,
          60.27766379,
          57.21025565,
          72.85462807,
          69.00128641,
          68.74248334,
          56.35606753,
          61.89082199,
          65.47050802,
          65.34583901,
          56.73426469,
          63.91281869,
          64.23580251,
          61.74427165,
          61.24500053,
          61.91044947,
          56.50768935,
          69.02298571,
          65.35549924,
          59.24537979,
          69.0276233,
          61.32026065,
          72.89187265,
          69.63481219,
          59.4375337,
          68.03449300000001,
          73.58868502,
          59.52193158,
          61.33450447,
          68.30578978,
          60.47470519,
          59.21235483,
          73.62548442,
          55.64709899,
          65.7420046,
          65.77472881,
          60.61494304,
          72.33125523,
          71.59722446,
          69.36385721,
          66.20569924,
          61.55327249,
          55.97732754,
          59.24580604,
          65.92195844,
          72.52054555,
          63.31801994,
          67.816568,
          71.516474,
          63.73849998,
          72.61024172,
          71.96246617,
          61.37879671,
          59.37147589,
          72.80086137,
          63.24648023,
          62.49878458,
          59.66263104,
          70.74739256
         ],
         "yaxis": "y"
        },
        {
         "hovertemplate": "label=lentil<br>temperature=%{x}<br>humidity=%{y}<extra></extra>",
         "legendgroup": "lentil",
         "marker": {
          "color": "#00cc96",
          "symbol": "square"
         },
         "mode": "markers",
         "name": "lentil",
         "orientation": "v",
         "showlegend": true,
         "type": "scatter",
         "x": [
          28.05153602,
          19.44084326,
          29.84823072,
          21.36383757,
          26.28663931,
          22.17499963,
          26.57597546,
          26.58972517,
          19.1345771,
          28.75273118,
          25.78746268,
          23.89271875,
          28.67408774,
          28.42062847,
          21.35499456,
          21.12695586,
          24.02037872,
          25.40474421,
          29.03017561,
          20.21368219,
          29.19585548,
          18.29783597,
          27.41434987,
          24.84063998,
          29.94413861,
          25.87990287,
          20.0467711,
          22.99451999,
          25.13163619,
          28.49584395,
          18.28766124,
          24.38041875,
          21.31852148,
          18.54141834,
          25.28710601,
          25.43459777,
          28.83600962,
          27.37659643,
          28.31886863,
          27.4818649,
          18.28072173,
          27.61204997,
          23.43974653,
          20.95628486,
          23.7937153,
          22.6371424,
          21.53577883,
          29.87854588,
          25.2653291,
          25.17885316,
          24.12192608,
          23.33565221,
          21.74600081,
          27.60195453,
          24.388717,
          24.98287462,
          28.234829,
          26.03026959,
          28.04849594,
          24.87425505,
          23.97081395,
          20.06003985,
          19.59221047,
          29.77013109,
          27.52135365,
          25.62896213,
          20.39078312,
          25.39038396,
          24.91079638,
          27.70496805,
          18.06486101,
          18.13027797,
          23.82723528,
          23.19305333,
          25.08966129,
          25.86928193,
          18.43966037,
          27.14911056,
          23.33375853,
          26.7230014,
          19.55750776,
          26.13708256,
          27.99990346,
          29.05941162,
          25.71269843,
          21.79792649,
          24.70626432,
          20.94981756,
          24.84918386,
          21.91041045,
          25.93381964,
          29.82112112,
          27.52185591,
          27.99627907,
          20.76774783,
          23.05276444,
          21.65845777,
          26.25070298,
          20.97195263,
          23.89736406
         ],
         "xaxis": "x",
         "y": [
          63.49802189,
          63.27771461,
          60.63872613,
          69.92375891,
          68.51966729,
          62.13873825,
          60.97876599,
          66.14007674,
          62.57526895,
          69.15640149,
          60.2816298,
          61.78779413,
          63.18832976,
          61.77336343,
          62.60136323,
          63.18738532,
          61.62313345,
          65.8567539,
          64.49166566,
          68.65257685,
          68.01965728,
          69.6897615,
          63.41785982,
          60.09116626,
          67.31323084,
          67.55109024,
          65.84395319,
          66.70897237,
          66.92642362,
          62.44616219,
          69.48515056,
          61.18458224,
          66.43934593,
          62.70637578,
          60.85993533,
          69.12613376,
          69.76112921,
          63.93927841,
          60.19461399,
          62.04814951,
          68.10365387,
          69.29786244,
          63.22011726,
          63.68128841,
          68.03209183,
          65.44544859,
          65.47227704,
          65.73085206,
          67.10004577,
          68.93307305,
          61.09533545,
          67.40460704,
          63.39503184,
          63.46170674,
          62.50453062,
          66.895409,
          69.3159965,
          69.55863145,
          64.07691942,
          64.00213929,
          62.35557553,
          67.76252583,
          61.28633405,
          66.29327012,
          60.53657684,
          63.14909763,
          60.47528931,
          60.4989659,
          60.71367427,
          63.20915034,
          65.1034354,
          62.45851612,
          67.89815262,
          62.74710773,
          68.17543102,
          61.88321072,
          68.05394959,
          67.02664337,
          64.50515776,
          62.96841833,
          64.45268309,
          66.7729209,
          65.57653373,
          62.10652364,
          64.1123333,
          63.73086065,
          60.26854183,
          65.8108757,
          68.98088448,
          65.21662467,
          68.70533022,
          69.4073209,
          63.13215259,
          68.6428593,
          63.90164154,
          60.424786,
          63.58337146,
          67.62779652,
          63.83179889,
          66.32102048
         ],
         "yaxis": "y"
        },
        {
         "hovertemplate": "label=cotton<br>temperature=%{x}<br>humidity=%{y}<extra></extra>",
         "legendgroup": "cotton",
         "marker": {
          "color": "#ab63fa",
          "symbol": "x"
         },
         "mode": "markers",
         "name": "cotton",
         "orientation": "v",
         "showlegend": true,
         "type": "scatter",
         "x": [
          24.40228894,
          23.09595631,
          23.9656349,
          24.88738107,
          25.36243778,
          24.69457084,
          25.0017188,
          22.45942937,
          23.60564038,
          24.58453146,
          23.0865933,
          23.5000992,
          24.1472953,
          24.69315538,
          24.48469200000001,
          24.49112609,
          23.47986888,
          24.18586246,
          25.00755095,
          25.99237426,
          23.66457347,
          25.66891439,
          22.04612876,
          22.4204752,
          25.03149561,
          23.53371386,
          22.77076388,
          25.49848236,
          25.248679,
          22.78249615,
          23.37044424,
          24.86560781,
          24.14386157,
          25.03300222,
          23.65724079,
          25.54359718,
          22.00085141,
          23.64328417,
          23.96436009,
          24.65425757,
          24.3017998,
          24.29144926,
          24.29470232,
          25.72180042,
          24.87663664,
          22.60612115,
          23.86814008,
          23.41022496,
          24.96440768,
          25.16820129,
          22.72767171,
          22.45145981,
          23.04920461,
          25.29250148,
          22.95604064,
          22.80213132,
          23.54234715,
          24.41212325,
          22.94276687,
          25.53676123,
          25.32023717,
          22.426733,
          25.78544484,
          25.68959532,
          22.14593688,
          25.07278712,
          22.21506982,
          23.9643129,
          25.40059227,
          23.7805123,
          24.16402322,
          25.31468463,
          22.60361557,
          22.9535715,
          22.74446976,
          23.80834611,
          25.46228792,
          25.96779712,
          25.5308271,
          24.43847399,
          23.03887865,
          23.51308653,
          22.75805656,
          24.71252544,
          23.45969093,
          25.5503704,
          22.08458267,
          24.68854799,
          25.84997269,
          22.46054478,
          23.65629976,
          22.00817088,
          24.32630461,
          22.92360984,
          23.43821725,
          22.10718988,
          23.03814028,
          24.54795322,
          23.73868041,
          22.31871914
         ],
         "xaxis": "x",
         "y": [
          79.19732001,
          84.86275707,
          76.97696717,
          75.62137159,
          83.63276077,
          81.7358876,
          80.53965818,
          81.30681027,
          79.29573149,
          79.12404171,
          83.55546146,
          83.63488952,
          75.88298598,
          84.84422454,
          84.44932014,
          82.24415809,
          81.73049149,
          76.04203958,
          78.17952126,
          77.0543546,
          81.69105088,
          81.38103349,
          84.62978302,
          84.55794703,
          82.21276599,
          77.21705554,
          82.5993307,
          79.9751579,
          83.4630147,
          77.51235009,
          77.43198948,
          78.22080815,
          84.51591287,
          79.04368718,
          84.47601498,
          84.09229796,
          79.47270984,
          78.1258666,
          78.02763149,
          75.6350708,
          84.87668973,
          81.02453404,
          84.61527627,
          81.19666206,
          76.30050373,
          77.34264002,
          75.68339729,
          76.43836957,
          81.31677618,
          80.30351815,
          77.07598065,
          76.25674874,
          75.53835214,
          75.66653335,
          82.33733678,
          84.14668447,
          75.98203329,
          80.80343786,
          75.37170612,
          81.13668716,
          81.79475917,
          81.53480799,
          75.00539324,
          77.90621048,
          82.85975490000001,
          82.50257909,
          76.17851932,
          76.59175937,
          76.53237965,
          83.03878838,
          76.7433897,
          77.91757121,
          80.35090459999998,
          78.71555832,
          80.41198458,
          83.91902605,
          81.56641891,
          81.97904282,
          80.04662756,
          81.69801729,
          76.47039772,
          76.72621429,
          76.75768356,
          77.7293114,
          82.44777468,
          77.85055621,
          82.82904143,
          78.51206972,
          84.16855231,
          75.40989245,
          77.52425987,
          81.83896111,
          80.13456404,
          82.68738535,
          78.63388824,
          78.58320116,
          76.11021529,
          75.39752705,
          75.77503808,
          83.86129998
         ],
         "yaxis": "y"
        },
        {
         "hovertemplate": "label=jute<br>temperature=%{x}<br>humidity=%{y}<extra></extra>",
         "legendgroup": "jute",
         "marker": {
          "color": "#FFA15A",
          "symbol": "cross"
         },
         "mode": "markers",
         "name": "jute",
         "orientation": "v",
         "showlegend": true,
         "type": "scatter",
         "x": [
          25.52468965,
          26.59104992,
          25.29781791,
          25.72100868,
          23.58419277,
          25.31042337,
          23.41798979,
          24.35564134,
          26.284017,
          25.13842773,
          24.88692811,
          25.75734909,
          23.12844351,
          24.9949957,
          25.21622704,
          24.39736241,
          23.31410442,
          25.72668885,
          26.96656378,
          23.70467146,
          24.90075709,
          23.39605743,
          26.8748389,
          23.1426498,
          24.29496635,
          24.39459498,
          25.7629429,
          25.4879684,
          25.37122686,
          26.21312799,
          24.30748599,
          23.76554749,
          24.79853023,
          23.20683504,
          23.66805429,
          25.12417673,
          23.89069041,
          23.09433785,
          24.21744605,
          24.06475727,
          24.85441411,
          26.41915161,
          24.89326318,
          23.25583402,
          24.7634518,
          24.97042599,
          26.12797248,
          25.97825807,
          26.2830571,
          26.38905406,
          25.2746335,
          23.09499564,
          25.79351957,
          23.17403323,
          25.63215038,
          25.84879500000001,
          26.56767277,
          26.24532085,
          26.91515043,
          24.36972377,
          25.71901283,
          25.01157559,
          25.40785911,
          23.28081,
          23.98651719,
          24.48556447,
          25.86705009,
          23.5643831,
          24.2248758,
          25.49386782,
          24.97178693,
          24.80624984,
          23.16814977,
          24.25133493,
          26.58361011,
          26.82489244,
          25.49674786,
          24.09874353,
          23.18866654,
          26.24347471,
          23.75091572,
          26.13871511,
          26.14576648,
          26.91643698,
          26.5232969,
          23.81579631,
          26.50838667,
          26.63952463,
          23.325013100000003,
          26.47549543,
          23.78756036,
          25.49941707,
          23.24925555,
          26.98582182,
          23.61475336,
          23.87484465,
          23.92887902,
          24.81441246,
          24.44743944,
          26.57421679
         ],
         "xaxis": "x",
         "y": [
          72.24850829,
          82.94164078,
          86.88705350000002,
          88.16513579,
          72.00460848,
          72.01364411,
          85.08640476,
          88.80391021,
          75.14640198,
          83.12053888,
          71.91711523,
          88.36668522,
          74.68322732,
          88.95692783,
          70.88259632,
          79.26861738,
          71.4509053,
          81.86171563,
          78.21047693,
          74.63745355,
          73.84186449,
          72.60512854,
          79.78725152,
          74.99739774,
          77.62976013,
          89.89106506,
          80.76238215,
          84.48235878,
          76.2403666,
          81.70476368,
          78.54340987,
          87.98329901,
          78.53037059,
          74.09956958,
          70.89000744,
          85.72530641,
          83.46409075,
          81.45139295,
          82.85284045,
          71.31342851,
          74.44070479999998,
          76.85691248,
          77.01222585,
          82.7015932,
          87.06071115,
          78.62697699,
          80.49172597,
          81.65769588,
          73.35763537,
          83.31240346,
          73.7459581,
          78.45959697,
          81.76904006,
          87.88255345,
          79.95150917,
          87.81661683,
          80.90424543,
          72.97198375,
          73.19897535,
          82.11319791,
          79.15532398,
          88.33130229999998,
          76.44048625,
          74.27607475,
          82.09053379,
          83.20630007,
          84.09985284,
          79.46283115,
          74.89465426,
          86.97061481,
          79.47557931,
          82.09281674,
          76.66724969,
          89.86454053,
          78.00774772,
          78.20392774,
          81.13449097,
          80.57226761,
          86.20899734,
          78.51063754,
          71.14782585,
          79.1188943,
          71.23690851,
          73.48655995,
          77.17331847,
          80.94023552,
          86.84264005,
          70.95705996,
          79.79609448,
          73.96164569,
          74.36794079,
          75.99987588,
          73.65346838,
          89.05587886,
          86.14290267,
          86.79261344,
          88.07112278,
          81.68688879,
          82.286484,
          73.81994896
         ],
         "yaxis": "y"
        }
       ],
       "layout": {
        "legend": {
         "title": {
          "text": "label"
         },
         "tracegroupgap": 0
        },
        "margin": {
         "t": 60
        },
        "plot_bgcolor": "white",
        "template": {
         "data": {
          "bar": [
           {
            "error_x": {
             "color": "#2a3f5f"
            },
            "error_y": {
             "color": "#2a3f5f"
            },
            "marker": {
             "line": {
              "color": "#E5ECF6",
              "width": 0.5
             },
             "pattern": {
              "fillmode": "overlay",
              "size": 10,
              "solidity": 0.2
             }
            },
            "type": "bar"
           }
          ],
          "barpolar": [
           {
            "marker": {
             "line": {
              "color": "#E5ECF6",
              "width": 0.5
             },
             "pattern": {
              "fillmode": "overlay",
              "size": 10,
              "solidity": 0.2
             }
            },
            "type": "barpolar"
           }
          ],
          "carpet": [
           {
            "aaxis": {
             "endlinecolor": "#2a3f5f",
             "gridcolor": "white",
             "linecolor": "white",
             "minorgridcolor": "white",
             "startlinecolor": "#2a3f5f"
            },
            "baxis": {
             "endlinecolor": "#2a3f5f",
             "gridcolor": "white",
             "linecolor": "white",
             "minorgridcolor": "white",
             "startlinecolor": "#2a3f5f"
            },
            "type": "carpet"
           }
          ],
          "choropleth": [
           {
            "colorbar": {
             "outlinewidth": 0,
             "ticks": ""
            },
            "type": "choropleth"
           }
          ],
          "contour": [
           {
            "colorbar": {
             "outlinewidth": 0,
             "ticks": ""
            },
            "colorscale": [
             [
              0,
              "#0d0887"
             ],
             [
              0.1111111111111111,
              "#46039f"
             ],
             [
              0.2222222222222222,
              "#7201a8"
             ],
             [
              0.3333333333333333,
              "#9c179e"
             ],
             [
              0.4444444444444444,
              "#bd3786"
             ],
             [
              0.5555555555555556,
              "#d8576b"
             ],
             [
              0.6666666666666666,
              "#ed7953"
             ],
             [
              0.7777777777777778,
              "#fb9f3a"
             ],
             [
              0.8888888888888888,
              "#fdca26"
             ],
             [
              1,
              "#f0f921"
             ]
            ],
            "type": "contour"
           }
          ],
          "contourcarpet": [
           {
            "colorbar": {
             "outlinewidth": 0,
             "ticks": ""
            },
            "type": "contourcarpet"
           }
          ],
          "heatmap": [
           {
            "colorbar": {
             "outlinewidth": 0,
             "ticks": ""
            },
            "colorscale": [
             [
              0,
              "#0d0887"
             ],
             [
              0.1111111111111111,
              "#46039f"
             ],
             [
              0.2222222222222222,
              "#7201a8"
             ],
             [
              0.3333333333333333,
              "#9c179e"
             ],
             [
              0.4444444444444444,
              "#bd3786"
             ],
             [
              0.5555555555555556,
              "#d8576b"
             ],
             [
              0.6666666666666666,
              "#ed7953"
             ],
             [
              0.7777777777777778,
              "#fb9f3a"
             ],
             [
              0.8888888888888888,
              "#fdca26"
             ],
             [
              1,
              "#f0f921"
             ]
            ],
            "type": "heatmap"
           }
          ],
          "heatmapgl": [
           {
            "colorbar": {
             "outlinewidth": 0,
             "ticks": ""
            },
            "colorscale": [
             [
              0,
              "#0d0887"
             ],
             [
              0.1111111111111111,
              "#46039f"
             ],
             [
              0.2222222222222222,
              "#7201a8"
             ],
             [
              0.3333333333333333,
              "#9c179e"
             ],
             [
              0.4444444444444444,
              "#bd3786"
             ],
             [
              0.5555555555555556,
              "#d8576b"
             ],
             [
              0.6666666666666666,
              "#ed7953"
             ],
             [
              0.7777777777777778,
              "#fb9f3a"
             ],
             [
              0.8888888888888888,
              "#fdca26"
             ],
             [
              1,
              "#f0f921"
             ]
            ],
            "type": "heatmapgl"
           }
          ],
          "histogram": [
           {
            "marker": {
             "pattern": {
              "fillmode": "overlay",
              "size": 10,
              "solidity": 0.2
             }
            },
            "type": "histogram"
           }
          ],
          "histogram2d": [
           {
            "colorbar": {
             "outlinewidth": 0,
             "ticks": ""
            },
            "colorscale": [
             [
              0,
              "#0d0887"
             ],
             [
              0.1111111111111111,
              "#46039f"
             ],
             [
              0.2222222222222222,
              "#7201a8"
             ],
             [
              0.3333333333333333,
              "#9c179e"
             ],
             [
              0.4444444444444444,
              "#bd3786"
             ],
             [
              0.5555555555555556,
              "#d8576b"
             ],
             [
              0.6666666666666666,
              "#ed7953"
             ],
             [
              0.7777777777777778,
              "#fb9f3a"
             ],
             [
              0.8888888888888888,
              "#fdca26"
             ],
             [
              1,
              "#f0f921"
             ]
            ],
            "type": "histogram2d"
           }
          ],
          "histogram2dcontour": [
           {
            "colorbar": {
             "outlinewidth": 0,
             "ticks": ""
            },
            "colorscale": [
             [
              0,
              "#0d0887"
             ],
             [
              0.1111111111111111,
              "#46039f"
             ],
             [
              0.2222222222222222,
              "#7201a8"
             ],
             [
              0.3333333333333333,
              "#9c179e"
             ],
             [
              0.4444444444444444,
              "#bd3786"
             ],
             [
              0.5555555555555556,
              "#d8576b"
             ],
             [
              0.6666666666666666,
              "#ed7953"
             ],
             [
              0.7777777777777778,
              "#fb9f3a"
             ],
             [
              0.8888888888888888,
              "#fdca26"
             ],
             [
              1,
              "#f0f921"
             ]
            ],
            "type": "histogram2dcontour"
           }
          ],
          "mesh3d": [
           {
            "colorbar": {
             "outlinewidth": 0,
             "ticks": ""
            },
            "type": "mesh3d"
           }
          ],
          "parcoords": [
           {
            "line": {
             "colorbar": {
              "outlinewidth": 0,
              "ticks": ""
             }
            },
            "type": "parcoords"
           }
          ],
          "pie": [
           {
            "automargin": true,
            "type": "pie"
           }
          ],
          "scatter": [
           {
            "marker": {
             "colorbar": {
              "outlinewidth": 0,
              "ticks": ""
             }
            },
            "type": "scatter"
           }
          ],
          "scatter3d": [
           {
            "line": {
             "colorbar": {
              "outlinewidth": 0,
              "ticks": ""
             }
            },
            "marker": {
             "colorbar": {
              "outlinewidth": 0,
              "ticks": ""
             }
            },
            "type": "scatter3d"
           }
          ],
          "scattercarpet": [
           {
            "marker": {
             "colorbar": {
              "outlinewidth": 0,
              "ticks": ""
             }
            },
            "type": "scattercarpet"
           }
          ],
          "scattergeo": [
           {
            "marker": {
             "colorbar": {
              "outlinewidth": 0,
              "ticks": ""
             }
            },
            "type": "scattergeo"
           }
          ],
          "scattergl": [
           {
            "marker": {
             "colorbar": {
              "outlinewidth": 0,
              "ticks": ""
             }
            },
            "type": "scattergl"
           }
          ],
          "scattermapbox": [
           {
            "marker": {
             "colorbar": {
              "outlinewidth": 0,
              "ticks": ""
             }
            },
            "type": "scattermapbox"
           }
          ],
          "scatterpolar": [
           {
            "marker": {
             "colorbar": {
              "outlinewidth": 0,
              "ticks": ""
             }
            },
            "type": "scatterpolar"
           }
          ],
          "scatterpolargl": [
           {
            "marker": {
             "colorbar": {
              "outlinewidth": 0,
              "ticks": ""
             }
            },
            "type": "scatterpolargl"
           }
          ],
          "scatterternary": [
           {
            "marker": {
             "colorbar": {
              "outlinewidth": 0,
              "ticks": ""
             }
            },
            "type": "scatterternary"
           }
          ],
          "surface": [
           {
            "colorbar": {
             "outlinewidth": 0,
             "ticks": ""
            },
            "colorscale": [
             [
              0,
              "#0d0887"
             ],
             [
              0.1111111111111111,
              "#46039f"
             ],
             [
              0.2222222222222222,
              "#7201a8"
             ],
             [
              0.3333333333333333,
              "#9c179e"
             ],
             [
              0.4444444444444444,
              "#bd3786"
             ],
             [
              0.5555555555555556,
              "#d8576b"
             ],
             [
              0.6666666666666666,
              "#ed7953"
             ],
             [
              0.7777777777777778,
              "#fb9f3a"
             ],
             [
              0.8888888888888888,
              "#fdca26"
             ],
             [
              1,
              "#f0f921"
             ]
            ],
            "type": "surface"
           }
          ],
          "table": [
           {
            "cells": {
             "fill": {
              "color": "#EBF0F8"
             },
             "line": {
              "color": "white"
             }
            },
            "header": {
             "fill": {
              "color": "#C8D4E3"
             },
             "line": {
              "color": "white"
             }
            },
            "type": "table"
           }
          ]
         },
         "layout": {
          "annotationdefaults": {
           "arrowcolor": "#2a3f5f",
           "arrowhead": 0,
           "arrowwidth": 1
          },
          "autotypenumbers": "strict",
          "coloraxis": {
           "colorbar": {
            "outlinewidth": 0,
            "ticks": ""
           }
          },
          "colorscale": {
           "diverging": [
            [
             0,
             "#8e0152"
            ],
            [
             0.1,
             "#c51b7d"
            ],
            [
             0.2,
             "#de77ae"
            ],
            [
             0.3,
             "#f1b6da"
            ],
            [
             0.4,
             "#fde0ef"
            ],
            [
             0.5,
             "#f7f7f7"
            ],
            [
             0.6,
             "#e6f5d0"
            ],
            [
             0.7,
             "#b8e186"
            ],
            [
             0.8,
             "#7fbc41"
            ],
            [
             0.9,
             "#4d9221"
            ],
            [
             1,
             "#276419"
            ]
           ],
           "sequential": [
            [
             0,
             "#0d0887"
            ],
            [
             0.1111111111111111,
             "#46039f"
            ],
            [
             0.2222222222222222,
             "#7201a8"
            ],
            [
             0.3333333333333333,
             "#9c179e"
            ],
            [
             0.4444444444444444,
             "#bd3786"
            ],
            [
             0.5555555555555556,
             "#d8576b"
            ],
            [
             0.6666666666666666,
             "#ed7953"
            ],
            [
             0.7777777777777778,
             "#fb9f3a"
            ],
            [
             0.8888888888888888,
             "#fdca26"
            ],
            [
             1,
             "#f0f921"
            ]
           ],
           "sequentialminus": [
            [
             0,
             "#0d0887"
            ],
            [
             0.1111111111111111,
             "#46039f"
            ],
            [
             0.2222222222222222,
             "#7201a8"
            ],
            [
             0.3333333333333333,
             "#9c179e"
            ],
            [
             0.4444444444444444,
             "#bd3786"
            ],
            [
             0.5555555555555556,
             "#d8576b"
            ],
            [
             0.6666666666666666,
             "#ed7953"
            ],
            [
             0.7777777777777778,
             "#fb9f3a"
            ],
            [
             0.8888888888888888,
             "#fdca26"
            ],
            [
             1,
             "#f0f921"
            ]
           ]
          },
          "colorway": [
           "#636efa",
           "#EF553B",
           "#00cc96",
           "#ab63fa",
           "#FFA15A",
           "#19d3f3",
           "#FF6692",
           "#B6E880",
           "#FF97FF",
           "#FECB52"
          ],
          "font": {
           "color": "#2a3f5f"
          },
          "geo": {
           "bgcolor": "white",
           "lakecolor": "white",
           "landcolor": "#E5ECF6",
           "showlakes": true,
           "showland": true,
           "subunitcolor": "white"
          },
          "hoverlabel": {
           "align": "left"
          },
          "hovermode": "closest",
          "mapbox": {
           "style": "light"
          },
          "paper_bgcolor": "white",
          "plot_bgcolor": "#E5ECF6",
          "polar": {
           "angularaxis": {
            "gridcolor": "white",
            "linecolor": "white",
            "ticks": ""
           },
           "bgcolor": "#E5ECF6",
           "radialaxis": {
            "gridcolor": "white",
            "linecolor": "white",
            "ticks": ""
           }
          },
          "scene": {
           "xaxis": {
            "backgroundcolor": "#E5ECF6",
            "gridcolor": "white",
            "gridwidth": 2,
            "linecolor": "white",
            "showbackground": true,
            "ticks": "",
            "zerolinecolor": "white"
           },
           "yaxis": {
            "backgroundcolor": "#E5ECF6",
            "gridcolor": "white",
            "gridwidth": 2,
            "linecolor": "white",
            "showbackground": true,
            "ticks": "",
            "zerolinecolor": "white"
           },
           "zaxis": {
            "backgroundcolor": "#E5ECF6",
            "gridcolor": "white",
            "gridwidth": 2,
            "linecolor": "white",
            "showbackground": true,
            "ticks": "",
            "zerolinecolor": "white"
           }
          },
          "shapedefaults": {
           "line": {
            "color": "#2a3f5f"
           }
          },
          "ternary": {
           "aaxis": {
            "gridcolor": "white",
            "linecolor": "white",
            "ticks": ""
           },
           "baxis": {
            "gridcolor": "white",
            "linecolor": "white",
            "ticks": ""
           },
           "bgcolor": "#E5ECF6",
           "caxis": {
            "gridcolor": "white",
            "linecolor": "white",
            "ticks": ""
           }
          },
          "title": {
           "x": 0.05
          },
          "xaxis": {
           "automargin": true,
           "gridcolor": "white",
           "linecolor": "white",
           "ticks": "",
           "title": {
            "standoff": 15
           },
           "zerolinecolor": "white",
           "zerolinewidth": 2
          },
          "yaxis": {
           "automargin": true,
           "gridcolor": "white",
           "linecolor": "white",
           "ticks": "",
           "title": {
            "standoff": 15
           },
           "zerolinecolor": "white",
           "zerolinewidth": 2
          }
         }
        },
        "xaxis": {
         "anchor": "y",
         "domain": [
          0,
          1
         ],
         "showgrid": false,
         "title": {
          "text": "temperature"
         }
        },
        "yaxis": {
         "anchor": "x",
         "domain": [
          0,
          1
         ],
         "showgrid": false,
         "title": {
          "text": "humidity"
         }
        }
       }
      },
      "text/html": [
       "<div>                            <div id=\"3cfbab32-c6fc-493f-af0c-2b47cbae2b37\" class=\"plotly-graph-div\" style=\"height:525px; width:100%;\"></div>            <script type=\"text/javascript\">                require([\"plotly\"], function(Plotly) {                    window.PLOTLYENV=window.PLOTLYENV || {};                                    if (document.getElementById(\"3cfbab32-c6fc-493f-af0c-2b47cbae2b37\")) {                    Plotly.newPlot(                        \"3cfbab32-c6fc-493f-af0c-2b47cbae2b37\",                        [{\"hovertemplate\":\"label=rice<br>temperature=%{x}<br>humidity=%{y}<extra></extra>\",\"legendgroup\":\"rice\",\"marker\":{\"color\":\"#636efa\",\"symbol\":\"circle\"},\"mode\":\"markers\",\"name\":\"rice\",\"orientation\":\"v\",\"showlegend\":true,\"type\":\"scatter\",\"x\":[20.87974371,21.77046169,23.00445915,26.49109635,20.13017482,23.05804872,22.70883798,20.27774362,24.51588066,23.22397386,26.52723513,23.97898217,26.80079604,24.01497622,25.66585205,24.28209415,21.58711777,23.79391957,21.8652524,23.57943626,21.32504158,25.15745531,21.94766735,21.0525355,23.48381344,25.0756354,26.35927159,24.52922681,20.77576147,22.30157427,21.44653958,22.17931888,24.52783742,20.26707606,25.7354293,26.79533926,26.75754171,23.86330467,21.01944696,24.17298839,22.78133816,25.62980105,25.59704938,23.83067496,26.31355498,24.8972823,24.958779,23.24113501,21.66628296,24.63544858,23.43121862,20.0454142,23.85724032,21.97199397,26.22916897,23.44676801,25.65553461,24.44345477,20.2801937,21.7238313,20.41447029,25.75528612,20.61521424,21.84106875,20.08369642,24.45802087,21.14347496,25.78720567,23.64124821,23.43191632,24.97669518,22.72791041,24.87300744,21.32376327,26.29465461,22.2286982,26.73072391,24.88921174,26.88444878,22.67846116,26.08867875,25.42977518,26.40323239,26.04371967,25.2827223,22.08576562,23.28617173,25.48591986,23.67575393,20.82477109,26.92995077,23.83509503,26.52872817,26.46428311,22.69657794,22.68319059,21.53346343,21.40865769,26.54348085,23.35905428],\"xaxis\":\"x\",\"y\":[82.00274423,80.31964408,82.3207629,80.15836264,81.60487287,83.37011772,82.63941394,82.89408619,83.53521629999999,83.03322691,81.41753846,81.45061596,80.88684822,82.05687182,80.66385045,80.30025587,82.7883708,80.41817957,80.1923008,83.58760316,80.47476396,83.11713476,80.97384195,82.67839517,81.33265073,80.52389148,84.04403589,80.54498576,84.49774397,80.64416466,84.94375962,80.33127223,82.73685569,81.63895217,83.88266234,82.1480873,81.17734011,83.15250801,82.95221726,83.7287574,82.06719137,83.52842314,80.14509262,84.81360127,82.36698992,80.52586088,84.47963372,84.59201843,80.70960551,80.41363018,83.06310136,80.3477562,82.22572988,81.89918197,83.83625819,84.79352417,83.47021081,82.45432595,82.1235421,80.2389895,82.20802629,83.51827127,83.77345559,80.72886384,83.29114712,82.74835604,80.33502926,82.11124033,80.28597873,80.56887849,83.891805,82.17068809999998,82.84022551,83.00320459,84.56919326,81.85872947,81.78596776,81.97927117,81.46033732,83.72874389,80.37979919,82.94682591,81.05635517,84.96907151,80.54372813,83.47038318,81.43321641,81.40633547,81.03569343,84.1341879,81.91411159,83.88387074,80.12267476,83.85642678,82.81088865,83.46358271,82.14004101,83.32931909999998,84.67353597,83.59512273],\"yaxis\":\"y\"},{\"hovertemplate\":\"label=maize<br>temperature=%{x}<br>humidity=%{y}<extra></extra>\",\"legendgroup\":\"maize\",\"marker\":{\"color\":\"#EF553B\",\"symbol\":\"diamond\"},\"mode\":\"markers\",\"name\":\"maize\",\"orientation\":\"v\",\"showlegend\":true,\"type\":\"scatter\",\"x\":[22.61359953,26.10018422,23.55882094,19.97215954,18.47891261,21.77689322,25.6217169,25.19192419,20.41683147,24.92162194,23.31689124,24.84016732,22.27526694,18.87751445,25.19008683,18.25405352,24.612911800000006,25.1420613,23.09348056,18.05033737,24.9321581,18.14710054,18.28362235,18.83344471,25.71895816,25.33797709,23.89114571,21.53574127,23.08974909,25.61707368,21.44526922,18.51816776,22.53510514,23.02038334,24.89364635,25.77175115,19.39851734,21.54156232,23.79746068,18.9802729,24.10859207,24.7947077,21.63162756,25.37548751,22.21738222,20.58314011,24.87502824,20.03728219,25.95263264,19.28889933,20.57981887,24.71417533,20.27317074,18.41932981,23.39128187,19.84939404,21.869274,22.8056033,19.0781471,22.02720976,23.80546189,18.52510753,23.50297882,26.54986394,19.29563411,20.68899915,19.32666088,24.60532218,22.27373646,25.70196694,19.20129357,21.70181447,20.51716779,23.30355338,24.2547451,24.86374934,22.6265115,18.04185513,23.26237612,22.88330922,25.97482359,26.14384005,18.66116213,25.10787449,23.33844615,25.08239719,25.36768364,25.34217103,25.00933355,18.66746724,20.37999665,18.09300227,26.16985907,18.65396672,26.07470121,18.92851916,23.30546753,18.74826712,19.74213321,25.73044432],\"xaxis\":\"x\",\"y\":[63.69070564,71.57476937,71.59351368,57.68272924,62.69503871,57.80840636,66.50415474,66.69029010000001,62.55424820000001,66.78627406,73.4541537,68.3584573,58.84015925,65.76816093,60.200168700000006,55.28220433,70.4162444,65.26185135,60.11593810000001,62.89366992,73.80435276,71.09445342,66.65952796,58.75082029,67.22190688,68.49835977,57.48775781,71.50905983,63.10459626,63.4711755,63.1621551,55.53128131,67.99257471,61.89472002,65.61418761,74.089114,62.35750641,59.64024162,74.82913698,74.52600826,73.13112261,70.04556743,60.27766379,57.21025565,72.85462807,69.00128641,68.74248334,56.35606753,61.89082199,65.47050802,65.34583901,56.73426469,63.91281869,64.23580251,61.74427165,61.24500053,61.91044947,56.50768935,69.02298571,65.35549924,59.24537979,69.0276233,61.32026065,72.89187265,69.63481219,59.4375337,68.03449300000001,73.58868502,59.52193158,61.33450447,68.30578978,60.47470519,59.21235483,73.62548442,55.64709899,65.7420046,65.77472881,60.61494304,72.33125523,71.59722446,69.36385721,66.20569924,61.55327249,55.97732754,59.24580604,65.92195844,72.52054555,63.31801994,67.816568,71.516474,63.73849998,72.61024172,71.96246617,61.37879671,59.37147589,72.80086137,63.24648023,62.49878458,59.66263104,70.74739256],\"yaxis\":\"y\"},{\"hovertemplate\":\"label=lentil<br>temperature=%{x}<br>humidity=%{y}<extra></extra>\",\"legendgroup\":\"lentil\",\"marker\":{\"color\":\"#00cc96\",\"symbol\":\"square\"},\"mode\":\"markers\",\"name\":\"lentil\",\"orientation\":\"v\",\"showlegend\":true,\"type\":\"scatter\",\"x\":[28.05153602,19.44084326,29.84823072,21.36383757,26.28663931,22.17499963,26.57597546,26.58972517,19.1345771,28.75273118,25.78746268,23.89271875,28.67408774,28.42062847,21.35499456,21.12695586,24.02037872,25.40474421,29.03017561,20.21368219,29.19585548,18.29783597,27.41434987,24.84063998,29.94413861,25.87990287,20.0467711,22.99451999,25.13163619,28.49584395,18.28766124,24.38041875,21.31852148,18.54141834,25.28710601,25.43459777,28.83600962,27.37659643,28.31886863,27.4818649,18.28072173,27.61204997,23.43974653,20.95628486,23.7937153,22.6371424,21.53577883,29.87854588,25.2653291,25.17885316,24.12192608,23.33565221,21.74600081,27.60195453,24.388717,24.98287462,28.234829,26.03026959,28.04849594,24.87425505,23.97081395,20.06003985,19.59221047,29.77013109,27.52135365,25.62896213,20.39078312,25.39038396,24.91079638,27.70496805,18.06486101,18.13027797,23.82723528,23.19305333,25.08966129,25.86928193,18.43966037,27.14911056,23.33375853,26.7230014,19.55750776,26.13708256,27.99990346,29.05941162,25.71269843,21.79792649,24.70626432,20.94981756,24.84918386,21.91041045,25.93381964,29.82112112,27.52185591,27.99627907,20.76774783,23.05276444,21.65845777,26.25070298,20.97195263,23.89736406],\"xaxis\":\"x\",\"y\":[63.49802189,63.27771461,60.63872613,69.92375891,68.51966729,62.13873825,60.97876599,66.14007674,62.57526895,69.15640149,60.2816298,61.78779413,63.18832976,61.77336343,62.60136323,63.18738532,61.62313345,65.8567539,64.49166566,68.65257685,68.01965728,69.6897615,63.41785982,60.09116626,67.31323084,67.55109024,65.84395319,66.70897237,66.92642362,62.44616219,69.48515056,61.18458224,66.43934593,62.70637578,60.85993533,69.12613376,69.76112921,63.93927841,60.19461399,62.04814951,68.10365387,69.29786244,63.22011726,63.68128841,68.03209183,65.44544859,65.47227704,65.73085206,67.10004577,68.93307305,61.09533545,67.40460704,63.39503184,63.46170674,62.50453062,66.895409,69.3159965,69.55863145,64.07691942,64.00213929,62.35557553,67.76252583,61.28633405,66.29327012,60.53657684,63.14909763,60.47528931,60.4989659,60.71367427,63.20915034,65.1034354,62.45851612,67.89815262,62.74710773,68.17543102,61.88321072,68.05394959,67.02664337,64.50515776,62.96841833,64.45268309,66.7729209,65.57653373,62.10652364,64.1123333,63.73086065,60.26854183,65.8108757,68.98088448,65.21662467,68.70533022,69.4073209,63.13215259,68.6428593,63.90164154,60.424786,63.58337146,67.62779652,63.83179889,66.32102048],\"yaxis\":\"y\"},{\"hovertemplate\":\"label=cotton<br>temperature=%{x}<br>humidity=%{y}<extra></extra>\",\"legendgroup\":\"cotton\",\"marker\":{\"color\":\"#ab63fa\",\"symbol\":\"x\"},\"mode\":\"markers\",\"name\":\"cotton\",\"orientation\":\"v\",\"showlegend\":true,\"type\":\"scatter\",\"x\":[24.40228894,23.09595631,23.9656349,24.88738107,25.36243778,24.69457084,25.0017188,22.45942937,23.60564038,24.58453146,23.0865933,23.5000992,24.1472953,24.69315538,24.48469200000001,24.49112609,23.47986888,24.18586246,25.00755095,25.99237426,23.66457347,25.66891439,22.04612876,22.4204752,25.03149561,23.53371386,22.77076388,25.49848236,25.248679,22.78249615,23.37044424,24.86560781,24.14386157,25.03300222,23.65724079,25.54359718,22.00085141,23.64328417,23.96436009,24.65425757,24.3017998,24.29144926,24.29470232,25.72180042,24.87663664,22.60612115,23.86814008,23.41022496,24.96440768,25.16820129,22.72767171,22.45145981,23.04920461,25.29250148,22.95604064,22.80213132,23.54234715,24.41212325,22.94276687,25.53676123,25.32023717,22.426733,25.78544484,25.68959532,22.14593688,25.07278712,22.21506982,23.9643129,25.40059227,23.7805123,24.16402322,25.31468463,22.60361557,22.9535715,22.74446976,23.80834611,25.46228792,25.96779712,25.5308271,24.43847399,23.03887865,23.51308653,22.75805656,24.71252544,23.45969093,25.5503704,22.08458267,24.68854799,25.84997269,22.46054478,23.65629976,22.00817088,24.32630461,22.92360984,23.43821725,22.10718988,23.03814028,24.54795322,23.73868041,22.31871914],\"xaxis\":\"x\",\"y\":[79.19732001,84.86275707,76.97696717,75.62137159,83.63276077,81.7358876,80.53965818,81.30681027,79.29573149,79.12404171,83.55546146,83.63488952,75.88298598,84.84422454,84.44932014,82.24415809,81.73049149,76.04203958,78.17952126,77.0543546,81.69105088,81.38103349,84.62978302,84.55794703,82.21276599,77.21705554,82.5993307,79.9751579,83.4630147,77.51235009,77.43198948,78.22080815,84.51591287,79.04368718,84.47601498,84.09229796,79.47270984,78.1258666,78.02763149,75.6350708,84.87668973,81.02453404,84.61527627,81.19666206,76.30050373,77.34264002,75.68339729,76.43836957,81.31677618,80.30351815,77.07598065,76.25674874,75.53835214,75.66653335,82.33733678,84.14668447,75.98203329,80.80343786,75.37170612,81.13668716,81.79475917,81.53480799,75.00539324,77.90621048,82.85975490000001,82.50257909,76.17851932,76.59175937,76.53237965,83.03878838,76.7433897,77.91757121,80.35090459999998,78.71555832,80.41198458,83.91902605,81.56641891,81.97904282,80.04662756,81.69801729,76.47039772,76.72621429,76.75768356,77.7293114,82.44777468,77.85055621,82.82904143,78.51206972,84.16855231,75.40989245,77.52425987,81.83896111,80.13456404,82.68738535,78.63388824,78.58320116,76.11021529,75.39752705,75.77503808,83.86129998],\"yaxis\":\"y\"},{\"hovertemplate\":\"label=jute<br>temperature=%{x}<br>humidity=%{y}<extra></extra>\",\"legendgroup\":\"jute\",\"marker\":{\"color\":\"#FFA15A\",\"symbol\":\"cross\"},\"mode\":\"markers\",\"name\":\"jute\",\"orientation\":\"v\",\"showlegend\":true,\"type\":\"scatter\",\"x\":[25.52468965,26.59104992,25.29781791,25.72100868,23.58419277,25.31042337,23.41798979,24.35564134,26.284017,25.13842773,24.88692811,25.75734909,23.12844351,24.9949957,25.21622704,24.39736241,23.31410442,25.72668885,26.96656378,23.70467146,24.90075709,23.39605743,26.8748389,23.1426498,24.29496635,24.39459498,25.7629429,25.4879684,25.37122686,26.21312799,24.30748599,23.76554749,24.79853023,23.20683504,23.66805429,25.12417673,23.89069041,23.09433785,24.21744605,24.06475727,24.85441411,26.41915161,24.89326318,23.25583402,24.7634518,24.97042599,26.12797248,25.97825807,26.2830571,26.38905406,25.2746335,23.09499564,25.79351957,23.17403323,25.63215038,25.84879500000001,26.56767277,26.24532085,26.91515043,24.36972377,25.71901283,25.01157559,25.40785911,23.28081,23.98651719,24.48556447,25.86705009,23.5643831,24.2248758,25.49386782,24.97178693,24.80624984,23.16814977,24.25133493,26.58361011,26.82489244,25.49674786,24.09874353,23.18866654,26.24347471,23.75091572,26.13871511,26.14576648,26.91643698,26.5232969,23.81579631,26.50838667,26.63952463,23.325013100000003,26.47549543,23.78756036,25.49941707,23.24925555,26.98582182,23.61475336,23.87484465,23.92887902,24.81441246,24.44743944,26.57421679],\"xaxis\":\"x\",\"y\":[72.24850829,82.94164078,86.88705350000002,88.16513579,72.00460848,72.01364411,85.08640476,88.80391021,75.14640198,83.12053888,71.91711523,88.36668522,74.68322732,88.95692783,70.88259632,79.26861738,71.4509053,81.86171563,78.21047693,74.63745355,73.84186449,72.60512854,79.78725152,74.99739774,77.62976013,89.89106506,80.76238215,84.48235878,76.2403666,81.70476368,78.54340987,87.98329901,78.53037059,74.09956958,70.89000744,85.72530641,83.46409075,81.45139295,82.85284045,71.31342851,74.44070479999998,76.85691248,77.01222585,82.7015932,87.06071115,78.62697699,80.49172597,81.65769588,73.35763537,83.31240346,73.7459581,78.45959697,81.76904006,87.88255345,79.95150917,87.81661683,80.90424543,72.97198375,73.19897535,82.11319791,79.15532398,88.33130229999998,76.44048625,74.27607475,82.09053379,83.20630007,84.09985284,79.46283115,74.89465426,86.97061481,79.47557931,82.09281674,76.66724969,89.86454053,78.00774772,78.20392774,81.13449097,80.57226761,86.20899734,78.51063754,71.14782585,79.1188943,71.23690851,73.48655995,77.17331847,80.94023552,86.84264005,70.95705996,79.79609448,73.96164569,74.36794079,75.99987588,73.65346838,89.05587886,86.14290267,86.79261344,88.07112278,81.68688879,82.286484,73.81994896],\"yaxis\":\"y\"}],                        {\"legend\":{\"title\":{\"text\":\"label\"},\"tracegroupgap\":0},\"margin\":{\"t\":60},\"plot_bgcolor\":\"white\",\"template\":{\"data\":{\"bar\":[{\"error_x\":{\"color\":\"#2a3f5f\"},\"error_y\":{\"color\":\"#2a3f5f\"},\"marker\":{\"line\":{\"color\":\"#E5ECF6\",\"width\":0.5},\"pattern\":{\"fillmode\":\"overlay\",\"size\":10,\"solidity\":0.2}},\"type\":\"bar\"}],\"barpolar\":[{\"marker\":{\"line\":{\"color\":\"#E5ECF6\",\"width\":0.5},\"pattern\":{\"fillmode\":\"overlay\",\"size\":10,\"solidity\":0.2}},\"type\":\"barpolar\"}],\"carpet\":[{\"aaxis\":{\"endlinecolor\":\"#2a3f5f\",\"gridcolor\":\"white\",\"linecolor\":\"white\",\"minorgridcolor\":\"white\",\"startlinecolor\":\"#2a3f5f\"},\"baxis\":{\"endlinecolor\":\"#2a3f5f\",\"gridcolor\":\"white\",\"linecolor\":\"white\",\"minorgridcolor\":\"white\",\"startlinecolor\":\"#2a3f5f\"},\"type\":\"carpet\"}],\"choropleth\":[{\"colorbar\":{\"outlinewidth\":0,\"ticks\":\"\"},\"type\":\"choropleth\"}],\"contour\":[{\"colorbar\":{\"outlinewidth\":0,\"ticks\":\"\"},\"colorscale\":[[0.0,\"#0d0887\"],[0.1111111111111111,\"#46039f\"],[0.2222222222222222,\"#7201a8\"],[0.3333333333333333,\"#9c179e\"],[0.4444444444444444,\"#bd3786\"],[0.5555555555555556,\"#d8576b\"],[0.6666666666666666,\"#ed7953\"],[0.7777777777777778,\"#fb9f3a\"],[0.8888888888888888,\"#fdca26\"],[1.0,\"#f0f921\"]],\"type\":\"contour\"}],\"contourcarpet\":[{\"colorbar\":{\"outlinewidth\":0,\"ticks\":\"\"},\"type\":\"contourcarpet\"}],\"heatmap\":[{\"colorbar\":{\"outlinewidth\":0,\"ticks\":\"\"},\"colorscale\":[[0.0,\"#0d0887\"],[0.1111111111111111,\"#46039f\"],[0.2222222222222222,\"#7201a8\"],[0.3333333333333333,\"#9c179e\"],[0.4444444444444444,\"#bd3786\"],[0.5555555555555556,\"#d8576b\"],[0.6666666666666666,\"#ed7953\"],[0.7777777777777778,\"#fb9f3a\"],[0.8888888888888888,\"#fdca26\"],[1.0,\"#f0f921\"]],\"type\":\"heatmap\"}],\"heatmapgl\":[{\"colorbar\":{\"outlinewidth\":0,\"ticks\":\"\"},\"colorscale\":[[0.0,\"#0d0887\"],[0.1111111111111111,\"#46039f\"],[0.2222222222222222,\"#7201a8\"],[0.3333333333333333,\"#9c179e\"],[0.4444444444444444,\"#bd3786\"],[0.5555555555555556,\"#d8576b\"],[0.6666666666666666,\"#ed7953\"],[0.7777777777777778,\"#fb9f3a\"],[0.8888888888888888,\"#fdca26\"],[1.0,\"#f0f921\"]],\"type\":\"heatmapgl\"}],\"histogram\":[{\"marker\":{\"pattern\":{\"fillmode\":\"overlay\",\"size\":10,\"solidity\":0.2}},\"type\":\"histogram\"}],\"histogram2d\":[{\"colorbar\":{\"outlinewidth\":0,\"ticks\":\"\"},\"colorscale\":[[0.0,\"#0d0887\"],[0.1111111111111111,\"#46039f\"],[0.2222222222222222,\"#7201a8\"],[0.3333333333333333,\"#9c179e\"],[0.4444444444444444,\"#bd3786\"],[0.5555555555555556,\"#d8576b\"],[0.6666666666666666,\"#ed7953\"],[0.7777777777777778,\"#fb9f3a\"],[0.8888888888888888,\"#fdca26\"],[1.0,\"#f0f921\"]],\"type\":\"histogram2d\"}],\"histogram2dcontour\":[{\"colorbar\":{\"outlinewidth\":0,\"ticks\":\"\"},\"colorscale\":[[0.0,\"#0d0887\"],[0.1111111111111111,\"#46039f\"],[0.2222222222222222,\"#7201a8\"],[0.3333333333333333,\"#9c179e\"],[0.4444444444444444,\"#bd3786\"],[0.5555555555555556,\"#d8576b\"],[0.6666666666666666,\"#ed7953\"],[0.7777777777777778,\"#fb9f3a\"],[0.8888888888888888,\"#fdca26\"],[1.0,\"#f0f921\"]],\"type\":\"histogram2dcontour\"}],\"mesh3d\":[{\"colorbar\":{\"outlinewidth\":0,\"ticks\":\"\"},\"type\":\"mesh3d\"}],\"parcoords\":[{\"line\":{\"colorbar\":{\"outlinewidth\":0,\"ticks\":\"\"}},\"type\":\"parcoords\"}],\"pie\":[{\"automargin\":true,\"type\":\"pie\"}],\"scatter\":[{\"marker\":{\"colorbar\":{\"outlinewidth\":0,\"ticks\":\"\"}},\"type\":\"scatter\"}],\"scatter3d\":[{\"line\":{\"colorbar\":{\"outlinewidth\":0,\"ticks\":\"\"}},\"marker\":{\"colorbar\":{\"outlinewidth\":0,\"ticks\":\"\"}},\"type\":\"scatter3d\"}],\"scattercarpet\":[{\"marker\":{\"colorbar\":{\"outlinewidth\":0,\"ticks\":\"\"}},\"type\":\"scattercarpet\"}],\"scattergeo\":[{\"marker\":{\"colorbar\":{\"outlinewidth\":0,\"ticks\":\"\"}},\"type\":\"scattergeo\"}],\"scattergl\":[{\"marker\":{\"colorbar\":{\"outlinewidth\":0,\"ticks\":\"\"}},\"type\":\"scattergl\"}],\"scattermapbox\":[{\"marker\":{\"colorbar\":{\"outlinewidth\":0,\"ticks\":\"\"}},\"type\":\"scattermapbox\"}],\"scatterpolar\":[{\"marker\":{\"colorbar\":{\"outlinewidth\":0,\"ticks\":\"\"}},\"type\":\"scatterpolar\"}],\"scatterpolargl\":[{\"marker\":{\"colorbar\":{\"outlinewidth\":0,\"ticks\":\"\"}},\"type\":\"scatterpolargl\"}],\"scatterternary\":[{\"marker\":{\"colorbar\":{\"outlinewidth\":0,\"ticks\":\"\"}},\"type\":\"scatterternary\"}],\"surface\":[{\"colorbar\":{\"outlinewidth\":0,\"ticks\":\"\"},\"colorscale\":[[0.0,\"#0d0887\"],[0.1111111111111111,\"#46039f\"],[0.2222222222222222,\"#7201a8\"],[0.3333333333333333,\"#9c179e\"],[0.4444444444444444,\"#bd3786\"],[0.5555555555555556,\"#d8576b\"],[0.6666666666666666,\"#ed7953\"],[0.7777777777777778,\"#fb9f3a\"],[0.8888888888888888,\"#fdca26\"],[1.0,\"#f0f921\"]],\"type\":\"surface\"}],\"table\":[{\"cells\":{\"fill\":{\"color\":\"#EBF0F8\"},\"line\":{\"color\":\"white\"}},\"header\":{\"fill\":{\"color\":\"#C8D4E3\"},\"line\":{\"color\":\"white\"}},\"type\":\"table\"}]},\"layout\":{\"annotationdefaults\":{\"arrowcolor\":\"#2a3f5f\",\"arrowhead\":0,\"arrowwidth\":1},\"autotypenumbers\":\"strict\",\"coloraxis\":{\"colorbar\":{\"outlinewidth\":0,\"ticks\":\"\"}},\"colorscale\":{\"diverging\":[[0,\"#8e0152\"],[0.1,\"#c51b7d\"],[0.2,\"#de77ae\"],[0.3,\"#f1b6da\"],[0.4,\"#fde0ef\"],[0.5,\"#f7f7f7\"],[0.6,\"#e6f5d0\"],[0.7,\"#b8e186\"],[0.8,\"#7fbc41\"],[0.9,\"#4d9221\"],[1,\"#276419\"]],\"sequential\":[[0.0,\"#0d0887\"],[0.1111111111111111,\"#46039f\"],[0.2222222222222222,\"#7201a8\"],[0.3333333333333333,\"#9c179e\"],[0.4444444444444444,\"#bd3786\"],[0.5555555555555556,\"#d8576b\"],[0.6666666666666666,\"#ed7953\"],[0.7777777777777778,\"#fb9f3a\"],[0.8888888888888888,\"#fdca26\"],[1.0,\"#f0f921\"]],\"sequentialminus\":[[0.0,\"#0d0887\"],[0.1111111111111111,\"#46039f\"],[0.2222222222222222,\"#7201a8\"],[0.3333333333333333,\"#9c179e\"],[0.4444444444444444,\"#bd3786\"],[0.5555555555555556,\"#d8576b\"],[0.6666666666666666,\"#ed7953\"],[0.7777777777777778,\"#fb9f3a\"],[0.8888888888888888,\"#fdca26\"],[1.0,\"#f0f921\"]]},\"colorway\":[\"#636efa\",\"#EF553B\",\"#00cc96\",\"#ab63fa\",\"#FFA15A\",\"#19d3f3\",\"#FF6692\",\"#B6E880\",\"#FF97FF\",\"#FECB52\"],\"font\":{\"color\":\"#2a3f5f\"},\"geo\":{\"bgcolor\":\"white\",\"lakecolor\":\"white\",\"landcolor\":\"#E5ECF6\",\"showlakes\":true,\"showland\":true,\"subunitcolor\":\"white\"},\"hoverlabel\":{\"align\":\"left\"},\"hovermode\":\"closest\",\"mapbox\":{\"style\":\"light\"},\"paper_bgcolor\":\"white\",\"plot_bgcolor\":\"#E5ECF6\",\"polar\":{\"angularaxis\":{\"gridcolor\":\"white\",\"linecolor\":\"white\",\"ticks\":\"\"},\"bgcolor\":\"#E5ECF6\",\"radialaxis\":{\"gridcolor\":\"white\",\"linecolor\":\"white\",\"ticks\":\"\"}},\"scene\":{\"xaxis\":{\"backgroundcolor\":\"#E5ECF6\",\"gridcolor\":\"white\",\"gridwidth\":2,\"linecolor\":\"white\",\"showbackground\":true,\"ticks\":\"\",\"zerolinecolor\":\"white\"},\"yaxis\":{\"backgroundcolor\":\"#E5ECF6\",\"gridcolor\":\"white\",\"gridwidth\":2,\"linecolor\":\"white\",\"showbackground\":true,\"ticks\":\"\",\"zerolinecolor\":\"white\"},\"zaxis\":{\"backgroundcolor\":\"#E5ECF6\",\"gridcolor\":\"white\",\"gridwidth\":2,\"linecolor\":\"white\",\"showbackground\":true,\"ticks\":\"\",\"zerolinecolor\":\"white\"}},\"shapedefaults\":{\"line\":{\"color\":\"#2a3f5f\"}},\"ternary\":{\"aaxis\":{\"gridcolor\":\"white\",\"linecolor\":\"white\",\"ticks\":\"\"},\"baxis\":{\"gridcolor\":\"white\",\"linecolor\":\"white\",\"ticks\":\"\"},\"bgcolor\":\"#E5ECF6\",\"caxis\":{\"gridcolor\":\"white\",\"linecolor\":\"white\",\"ticks\":\"\"}},\"title\":{\"x\":0.05},\"xaxis\":{\"automargin\":true,\"gridcolor\":\"white\",\"linecolor\":\"white\",\"ticks\":\"\",\"title\":{\"standoff\":15},\"zerolinecolor\":\"white\",\"zerolinewidth\":2},\"yaxis\":{\"automargin\":true,\"gridcolor\":\"white\",\"linecolor\":\"white\",\"ticks\":\"\",\"title\":{\"standoff\":15},\"zerolinecolor\":\"white\",\"zerolinewidth\":2}}},\"xaxis\":{\"anchor\":\"y\",\"domain\":[0.0,1.0],\"showgrid\":false,\"title\":{\"text\":\"temperature\"}},\"yaxis\":{\"anchor\":\"x\",\"domain\":[0.0,1.0],\"showgrid\":false,\"title\":{\"text\":\"humidity\"}}},                        {\"responsive\": true}                    ).then(function(){\n",
       "                            \n",
       "var gd = document.getElementById('3cfbab32-c6fc-493f-af0c-2b47cbae2b37');\n",
       "var x = new MutationObserver(function (mutations, observer) {{\n",
       "        var display = window.getComputedStyle(gd).display;\n",
       "        if (!display || display === 'none') {{\n",
       "            console.log([gd, 'removed!']);\n",
       "            Plotly.purge(gd);\n",
       "            observer.disconnect();\n",
       "        }}\n",
       "}});\n",
       "\n",
       "// Listen for the removal of the full notebook cells\n",
       "var notebookContainer = gd.closest('#notebook-container');\n",
       "if (notebookContainer) {{\n",
       "    x.observe(notebookContainer, {childList: true});\n",
       "}}\n",
       "\n",
       "// Listen for the clearing of the current output cell\n",
       "var outputEl = gd.closest('.output');\n",
       "if (outputEl) {{\n",
       "    x.observe(outputEl, {childList: true});\n",
       "}}\n",
       "\n",
       "                        })                };                });            </script>        </div>"
      ]
     },
     "metadata": {},
     "output_type": "display_data"
    }
   ],
   "source": [
    "crop_scatter = cropdf[(cropdf['label']=='rice') | \n",
    "                      (cropdf['label']=='jute') | \n",
    "                      (cropdf['label']=='cotton') |\n",
    "                     (cropdf['label']=='maize') |\n",
    "                     (cropdf['label']=='lentil')]\n",
    "\n",
    "fig = px.scatter(crop_scatter, x=\"temperature\", y=\"humidity\", color=\"label\", symbol=\"label\")\n",
    "fig.update_layout(plot_bgcolor='white')\n",
    "fig.update_xaxes(showgrid=False)\n",
    "fig.update_yaxes(showgrid=False)\n",
    "\n",
    "fig.show()"
   ]
  },
  {
   "cell_type": "code",
   "execution_count": 41,
   "id": "1662b92c",
   "metadata": {},
   "outputs": [
    {
     "data": {
      "image/png": "[encoded data removed]",
      "text/plain": [
       "<Figure size 1080x648 with 2 Axes>"
      ]
     },
     "metadata": {
      "needs_background": "light"
     },
     "output_type": "display_data"
    }
   ],
   "source": [
    "fig, ax = plt.subplots(1, 1, figsize=(15, 9))\n",
    "sns.heatmap(cropdf.corr(), annot=True,cmap='Wistia' )\n",
    "ax.set(xlabel='features')\n",
    "ax.set(ylabel='features')\n",
    "plt.title('Correlation between different features', fontsize = 15, c='black')\n",
    "plt.show()"
   ]
  },
  {
   "cell_type": "code",
   "execution_count": 42,
   "id": "240cb052",
   "metadata": {},
   "outputs": [],
   "source": [
    "X = cropdf.drop('label', axis=1)\n",
    "y = cropdf['label']"
   ]
  },
  {
   "cell_type": "code",
   "execution_count": 43,
   "id": "9d7d6891",
   "metadata": {},
   "outputs": [],
   "source": [
    "from sklearn.model_selection import train_test_split\n",
    "X_train, X_test, y_train, y_test = train_test_split(X, y, test_size = 0.3,\n",
    "                                                    shuffle = True, random_state = 0)"
   ]
  },
  {
   "cell_type": "code",
   "execution_count": 49,
   "id": "851afcc2",
   "metadata": {},
   "outputs": [
    {
     "data": {
      "text/plain": [
       "LGBMClassifier()"
      ]
     },
     "execution_count": 49,
     "metadata": {},
     "output_type": "execute_result"
    }
   ],
   "source": [
    "# build the lightgbm model\n",
    "import lightgbm as lgb\n",
    "\n",
    "model = lgb.LGBMClassifier()\n",
    "model.fit(X_train, y_train)"
   ]
  },
  {
   "cell_type": "code",
   "execution_count": 50,
   "id": "662de4fa",
   "metadata": {},
   "outputs": [],
   "source": [
    "y_pred=model.predict(X_test)"
   ]
  },
  {
   "cell_type": "code",
   "execution_count": 51,
   "id": "fd3a4059",
   "metadata": {},
   "outputs": [
    {
     "name": "stdout",
     "output_type": "stream",
     "text": [
      "LightGBM Model accuracy score: 0.9894\n"
     ]
    }
   ],
   "source": [
    "# view accuracy\n",
    "from sklearn.metrics import accuracy_score\n",
    "\n",
    "accuracy=accuracy_score(y_pred, y_test)\n",
    "print('LightGBM Model accuracy score: {0:0.4f}'.format(accuracy_score(y_test, y_pred)))"
   ]
  },
  {
   "cell_type": "code",
   "execution_count": 52,
   "id": "ef87618c",
   "metadata": {},
   "outputs": [
    {
     "name": "stdout",
     "output_type": "stream",
     "text": [
      "Training-set accuracy score: 1.0000\n"
     ]
    }
   ],
   "source": [
    "y_pred_train = model.predict(X_train)\n",
    "print('Training-set accuracy score: {0:0.4f}'. format(accuracy_score(y_train, y_pred_train)))"
   ]
  },
  {
   "cell_type": "code",
   "execution_count": 53,
   "id": "30748eac",
   "metadata": {},
   "outputs": [
    {
     "name": "stdout",
     "output_type": "stream",
     "text": [
      "Training set score: 1.0000\n",
      "Test set score: 0.9894\n"
     ]
    }
   ],
   "source": [
    "# print the scores on training and test set\n",
    "\n",
    "print('Training set score: {:.4f}'.format(model.score(X_train, y_train)))\n",
    "print('Test set score: {:.4f}'.format(model.score(X_test, y_test)))"
   ]
  },
  {
   "cell_type": "code",
   "execution_count": 54,
   "id": "75f78a91",
   "metadata": {},
   "outputs": [
    {
     "data": {
      "image/png": "[encoded data removed]",
      "text/plain": [
       "<Figure size 1080x1080 with 2 Axes>"
      ]
     },
     "metadata": {
      "needs_background": "light"
     },
     "output_type": "display_data"
    }
   ],
   "source": [
    "# view confusion-matrix\n",
    "# Print the Confusion Matrix and slice it into four pieces\n",
    "\n",
    "from sklearn.metrics import confusion_matrix\n",
    "cm = confusion_matrix(y_test, y_pred)\n",
    "plt.figure(figsize=(15,15))\n",
    "sns.heatmap(cm, annot=True, fmt=\".0f\", linewidths=.5, square = True, cmap = 'Blues');\n",
    "plt.ylabel('Actual label');\n",
    "plt.xlabel('Predicted label');\n",
    "all_sample_title = 'Confusion Matrix - score:'+str(accuracy_score(y_test,y_pred))\n",
    "plt.title(all_sample_title, size = 15);\n",
    "plt.show()"
   ]
  },
  {
   "cell_type": "code",
   "execution_count": 55,
   "id": "e57c1931",
   "metadata": {},
   "outputs": [
    {
     "name": "stdout",
     "output_type": "stream",
     "text": [
      "              precision    recall  f1-score   support\n",
      "\n",
      "       apple       1.00      1.00      1.00        28\n",
      "      banana       1.00      1.00      1.00        30\n",
      "   blackgram       1.00      1.00      1.00        31\n",
      "    chickpea       1.00      1.00      1.00        34\n",
      "     coconut       1.00      1.00      1.00        26\n",
      "      coffee       1.00      0.93      0.96        29\n",
      "      cotton       0.97      1.00      0.98        28\n",
      "      grapes       1.00      1.00      1.00        30\n",
      "        jute       0.97      0.94      0.95        31\n",
      " kidneybeans       1.00      1.00      1.00        26\n",
      "      lentil       1.00      0.95      0.98        22\n",
      "       maize       0.93      0.96      0.95        27\n",
      "       mango       1.00      1.00      1.00        28\n",
      "   mothbeans       0.97      1.00      0.99        36\n",
      "    mungbean       1.00      1.00      1.00        29\n",
      "   muskmelon       1.00      1.00      1.00        30\n",
      "      orange       1.00      1.00      1.00        34\n",
      "      papaya       1.00      1.00      1.00        39\n",
      "  pigeonpeas       1.00      1.00      1.00        28\n",
      " pomegranate       1.00      1.00      1.00        32\n",
      "        rice       0.95      0.97      0.96        37\n",
      "  watermelon       1.00      1.00      1.00        25\n",
      "\n",
      "    accuracy                           0.99       660\n",
      "   macro avg       0.99      0.99      0.99       660\n",
      "weighted avg       0.99      0.99      0.99       660\n",
      "\n"
     ]
    }
   ],
   "source": [
    "from sklearn.metrics import classification_report\n",
    "print(classification_report(y_test, y_pred))"
   ]
  },
  {
   "cell_type": "code",
   "execution_count": 56,
   "id": "9ce33e55",
   "metadata": {},
   "outputs": [
    {
     "data": {
      "text/plain": [
       "array(['rice'], dtype=object)"
      ]
     },
     "execution_count": 56,
     "metadata": {},
     "output_type": "execute_result"
    }
   ],
   "source": [
    "newdata=model.predict([[90, 42, 43, 20.879744, 75, 5.5,220]])\n",
    "newdata"
   ]
  },
  {
   "cell_type": "code",
   "execution_count": 57,
   "id": "790a6b73",
   "metadata": {},
   "outputs": [
    {
     "data": {
      "text/plain": [
       "array(['watermelon', 'watermelon', 'grapes', 'chickpea', 'blackgram',\n",
       "       'rice', 'mothbeans', 'kidneybeans', 'muskmelon', 'banana',\n",
       "       'mothbeans', 'coffee', 'lentil', 'mungbean', 'mango', 'apple',\n",
       "       'coffee', 'lentil', 'maize', 'mango', 'coconut', 'blackgram',\n",
       "       'kidneybeans', 'jute', 'cotton', 'coffee', 'lentil', 'orange',\n",
       "       'mothbeans', 'kidneybeans', 'pomegranate', 'rice', 'maize',\n",
       "       'muskmelon', 'coconut', 'cotton', 'mango', 'mango', 'watermelon',\n",
       "       'mothbeans', 'maize', 'blackgram', 'pigeonpeas', 'watermelon',\n",
       "       'pigeonpeas', 'mungbean', 'kidneybeans', 'kidneybeans', 'cotton',\n",
       "       'mungbean', 'mothbeans', 'blackgram', 'apple', 'muskmelon',\n",
       "       'pigeonpeas', 'banana', 'papaya', 'mango', 'lentil', 'cotton',\n",
       "       'orange', 'mungbean', 'watermelon', 'rice', 'muskmelon', 'apple',\n",
       "       'grapes', 'coffee', 'apple', 'orange', 'coconut', 'pomegranate',\n",
       "       'kidneybeans', 'maize', 'grapes', 'mothbeans', 'chickpea', 'maize',\n",
       "       'jute', 'mango', 'rice', 'blackgram', 'watermelon', 'watermelon',\n",
       "       'muskmelon', 'cotton', 'maize', 'lentil', 'mothbeans', 'papaya',\n",
       "       'blackgram', 'jute', 'mungbean', 'grapes', 'mungbean', 'maize',\n",
       "       'coffee', 'jute', 'lentil', 'chickpea', 'orange', 'jute',\n",
       "       'mungbean', 'banana', 'banana', 'rice', 'watermelon', 'coffee',\n",
       "       'pigeonpeas', 'muskmelon', 'muskmelon', 'mango', 'coffee',\n",
       "       'grapes', 'orange', 'pomegranate', 'mungbean', 'lentil', 'maize',\n",
       "       'jute', 'pomegranate', 'lentil', 'orange', 'chickpea', 'chickpea',\n",
       "       'blackgram', 'pomegranate', 'orange', 'chickpea', 'papaya',\n",
       "       'mothbeans', 'mothbeans', 'muskmelon', 'mungbean', 'maize',\n",
       "       'mungbean', 'coconut', 'pomegranate', 'orange', 'blackgram',\n",
       "       'blackgram', 'grapes', 'apple', 'coffee', 'chickpea', 'apple',\n",
       "       'jute', 'mango', 'watermelon', 'papaya', 'orange', 'coconut',\n",
       "       'mothbeans', 'banana', 'pomegranate', 'chickpea', 'watermelon',\n",
       "       'blackgram', 'apple', 'jute', 'lentil', 'pigeonpeas', 'jute',\n",
       "       'kidneybeans', 'kidneybeans', 'muskmelon', 'rice', 'muskmelon',\n",
       "       'banana', 'orange', 'pigeonpeas', 'apple', 'mothbeans', 'coconut',\n",
       "       'cotton', 'mungbean', 'kidneybeans', 'pomegranate', 'papaya',\n",
       "       'orange', 'rice', 'papaya', 'papaya', 'pigeonpeas', 'kidneybeans',\n",
       "       'banana', 'coconut', 'pigeonpeas', 'rice', 'papaya', 'maize',\n",
       "       'jute', 'mothbeans', 'rice', 'maize', 'coffee', 'pigeonpeas',\n",
       "       'coconut', 'chickpea', 'mango', 'coconut', 'pomegranate', 'maize',\n",
       "       'mothbeans', 'mothbeans', 'orange', 'muskmelon', 'maize',\n",
       "       'pigeonpeas', 'banana', 'chickpea', 'blackgram', 'pigeonpeas',\n",
       "       'orange', 'mothbeans', 'mungbean', 'mango', 'papaya', 'muskmelon',\n",
       "       'pomegranate', 'rice', 'rice', 'blackgram', 'papaya', 'blackgram',\n",
       "       'coffee', 'maize', 'maize', 'orange', 'rice', 'mothbeans',\n",
       "       'mungbean', 'orange', 'kidneybeans', 'pomegranate', 'coconut',\n",
       "       'mango', 'mungbean', 'cotton', 'rice', 'chickpea', 'mungbean',\n",
       "       'apple', 'pigeonpeas', 'blackgram', 'rice', 'watermelon',\n",
       "       'blackgram', 'pomegranate', 'orange', 'maize', 'grapes',\n",
       "       'chickpea', 'pigeonpeas', 'jute', 'papaya', 'pomegranate',\n",
       "       'coffee', 'mango', 'mothbeans', 'jute', 'watermelon',\n",
       "       'pomegranate', 'rice', 'grapes', 'coconut', 'jute', 'lentil',\n",
       "       'chickpea', 'coffee', 'coffee', 'papaya', 'pomegranate', 'maize',\n",
       "       'rice', 'chickpea', 'pigeonpeas', 'orange', 'pomegranate',\n",
       "       'pigeonpeas', 'coconut', 'kidneybeans', 'pomegranate', 'muskmelon',\n",
       "       'mothbeans', 'mango', 'lentil', 'banana', 'blackgram', 'mango',\n",
       "       'kidneybeans', 'mango', 'cotton', 'mungbean', 'papaya', 'grapes',\n",
       "       'grapes', 'pigeonpeas', 'papaya', 'jute', 'rice', 'chickpea',\n",
       "       'muskmelon', 'coffee', 'watermelon', 'rice', 'jute', 'papaya',\n",
       "       'grapes', 'muskmelon', 'blackgram', 'mothbeans', 'mothbeans',\n",
       "       'chickpea', 'blackgram', 'mango', 'banana', 'mango', 'pomegranate',\n",
       "       'jute', 'orange', 'muskmelon', 'chickpea', 'lentil', 'cotton',\n",
       "       'papaya', 'grapes', 'kidneybeans', 'lentil', 'apple', 'rice',\n",
       "       'muskmelon', 'apple', 'papaya', 'blackgram', 'jute', 'chickpea',\n",
       "       'mothbeans', 'lentil', 'grapes', 'jute', 'kidneybeans',\n",
       "       'muskmelon', 'papaya', 'grapes', 'papaya', 'rice', 'coffee',\n",
       "       'muskmelon', 'mothbeans', 'banana', 'papaya', 'orange',\n",
       "       'kidneybeans', 'watermelon', 'pigeonpeas', 'apple', 'watermelon',\n",
       "       'watermelon', 'pigeonpeas', 'kidneybeans', 'mothbeans',\n",
       "       'kidneybeans', 'jute', 'coconut', 'cotton', 'kidneybeans',\n",
       "       'orange', 'cotton', 'pigeonpeas', 'pomegranate', 'cotton',\n",
       "       'cotton', 'apple', 'cotton', 'apple', 'orange', 'maize', 'grapes',\n",
       "       'banana', 'apple', 'mothbeans', 'rice', 'kidneybeans', 'banana',\n",
       "       'rice', 'lentil', 'chickpea', 'pomegranate', 'banana', 'chickpea',\n",
       "       'muskmelon', 'pomegranate', 'apple', 'lentil', 'muskmelon',\n",
       "       'orange', 'blackgram', 'muskmelon', 'mothbeans', 'mango',\n",
       "       'chickpea', 'pomegranate', 'mango', 'chickpea', 'coconut',\n",
       "       'muskmelon', 'banana', 'pigeonpeas', 'papaya', 'jute', 'mothbeans',\n",
       "       'cotton', 'rice', 'banana', 'coconut', 'rice', 'blackgram',\n",
       "       'maize', 'orange', 'watermelon', 'rice', 'apple', 'grapes',\n",
       "       'pigeonpeas', 'grapes', 'chickpea', 'mango', 'jute', 'pomegranate',\n",
       "       'maize', 'mango', 'grapes', 'banana', 'mungbean', 'pigeonpeas',\n",
       "       'banana', 'cotton', 'blackgram', 'apple', 'apple', 'jute', 'jute',\n",
       "       'watermelon', 'chickpea', 'banana', 'pomegranate', 'banana',\n",
       "       'kidneybeans', 'grapes', 'maize', 'coffee', 'cotton', 'jute',\n",
       "       'grapes', 'coffee', 'mungbean', 'blackgram', 'jute', 'orange',\n",
       "       'pigeonpeas', 'pigeonpeas', 'muskmelon', 'mothbeans', 'watermelon',\n",
       "       'mungbean', 'watermelon', 'papaya', 'mungbean', 'mungbean',\n",
       "       'mungbean', 'pomegranate', 'orange', 'mothbeans', 'apple',\n",
       "       'coffee', 'coconut', 'maize', 'coconut', 'grapes', 'grapes',\n",
       "       'chickpea', 'chickpea', 'mango', 'kidneybeans', 'papaya', 'orange',\n",
       "       'mungbean', 'papaya', 'pigeonpeas', 'blackgram', 'papaya',\n",
       "       'muskmelon', 'blackgram', 'banana', 'rice', 'coffee', 'cotton',\n",
       "       'grapes', 'jute', 'chickpea', 'muskmelon', 'banana', 'grapes',\n",
       "       'watermelon', 'muskmelon', 'pigeonpeas', 'rice', 'pigeonpeas',\n",
       "       'cotton', 'watermelon', 'pomegranate', 'coffee', 'coconut',\n",
       "       'maize', 'rice', 'mungbean', 'kidneybeans', 'watermelon',\n",
       "       'mungbean', 'apple', 'apple', 'watermelon', 'banana', 'mothbeans',\n",
       "       'mungbean', 'apple', 'mungbean', 'cotton', 'rice', 'papaya',\n",
       "       'cotton', 'papaya', 'chickpea', 'apple', 'pomegranate',\n",
       "       'mothbeans', 'jute', 'blackgram', 'mango', 'orange', 'jute',\n",
       "       'banana', 'papaya', 'coffee', 'cotton', 'mango', 'coffee',\n",
       "       'coconut', 'pomegranate', 'cotton', 'grapes', 'blackgram',\n",
       "       'chickpea', 'jute', 'chickpea', 'papaya', 'orange', 'cotton',\n",
       "       'banana', 'blackgram', 'muskmelon', 'papaya', 'apple', 'orange',\n",
       "       'pomegranate', 'maize', 'pigeonpeas', 'papaya', 'mango',\n",
       "       'pomegranate', 'papaya', 'grapes', 'rice', 'cotton', 'jute',\n",
       "       'mothbeans', 'lentil', 'mothbeans', 'kidneybeans', 'banana',\n",
       "       'mothbeans', 'apple', 'mothbeans', 'watermelon', 'coconut',\n",
       "       'chickpea', 'lentil', 'kidneybeans', 'mothbeans', 'grapes',\n",
       "       'grapes', 'orange', 'rice', 'blackgram', 'banana', 'cotton',\n",
       "       'maize', 'lentil', 'rice', 'rice', 'coconut', 'mothbeans',\n",
       "       'cotton', 'coffee', 'papaya', 'coffee', 'mungbean', 'mungbean',\n",
       "       'orange', 'pomegranate', 'chickpea', 'lentil', 'maize', 'mango',\n",
       "       'orange', 'coffee', 'rice', 'papaya', 'papaya', 'coconut', 'rice',\n",
       "       'cotton', 'mothbeans', 'coconut', 'rice', 'grapes', 'apple',\n",
       "       'banana', 'coconut', 'banana', 'maize', 'mango', 'papaya',\n",
       "       'papaya', 'rice', 'papaya', 'muskmelon', 'cotton', 'lentil',\n",
       "       'kidneybeans', 'blackgram', 'coffee', 'rice', 'orange', 'coconut',\n",
       "       'banana', 'blackgram', 'apple', 'maize', 'mango', 'chickpea',\n",
       "       'coconut', 'muskmelon', 'coffee', 'pomegranate', 'orange',\n",
       "       'grapes', 'papaya', 'chickpea'], dtype=object)"
      ]
     },
     "execution_count": 57,
     "metadata": {},
     "output_type": "execute_result"
    }
   ],
   "source": [
    "y_pred"
   ]
  },
  {
   "cell_type": "code",
   "execution_count": 63,
   "id": "7cd371c3",
   "metadata": {
    "scrolled": false
   },
   "outputs": [
    {
     "name": "stdout",
     "output_type": "stream",
     "text": [
      "Rainy Crop Season\n"
     ]
    }
   ],
   "source": [
    "if newdata in summerCrops:\n",
    "    print(\"Summer Crop Season\")\n",
    "elif newdata in winterCrops:\n",
    "    print(\"Winter Crop Season\")\n",
    "else:\n",
    "    print(\"Rainy Crop Season\")"
   ]
  },
  {
   "cell_type": "code",
   "execution_count": null,
   "id": "15ba27ca",
   "metadata": {},
   "outputs": [],
   "source": []
  }
 ],
 "metadata": {
  "kernelspec": {
   "display_name": "Python 3",
   "language": "python",
   "name": "python3"
  },
  "language_info": {
   "codemirror_mode": {
    "name": "ipython",
    "version": 3
   },
   "file_extension": ".py",
   "mimetype": "text/x-python",
   "name": "python",
   "nbconvert_exporter": "python",
   "pygments_lexer": "ipython3",
   "version": "3.7.9"
  }
 },
 "nbformat": 4,
 "nbformat_minor": 5
}
